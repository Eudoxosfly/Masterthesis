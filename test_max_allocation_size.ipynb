{
 "cells": [
  {
   "cell_type": "code",
   "id": "5dc8faaf59bf649",
   "metadata": {
    "ExecuteTime": {
     "end_time": "2024-09-18T19:37:14.379289Z",
     "start_time": "2024-09-18T19:37:13.988203Z"
    }
   },
   "source": [
    "import pyclesperanto as cle\n",
    "import numpy as np\n",
    "cle.select_device('RTX')\n"
   ],
   "outputs": [
    {
     "data": {
      "text/plain": [
       "(OpenCL) NVIDIA GeForce RTX 4070 SUPER (OpenCL 3.0 CUDA)\n",
       "\tVendor:                      NVIDIA Corporation\n",
       "\tDriver Version:              560.70\n",
       "\tDevice Type:                 GPU\n",
       "\tCompute Units:               56\n",
       "\tGlobal Memory Size:          12281 MB\n",
       "\tMaximum Object Size:         3070 MB\n",
       "\tMax Clock Frequency:         2505 MHz\n",
       "\tImage Support:               Yes"
      ]
     },
     "execution_count": 1,
     "metadata": {},
     "output_type": "execute_result"
    }
   ],
   "execution_count": 1
  },
  {
   "metadata": {
    "collapsed": true,
    "ExecuteTime": {
     "end_time": "2024-09-18T19:42:23.701229Z",
     "start_time": "2024-09-18T19:42:21.604533Z"
    }
   },
   "cell_type": "code",
   "source": [
    "sample = np.zeros((2276, 400, 1800), np.float32)\n",
    "sample_gpu = cle.push(sample)"
   ],
   "id": "initial_id",
   "outputs": [],
   "execution_count": 25
  },
  {
   "metadata": {
    "ExecuteTime": {
     "end_time": "2024-09-18T19:42:04.519525Z",
     "start_time": "2024-09-18T19:42:04.515182Z"
    }
   },
   "cell_type": "code",
   "source": "np.sqrt(800_000_000)",
   "id": "2b362679708d4a6a",
   "outputs": [
    {
     "data": {
      "text/plain": [
       "np.float64(28284.2712474619)"
      ]
     },
     "execution_count": 21,
     "metadata": {},
     "output_type": "execute_result"
    }
   ],
   "execution_count": 21
  },
  {
   "metadata": {
    "ExecuteTime": {
     "end_time": "2024-09-18T19:41:20.567046Z",
     "start_time": "2024-09-18T19:41:20.549627Z"
    }
   },
   "cell_type": "code",
   "source": "del sample_gpu",
   "id": "3ab1c282635fb11c",
   "outputs": [],
   "execution_count": 15
  },
  {
   "metadata": {
    "ExecuteTime": {
     "end_time": "2024-09-18T19:42:26.976378Z",
     "start_time": "2024-09-18T19:42:26.918346Z"
    }
   },
   "cell_type": "code",
   "source": "!nvidia-smi --query-gpu=memory.used --format=csv",
   "id": "2bca81c19d82d925",
   "outputs": [
    {
     "name": "stdout",
     "output_type": "stream",
     "text": [
      "memory.used [MiB]\n",
      "6473 MiB\n"
     ]
    }
   ],
   "execution_count": 26
  }
 ],
 "metadata": {
  "kernelspec": {
   "display_name": "Python 3",
   "language": "python",
   "name": "python3"
  },
  "language_info": {
   "codemirror_mode": {
    "name": "ipython",
    "version": 2
   },
   "file_extension": ".py",
   "mimetype": "text/x-python",
   "name": "python",
   "nbconvert_exporter": "python",
   "pygments_lexer": "ipython2",
   "version": "2.7.6"
  }
 },
 "nbformat": 4,
 "nbformat_minor": 5
}
