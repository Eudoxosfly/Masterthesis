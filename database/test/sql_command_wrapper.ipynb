{
 "cells": [
  {
   "cell_type": "code",
   "id": "initial_id",
   "metadata": {
    "collapsed": true,
    "ExecuteTime": {
     "end_time": "2024-07-12T15:24:58.096917Z",
     "start_time": "2024-07-12T15:24:58.092811Z"
    }
   },
   "source": [
    "import sqlite3\n",
    "import os"
   ],
   "outputs": [],
   "execution_count": 1
  },
  {
   "metadata": {
    "ExecuteTime": {
     "end_time": "2024-07-12T16:19:23.846272Z",
     "start_time": "2024-07-12T16:19:23.837952Z"
    }
   },
   "cell_type": "code",
   "source": [
    "def create_database():\n",
    "    with open('create_database.sql', 'r') as sql_file:\n",
    "        sql_script = sql_file.read()\n",
    "    if os.path.isfile('database_sqlite.db'):\n",
    "        os.remove('database_sqlite.db')\n",
    "    conn = sqlite3.connect('database_sqlite.db')\n",
    "    c = conn.cursor()\n",
    "    c.executescript(sql_script)\n",
    "    conn.commit()\n",
    "    conn.close()\n",
    "\n",
    "from typing import Any\n",
    "def add_test(data: dict[str: Any]):\n",
    "    with open('add_test.sql') as sql_file:\n",
    "        script = sql_file.read()\n",
    "    assert len(data) == 5, \"Add all attributes in order: batch_id, file_path, UTS, strain_at_break, test_date\""
   ],
   "id": "3ce274b3c425366c",
   "outputs": [],
   "execution_count": 7
  },
  {
   "metadata": {},
   "cell_type": "code",
   "outputs": [],
   "execution_count": null,
   "source": "",
   "id": "35f8f3e626b0e35"
  }
 ],
 "metadata": {
  "kernelspec": {
   "display_name": "Python 3",
   "language": "python",
   "name": "python3"
  },
  "language_info": {
   "codemirror_mode": {
    "name": "ipython",
    "version": 2
   },
   "file_extension": ".py",
   "mimetype": "text/x-python",
   "name": "python",
   "nbconvert_exporter": "python",
   "pygments_lexer": "ipython2",
   "version": "2.7.6"
  }
 },
 "nbformat": 4,
 "nbformat_minor": 5
}
