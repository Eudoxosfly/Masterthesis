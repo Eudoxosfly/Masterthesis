{
 "cells": [
  {
   "cell_type": "code",
   "id": "initial_id",
   "metadata": {
    "collapsed": true,
    "ExecuteTime": {
     "end_time": "2024-08-09T11:49:33.615623Z",
     "start_time": "2024-08-09T11:49:33.532300Z"
    }
   },
   "source": "from utils import downscale_1024",
   "outputs": [],
   "execution_count": 1
  },
  {
   "metadata": {
    "ExecuteTime": {
     "end_time": "2024-08-09T11:49:33.620258Z",
     "start_time": "2024-08-09T11:49:33.616633Z"
    }
   },
   "cell_type": "code",
   "source": "path = \"../../02_Data/Structured_Al/SB7/LM/\"",
   "id": "d355284f73e2daad",
   "outputs": [],
   "execution_count": 2
  },
  {
   "metadata": {
    "ExecuteTime": {
     "end_time": "2024-08-09T11:49:50.684632Z",
     "start_time": "2024-08-09T11:49:33.622763Z"
    }
   },
   "cell_type": "code",
   "source": "downscale_1024(path)",
   "id": "f8edcc9c88143407",
   "outputs": [
    {
     "name": "stderr",
     "output_type": "stream",
     "text": [
      " 12%|█▏        | 6/49 [00:02<00:14,  2.87it/s]C:\\Users\\malte\\OneDrive\\Documents\\StudiumDocs\\MatSci_Ma\\Thesis\\03_Computation\\Calculations\\utils.py:94: UserWarning: ../../02_Data/Structured_Al/SB7/LM_downscaled/2024-07-19_007_5x.png is a low contrast image\n",
      "  skimage.io.imsave(name.replace(\"LM\", \"LM_downscaled\").replace(\".tif\", \".png\"), im)\n",
      "100%|██████████| 49/49 [00:17<00:00,  2.88it/s]\n"
     ]
    }
   ],
   "execution_count": 3
  }
 ],
 "metadata": {
  "kernelspec": {
   "display_name": "Python 3",
   "language": "python",
   "name": "python3"
  },
  "language_info": {
   "codemirror_mode": {
    "name": "ipython",
    "version": 2
   },
   "file_extension": ".py",
   "mimetype": "text/x-python",
   "name": "python",
   "nbconvert_exporter": "python",
   "pygments_lexer": "ipython2",
   "version": "2.7.6"
  }
 },
 "nbformat": 4,
 "nbformat_minor": 5
}
