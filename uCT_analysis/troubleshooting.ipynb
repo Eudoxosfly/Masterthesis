{
 "cells": [
  {
   "metadata": {
    "ExecuteTime": {
     "end_time": "2024-09-22T20:20:25.235519Z",
     "start_time": "2024-09-22T20:20:23.203398Z"
    }
   },
   "cell_type": "code",
   "source": [
    "%load_ext autoreload\n",
    "%autoreload 2\n",
    "\n",
    "\n",
    "from mt.scan import Scan\n",
    "from mt.ct_utils import contact_area"
   ],
   "id": "235ed9c497739f47",
   "outputs": [],
   "execution_count": 1
  },
  {
   "metadata": {
    "ExecuteTime": {
     "end_time": "2024-09-22T20:22:12.976428Z",
     "start_time": "2024-09-22T20:22:10.275316Z"
    }
   },
   "cell_type": "code",
   "source": [
    "path = \"../../04_uCT/AD67/\"\n",
    "scan = Scan(path)\n",
    "scan.load(logging=True)"
   ],
   "id": "802b4a835c8314ef",
   "outputs": [
    {
     "name": "stdout",
     "output_type": "stream",
     "text": [
      "Loading pickled Scan object from: ../../04_uCT/AD67/Scan.pkl\n",
      "Loading images from:  ../../04_uCT/AD67/Slices/\n",
      "Loaded stack with shape (1781, 126, 2231) and a size of 1.00 GB in 1.28 s.\n",
      "Loaded mask from: ../../04_uCT/AD67/segmentation.npy\n",
      "Loaded particle mask from: ../../04_uCT/AD67/particle_mask.npy\n"
     ]
    }
   ],
   "execution_count": 4
  },
  {
   "metadata": {
    "ExecuteTime": {
     "end_time": "2024-09-22T19:49:48.943158Z",
     "start_time": "2024-09-22T19:49:45.360923Z"
    }
   },
   "cell_type": "code",
   "source": "scan.show()",
   "id": "641c469f95f166cc",
   "outputs": [],
   "execution_count": 8
  },
  {
   "metadata": {
    "ExecuteTime": {
     "end_time": "2024-09-22T19:47:09.069001Z",
     "start_time": "2024-09-22T19:47:00.642077Z"
    }
   },
   "cell_type": "code",
   "source": [
    "air_al = contact_area(scan._mask, 1, 3)\n",
    "poly_al = contact_area(scan._mask, 2, 3)"
   ],
   "id": "8c023f7b652aab66",
   "outputs": [],
   "execution_count": 3
  },
  {
   "metadata": {
    "ExecuteTime": {
     "end_time": "2024-09-22T19:47:47.208969Z",
     "start_time": "2024-09-22T19:47:47.163691Z"
    }
   },
   "cell_type": "code",
   "source": [
    "print(\"Air-Al: \", air_al)\n",
    "print(\"Poly-Al: \", poly_al)\n",
    "print(\"% poly-Al: \", poly_al/(air_al+poly_al))"
   ],
   "id": "3a2fdaf048801aa",
   "outputs": [
    {
     "name": "stdout",
     "output_type": "stream",
     "text": [
      "Air-Al:  780933\n",
      "Poly-Al:  10248942\n",
      "% poly-Al:  0.92919838166797\n"
     ]
    }
   ],
   "execution_count": 4
  },
  {
   "metadata": {
    "ExecuteTime": {
     "end_time": "2024-09-22T19:49:34.833432Z",
     "start_time": "2024-09-22T19:49:34.594642Z"
    }
   },
   "cell_type": "code",
   "source": [
    "total_air_volume = scan._mask[scan._mask == 1].size * scan.voxel_size_mm**3\n",
    "print(\"Total air volume: \", total_air_volume)"
   ],
   "id": "98261729ff4adc1c",
   "outputs": [
    {
     "name": "stdout",
     "output_type": "stream",
     "text": [
      "Total air volume:  0.05938753459434442\n"
     ]
    }
   ],
   "execution_count": 7
  },
  {
   "metadata": {
    "ExecuteTime": {
     "end_time": "2024-09-22T20:13:08.539715Z",
     "start_time": "2024-09-22T20:13:07.497269Z"
    }
   },
   "cell_type": "code",
   "source": "scan.show(particle_mask_only=True)",
   "id": "4095474962baefed",
   "outputs": [],
   "execution_count": 17
  },
  {
   "metadata": {
    "ExecuteTime": {
     "end_time": "2024-09-22T20:06:21.226816Z",
     "start_time": "2024-09-22T20:06:13.383811Z"
    }
   },
   "cell_type": "code",
   "source": "scan.calculate_properties(logging=True)",
   "id": "9b75f67b2a558ad1",
   "outputs": [
    {
     "name": "stdout",
     "output_type": "stream",
     "text": [
      "Starting mask analysis.\n",
      "Starting particle analysis.\n"
     ]
    },
    {
     "ename": "AttributeError",
     "evalue": "'Scan' object has no attribute 'particle_mask'",
     "output_type": "error",
     "traceback": [
      "\u001B[1;31m---------------------------------------------------------------------------\u001B[0m",
      "\u001B[1;31mAttributeError\u001B[0m                            Traceback (most recent call last)",
      "Cell \u001B[1;32mIn[14], line 1\u001B[0m\n\u001B[1;32m----> 1\u001B[0m \u001B[43mscan\u001B[49m\u001B[38;5;241;43m.\u001B[39;49m\u001B[43mcalculate_properties\u001B[49m\u001B[43m(\u001B[49m\u001B[43mlogging\u001B[49m\u001B[38;5;241;43m=\u001B[39;49m\u001B[38;5;28;43;01mTrue\u001B[39;49;00m\u001B[43m)\u001B[49m\n",
      "File \u001B[1;32m~\\OneDrive\\Documents\\StudiumDocs\\MatSci_Ma\\Thesis\\03_Computation\\mt\\scan.py:171\u001B[0m, in \u001B[0;36mScan.calculate_properties\u001B[1;34m(self, logging)\u001B[0m\n\u001B[0;32m    169\u001B[0m \u001B[38;5;28mself\u001B[39m\u001B[38;5;241m.\u001B[39mmask_analysis()\n\u001B[0;32m    170\u001B[0m logging \u001B[38;5;129;01mand\u001B[39;00m \u001B[38;5;28mprint\u001B[39m(\u001B[38;5;124m\"\u001B[39m\u001B[38;5;124mStarting particle analysis.\u001B[39m\u001B[38;5;124m\"\u001B[39m)\n\u001B[1;32m--> 171\u001B[0m \u001B[38;5;28;43mself\u001B[39;49m\u001B[38;5;241;43m.\u001B[39;49m\u001B[43mcalculate_particle_statistics\u001B[49m\u001B[43m(\u001B[49m\u001B[43m)\u001B[49m\n",
      "File \u001B[1;32m~\\OneDrive\\Documents\\StudiumDocs\\MatSci_Ma\\Thesis\\03_Computation\\mt\\scan.py:184\u001B[0m, in \u001B[0;36mScan.calculate_particle_statistics\u001B[1;34m(self)\u001B[0m\n\u001B[0;32m    183\u001B[0m \u001B[38;5;28;01mdef\u001B[39;00m \u001B[38;5;21mcalculate_particle_statistics\u001B[39m(\u001B[38;5;28mself\u001B[39m):\n\u001B[1;32m--> 184\u001B[0m     props \u001B[38;5;241m=\u001B[39m cle\u001B[38;5;241m.\u001B[39mstatistics_of_labelled_pixels(\u001B[38;5;28;43mself\u001B[39;49m\u001B[38;5;241;43m.\u001B[39;49m\u001B[43mparticle_mask\u001B[49m)\n\u001B[0;32m    185\u001B[0m     \u001B[38;5;28mself\u001B[39m\u001B[38;5;241m.\u001B[39mparticle_statistics \u001B[38;5;241m=\u001B[39m pd\u001B[38;5;241m.\u001B[39mDataFrame(props)\n",
      "\u001B[1;31mAttributeError\u001B[0m: 'Scan' object has no attribute 'particle_mask'"
     ]
    }
   ],
   "execution_count": 14
  },
  {
   "metadata": {
    "ExecuteTime": {
     "end_time": "2024-09-22T20:06:22.671995Z",
     "start_time": "2024-09-22T20:06:22.595591Z"
    }
   },
   "cell_type": "code",
   "source": "scan.mask_analytics",
   "id": "4df4ec9f46fae98d",
   "outputs": [
    {
     "data": {
      "text/plain": [
       "   air_Al_contact_area_mm2]  polymer_Al_contact_area_mm2  \\\n",
       "0                  4.788188                    62.840036   \n",
       "\n",
       "   percent_contact_air_Al  total_air_volume_mm3  \n",
       "0                7.080162              0.059388  "
      ],
      "text/html": [
       "<div>\n",
       "<style scoped>\n",
       "    .dataframe tbody tr th:only-of-type {\n",
       "        vertical-align: middle;\n",
       "    }\n",
       "\n",
       "    .dataframe tbody tr th {\n",
       "        vertical-align: top;\n",
       "    }\n",
       "\n",
       "    .dataframe thead th {\n",
       "        text-align: right;\n",
       "    }\n",
       "</style>\n",
       "<table border=\"1\" class=\"dataframe\">\n",
       "  <thead>\n",
       "    <tr style=\"text-align: right;\">\n",
       "      <th></th>\n",
       "      <th>air_Al_contact_area_mm2]</th>\n",
       "      <th>polymer_Al_contact_area_mm2</th>\n",
       "      <th>percent_contact_air_Al</th>\n",
       "      <th>total_air_volume_mm3</th>\n",
       "    </tr>\n",
       "  </thead>\n",
       "  <tbody>\n",
       "    <tr>\n",
       "      <th>0</th>\n",
       "      <td>4.788188</td>\n",
       "      <td>62.840036</td>\n",
       "      <td>7.080162</td>\n",
       "      <td>0.059388</td>\n",
       "    </tr>\n",
       "  </tbody>\n",
       "</table>\n",
       "</div>"
      ]
     },
     "execution_count": 15,
     "metadata": {},
     "output_type": "execute_result"
    }
   ],
   "execution_count": 15
  }
 ],
 "metadata": {
  "kernelspec": {
   "display_name": "Python 3",
   "language": "python",
   "name": "python3"
  },
  "language_info": {
   "codemirror_mode": {
    "name": "ipython",
    "version": 2
   },
   "file_extension": ".py",
   "mimetype": "text/x-python",
   "name": "python",
   "nbconvert_exporter": "python",
   "pygments_lexer": "ipython2",
   "version": "2.7.6"
  }
 },
 "nbformat": 4,
 "nbformat_minor": 5
}
