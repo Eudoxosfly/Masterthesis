{
 "cells": [
  {
   "cell_type": "code",
   "id": "initial_id",
   "metadata": {
    "collapsed": true,
    "ExecuteTime": {
     "end_time": "2024-09-19T11:19:42.367854Z",
     "start_time": "2024-09-19T11:19:40.881859Z"
    }
   },
   "source": [
    "%load_ext autoreload\n",
    "%autoreload 2\n",
    "\n",
    "from mt.ct_utils import *\n"
   ],
   "outputs": [],
   "execution_count": 1
  },
  {
   "metadata": {
    "ExecuteTime": {
     "end_time": "2024-09-19T11:19:44.440796Z",
     "start_time": "2024-09-19T11:19:43.455885Z"
    }
   },
   "cell_type": "code",
   "source": [
    "settings = SegmentationSettings(air_mask_sigma=1.5,\n",
    "                                contrast_max_percentile=50,\n",
    "                                contrast_min_percentile=0)"
   ],
   "id": "598df96d6bd50e80",
   "outputs": [],
   "execution_count": 2
  },
  {
   "metadata": {
    "ExecuteTime": {
     "end_time": "2024-09-19T11:19:47.087807Z",
     "start_time": "2024-09-19T11:19:45.728937Z"
    }
   },
   "cell_type": "code",
   "source": [
    "path = \"../../04_uCT/AD67/\"\n",
    "stack = load_stack(path,\n",
    "           logging=True)"
   ],
   "id": "7eb2341ec8e7f08c",
   "outputs": [
    {
     "name": "stdout",
     "output_type": "stream",
     "text": [
      "Loading images from:  ../../04_uCT/AD67/Slices/\n",
      "Loaded stack with shape (1781, 126, 2231) and a size of 1.00 GB in 1.31 s.\n"
     ]
    }
   ],
   "execution_count": 3
  },
  {
   "metadata": {
    "ExecuteTime": {
     "end_time": "2024-09-19T18:54:49.528203Z",
     "start_time": "2024-09-19T18:54:49.444333Z"
    }
   },
   "cell_type": "code",
   "source": [
    "@magicgui(auto_call=False)\n",
    "def interactive(stack: ImageData,\n",
    "                min_p: int = 0,\n",
    "                max_p: int = 3,\n",
    "                sigma: float = 1.5,\n",
    "                air_n_erosions: int = 2) -> LabelsData:\n",
    "    settings = SegmentationSettings(air_mask_sigma=sigma,\n",
    "                                    contrast_max_percentile=max_p,\n",
    "                                    contrast_min_percentile=min_p,\n",
    "                                    air_n_erosions=air_n_erosions)\n",
    "    mask = air_segmentation(stack, settings)\n",
    "    return mask"
   ],
   "id": "5a72021adbf02dd2",
   "outputs": [],
   "execution_count": 46
  },
  {
   "metadata": {
    "ExecuteTime": {
     "end_time": "2024-09-19T11:19:52.004971Z",
     "start_time": "2024-09-19T11:19:51.961754Z"
    }
   },
   "cell_type": "code",
   "source": "sub = stack[1000:1030, :, :]",
   "id": "efe07abce1081bbb",
   "outputs": [],
   "execution_count": 5
  },
  {
   "metadata": {
    "ExecuteTime": {
     "end_time": "2024-09-19T11:30:57.373302Z",
     "start_time": "2024-09-19T11:30:56.888171Z"
    }
   },
   "cell_type": "code",
   "source": "mask = interactive(sub)",
   "id": "3dd9e8973ebb0c0f",
   "outputs": [],
   "execution_count": 40
  },
  {
   "metadata": {
    "ExecuteTime": {
     "end_time": "2024-09-19T11:30:58.683626Z",
     "start_time": "2024-09-19T11:30:58.607945Z"
    }
   },
   "cell_type": "code",
   "source": "mask",
   "id": "1eb7630b06bd3830",
   "outputs": [
    {
     "data": {
      "text/plain": [
       "array([[[0, 0, 0, ..., 0, 0, 0],\n",
       "        [0, 0, 0, ..., 0, 0, 0],\n",
       "        [0, 0, 0, ..., 0, 0, 0],\n",
       "        ...,\n",
       "        [0, 0, 0, ..., 0, 0, 0],\n",
       "        [0, 0, 0, ..., 0, 0, 0],\n",
       "        [0, 0, 0, ..., 0, 0, 0]],\n",
       "\n",
       "       [[0, 0, 0, ..., 0, 0, 0],\n",
       "        [0, 0, 0, ..., 0, 0, 0],\n",
       "        [0, 0, 0, ..., 0, 0, 0],\n",
       "        ...,\n",
       "        [0, 0, 0, ..., 0, 0, 0],\n",
       "        [0, 0, 0, ..., 0, 0, 0],\n",
       "        [0, 0, 0, ..., 0, 0, 0]],\n",
       "\n",
       "       [[0, 0, 0, ..., 0, 0, 0],\n",
       "        [0, 0, 0, ..., 0, 0, 0],\n",
       "        [0, 0, 0, ..., 0, 0, 0],\n",
       "        ...,\n",
       "        [0, 0, 0, ..., 0, 0, 0],\n",
       "        [0, 0, 0, ..., 0, 0, 0],\n",
       "        [0, 0, 0, ..., 0, 0, 0]],\n",
       "\n",
       "       ...,\n",
       "\n",
       "       [[0, 0, 0, ..., 0, 0, 0],\n",
       "        [0, 0, 0, ..., 0, 0, 0],\n",
       "        [0, 0, 0, ..., 0, 0, 0],\n",
       "        ...,\n",
       "        [0, 0, 0, ..., 0, 0, 0],\n",
       "        [0, 0, 0, ..., 0, 0, 0],\n",
       "        [0, 0, 0, ..., 0, 0, 0]],\n",
       "\n",
       "       [[0, 0, 0, ..., 0, 0, 0],\n",
       "        [0, 0, 0, ..., 0, 0, 0],\n",
       "        [0, 0, 0, ..., 0, 0, 0],\n",
       "        ...,\n",
       "        [0, 0, 0, ..., 0, 0, 0],\n",
       "        [0, 0, 0, ..., 0, 0, 0],\n",
       "        [0, 0, 0, ..., 0, 0, 0]],\n",
       "\n",
       "       [[0, 0, 0, ..., 0, 0, 0],\n",
       "        [0, 0, 0, ..., 0, 0, 0],\n",
       "        [0, 0, 0, ..., 0, 0, 0],\n",
       "        ...,\n",
       "        [0, 0, 0, ..., 0, 0, 0],\n",
       "        [0, 0, 0, ..., 0, 0, 0],\n",
       "        [0, 0, 0, ..., 0, 0, 0]]])"
      ]
     },
     "execution_count": 41,
     "metadata": {},
     "output_type": "execute_result"
    }
   ],
   "execution_count": 41
  },
  {
   "metadata": {
    "ExecuteTime": {
     "end_time": "2024-09-19T11:19:15.149688Z",
     "start_time": "2024-09-19T11:19:15.104881Z"
    }
   },
   "cell_type": "code",
   "source": [
    "mask = cle.pull(mask)\n",
    "mask = mask > 0"
   ],
   "id": "1c626a3d8512ddd1",
   "outputs": [],
   "execution_count": 7
  },
  {
   "metadata": {
    "ExecuteTime": {
     "end_time": "2024-09-19T19:26:00.470995Z",
     "start_time": "2024-09-19T19:25:59.700261Z"
    }
   },
   "cell_type": "code",
   "source": [
    "viewer = napari.Viewer()\n",
    "viewer.add_image(stack)\n",
    "viewer.add_labels(mask)"
   ],
   "id": "c78e6700d89efa9f",
   "outputs": [
    {
     "data": {
      "text/plain": [
       "<Labels layer 'mask' at 0x1da43683f50>"
      ]
     },
     "execution_count": 75,
     "metadata": {},
     "output_type": "execute_result"
    }
   ],
   "execution_count": 75
  },
  {
   "metadata": {
    "ExecuteTime": {
     "end_time": "2024-09-19T18:54:52.275587Z",
     "start_time": "2024-09-19T18:54:51.218294Z"
    }
   },
   "cell_type": "code",
   "source": [
    "\n",
    "viewer = napari.Viewer()\n",
    "viewer.add_image(sub)\n",
    "viewer.window.add_dock_widget(interactive)"
   ],
   "id": "593f36719cee9f1e",
   "outputs": [
    {
     "data": {
      "text/plain": [
       "<napari._qt.widgets.qt_viewer_dock_widget.QtViewerDockWidget at 0x1d9fd88a9e0>"
      ]
     },
     "execution_count": 47,
     "metadata": {},
     "output_type": "execute_result"
    }
   ],
   "execution_count": 47
  },
  {
   "metadata": {
    "ExecuteTime": {
     "end_time": "2024-09-19T19:09:41.561459Z",
     "start_time": "2024-09-19T19:09:40.863678Z"
    }
   },
   "cell_type": "code",
   "source": "adjust_segmentation_parameters_on_subset(sub)",
   "id": "eb75191d52d9afeb",
   "outputs": [],
   "execution_count": 54
  },
  {
   "metadata": {
    "ExecuteTime": {
     "end_time": "2024-09-19T19:24:48.744713Z",
     "start_time": "2024-09-19T19:24:48.667953Z"
    }
   },
   "cell_type": "code",
   "source": [
    "settings = SegmentationSettings(air_mask_sigma=2.5,\n",
    "                     air_n_erosions=1,\n",
    "                     contrast_min_percentile=0,\n",
    "                     contrast_max_percentile=9,\n",
    "                     particle_mask_sigma=0.1,\n",
    "                     particle_n_erosions=2,\n",
    "                     particle_enlarge_radius=1,\n",
    "                     smooth_labels_radius=2)\n",
    "\n",
    "                                \n",
    "                                "
   ],
   "id": "94c057dc02f8e9d7",
   "outputs": [],
   "execution_count": 73
  },
  {
   "metadata": {
    "ExecuteTime": {
     "end_time": "2024-09-19T19:25:34.877192Z",
     "start_time": "2024-09-19T19:24:50.044299Z"
    }
   },
   "cell_type": "code",
   "source": "mask = segment_scan(stack, settings)",
   "id": "b1096608b116b156",
   "outputs": [],
   "execution_count": 74
  },
  {
   "metadata": {},
   "cell_type": "code",
   "outputs": [],
   "execution_count": null,
   "source": "",
   "id": "235ed9c497739f47"
  }
 ],
 "metadata": {
  "kernelspec": {
   "display_name": "Python 3",
   "language": "python",
   "name": "python3"
  },
  "language_info": {
   "codemirror_mode": {
    "name": "ipython",
    "version": 2
   },
   "file_extension": ".py",
   "mimetype": "text/x-python",
   "name": "python",
   "nbconvert_exporter": "python",
   "pygments_lexer": "ipython2",
   "version": "2.7.6"
  }
 },
 "nbformat": 4,
 "nbformat_minor": 5
}
