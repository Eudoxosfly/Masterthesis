{
 "cells": [
  {
   "metadata": {
    "ExecuteTime": {
     "end_time": "2024-10-25T10:41:52.994210Z",
     "start_time": "2024-10-25T10:41:50.959560Z"
    }
   },
   "cell_type": "code",
   "source": "from mt.scan import Scan",
   "id": "dcc92dd7cbbf9bc7",
   "outputs": [],
   "execution_count": 1
  },
  {
   "metadata": {
    "ExecuteTime": {
     "end_time": "2024-10-25T10:41:58.996492Z",
     "start_time": "2024-10-25T10:41:54.785915Z"
    }
   },
   "cell_type": "code",
   "source": [
    "path = \"../../04_uCT/AD67/\"\n",
    "scan = Scan(path)\n",
    "scan.load(logging=True)"
   ],
   "id": "db170f110a895502",
   "outputs": [
    {
     "name": "stdout",
     "output_type": "stream",
     "text": [
      "Loading pickled Scan object from: ../../06_Results/uCT/AD67/Scan.pkl\n",
      "Loading images from:  ../../04_uCT/AD67/Slices/\n",
      "Loaded stack with shape (1781, 126, 2231) and a size of 1.00 GB in 1.29 s.\n",
      "Loaded _mask from: ../../06_Results/uCT/AD67/_mask.npy\n",
      "Loaded _particle_mask from: ../../06_Results/uCT/AD67/_particle_mask.npy\n",
      "Loaded _tesselation from: ../../06_Results/uCT/AD67/_tesselation.npy\n"
     ]
    }
   ],
   "execution_count": 2
  },
  {
   "metadata": {
    "ExecuteTime": {
     "end_time": "2024-10-25T10:42:05.159833Z",
     "start_time": "2024-10-25T10:41:59.907871Z"
    }
   },
   "cell_type": "code",
   "source": [
    "scan.show(\"z\")\n",
    "scan.show(\"x\")\n",
    "scan.show(\"y\")"
   ],
   "id": "f6a60c36b495c41b",
   "outputs": [],
   "execution_count": 3
  }
 ],
 "metadata": {
  "kernelspec": {
   "display_name": "Python 3",
   "language": "python",
   "name": "python3"
  },
  "language_info": {
   "codemirror_mode": {
    "name": "ipython",
    "version": 2
   },
   "file_extension": ".py",
   "mimetype": "text/x-python",
   "name": "python",
   "nbconvert_exporter": "python",
   "pygments_lexer": "ipython2",
   "version": "2.7.6"
  }
 },
 "nbformat": 4,
 "nbformat_minor": 5
}
