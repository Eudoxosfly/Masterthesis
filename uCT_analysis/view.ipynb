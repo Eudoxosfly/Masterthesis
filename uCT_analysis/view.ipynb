{
 "cells": [
  {
   "metadata": {
    "ExecuteTime": {
     "end_time": "2024-10-26T13:56:40.422860Z",
     "start_time": "2024-10-26T13:56:36.929780Z"
    }
   },
   "cell_type": "code",
   "source": "from mt.scan import Scan",
   "id": "dcc92dd7cbbf9bc7",
   "outputs": [],
   "execution_count": 1
  },
  {
   "metadata": {
    "ExecuteTime": {
     "end_time": "2024-10-26T13:57:01.566933Z",
     "start_time": "2024-10-26T13:56:41.099558Z"
    }
   },
   "cell_type": "code",
   "source": [
    "path = \"../../04_uCT/BA05/\"\n",
    "scan = Scan(path, downscale=True)\n",
    "scan.load(logging=True)"
   ],
   "id": "db170f110a895502",
   "outputs": [
    {
     "name": "stdout",
     "output_type": "stream",
     "text": [
      "Loading pickled Scan object from: ../../06_Results/uCT/BA05/Scan.pkl\n",
      "Loading images from:  ../../04_uCT/BA05/Slices/\n",
      "Loaded stack with shape (1783, 2423, 390) and a size of 3.37 GB in 19.25 s.\n",
      "Loaded _mask from: ../../06_Results/uCT/BA05/_mask.npy\n",
      "Loaded _particle_mask from: ../../06_Results/uCT/BA05/_particle_mask.npy\n",
      "Loaded _tesselation from: ../../06_Results/uCT/BA05/_tesselation.npy\n"
     ]
    }
   ],
   "execution_count": 2
  },
  {
   "metadata": {
    "ExecuteTime": {
     "end_time": "2024-10-26T13:57:18.814539Z",
     "start_time": "2024-10-26T13:57:02.819315Z"
    }
   },
   "cell_type": "code",
   "source": [
    "scan.show(\"z\")\n",
    "scan.show(\"x\")\n",
    "scan.show(\"y\")"
   ],
   "id": "f6a60c36b495c41b",
   "outputs": [],
   "execution_count": 3
  }
 ],
 "metadata": {
  "kernelspec": {
   "display_name": "Python 3",
   "language": "python",
   "name": "python3"
  },
  "language_info": {
   "codemirror_mode": {
    "name": "ipython",
    "version": 2
   },
   "file_extension": ".py",
   "mimetype": "text/x-python",
   "name": "python",
   "nbconvert_exporter": "python",
   "pygments_lexer": "ipython2",
   "version": "2.7.6"
  }
 },
 "nbformat": 4,
 "nbformat_minor": 5
}
