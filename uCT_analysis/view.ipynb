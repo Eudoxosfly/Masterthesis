{
 "cells": [
  {
   "metadata": {
    "ExecuteTime": {
     "end_time": "2024-10-24T08:52:38.441864Z",
     "start_time": "2024-10-24T08:52:30.398489Z"
    }
   },
   "cell_type": "code",
   "source": "from mt.scan import Scan",
   "id": "dcc92dd7cbbf9bc7",
   "outputs": [],
   "execution_count": 2
  },
  {
   "metadata": {
    "ExecuteTime": {
     "end_time": "2024-10-24T08:56:30.769932Z",
     "start_time": "2024-10-24T08:54:59.076509Z"
    }
   },
   "cell_type": "code",
   "source": [
    "path = \"../../04_uCT/AD64_broken/\"\n",
    "scan = Scan(path)\n",
    "scan.load(logging=True)"
   ],
   "id": "db170f110a895502",
   "outputs": [
    {
     "name": "stdout",
     "output_type": "stream",
     "text": [
      "Loading images from:  ../../04_uCT/AD64_broken/Slices/\n",
      "Loaded stack with shape (1781, 795, 2419) and a size of 6.85 GB in 90.62 s.\n",
      "No _mask file found at: ../../06_Results/AD64_broken/_mask.npy\n",
      "No _particle_mask file found at: ../../06_Results/AD64_broken/_particle_mask.npy\n",
      "No _tesselation file found at: ../../06_Results/AD64_broken/_tesselation.npy\n"
     ]
    }
   ],
   "execution_count": 5
  },
  {
   "metadata": {
    "ExecuteTime": {
     "end_time": "2024-10-24T08:57:08.349400Z",
     "start_time": "2024-10-24T08:56:56.803529Z"
    }
   },
   "cell_type": "code",
   "source": [
    "scan.show(\"z\")\n",
    "scan.show(\"x\")\n",
    "scan.show(\"y\")"
   ],
   "id": "f6a60c36b495c41b",
   "outputs": [],
   "execution_count": 6
  }
 ],
 "metadata": {
  "kernelspec": {
   "display_name": "Python 3",
   "language": "python",
   "name": "python3"
  },
  "language_info": {
   "codemirror_mode": {
    "name": "ipython",
    "version": 2
   },
   "file_extension": ".py",
   "mimetype": "text/x-python",
   "name": "python",
   "nbconvert_exporter": "python",
   "pygments_lexer": "ipython2",
   "version": "2.7.6"
  }
 },
 "nbformat": 4,
 "nbformat_minor": 5
}
