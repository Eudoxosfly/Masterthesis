{
 "cells": [
  {
   "cell_type": "code",
   "id": "initial_id",
   "metadata": {
    "collapsed": true,
    "ExecuteTime": {
     "end_time": "2024-11-02T15:36:10.446458Z",
     "start_time": "2024-11-02T15:36:03.964386Z"
    }
   },
   "source": [
    "from mt.ct_utils import SegmentationSettings\n",
    "from mt.scan import Scan"
   ],
   "outputs": [],
   "execution_count": 1
  },
  {
   "metadata": {},
   "cell_type": "markdown",
   "source": [
    "# Set segmentation settings\n",
    "This script is used to open a subset of the scan in napari and interactively set the segmentation settings. The settings are then saved to the scan object."
   ],
   "id": "e1c85d1e26c6de1b"
  },
  {
   "metadata": {
    "ExecuteTime": {
     "end_time": "2024-11-02T15:36:26.802157Z",
     "start_time": "2024-11-02T15:36:10.459727Z"
    }
   },
   "cell_type": "code",
   "source": [
    "path = \"../../04_uCT/AD63/\"\n",
    "scan = Scan(path,\n",
    "            discard_ends=True,\n",
    "            downscale=False)\n",
    "scan.load(logging=True, refresh=False)\n",
    "\n",
    "scan.show_hist()\n",
    "\n",
    "scan.try_segmentation_settings(subset_size=50)\n",
    "scan.try_segmentation_settings(segment_particles_only=True, subset_size=50)"
   ],
   "id": "96cae9eb82305a89",
   "outputs": [
    {
     "name": "stdout",
     "output_type": "stream",
     "text": [
      "Loading pickled Scan object from: ../../06_Results/uCT/AD29/Scan.pkl\n",
      "Loading images from:  ../../04_uCT/AD29/Slices/\n",
      "Loaded stack with shape (1780, 238, 2231) and a size of 1.89 GB in 5.71 s.\n",
      "Loaded _mask from: ../../06_Results/uCT/AD29/_mask.npy\n",
      "Loaded _particle_mask from: ../../06_Results/uCT/AD29/_particle_mask.npy\n",
      "Loaded _tesselation from: ../../06_Results/uCT/AD29/_tesselation.npy\n"
     ]
    }
   ],
   "execution_count": 2
  },
  {
   "metadata": {
    "ExecuteTime": {
     "end_time": "2024-11-02T15:41:43.908771Z",
     "start_time": "2024-11-02T15:41:43.469721Z"
    }
   },
   "cell_type": "code",
   "source": [
    "particle_settings = SegmentationSettings(particle_mask_sigma=1.6,\n",
    "                                         air_thresh=(75*2**8, 45*2**8),\n",
    "                                         particle_n_erosions=4,\n",
    "                                         particle_enlarge_radius=1)\n",
    "general_settings = SegmentationSettings(air_mask_sigma=2.1,\n",
    "                                        air_thresh=(41*2**8, 45*2**8),\n",
    "                                        particle_mask_sigma=0.1,\n",
    "                                        particle_n_erosions=2,\n",
    "                                        particle_enlarge_radius=1,\n",
    "                                        smooth_labels_radius=2)\n",
    "scan.set_particle_segmentation_settings(particle_settings)\n",
    "scan.set_segmentation_settings(general_settings)\n",
    "scan.save()"
   ],
   "id": "84313fbec557f455",
   "outputs": [],
   "execution_count": 8
  }
 ],
 "metadata": {
  "kernelspec": {
   "display_name": "Python 3",
   "language": "python",
   "name": "python3"
  },
  "language_info": {
   "codemirror_mode": {
    "name": "ipython",
    "version": 2
   },
   "file_extension": ".py",
   "mimetype": "text/x-python",
   "name": "python",
   "nbconvert_exporter": "python",
   "pygments_lexer": "ipython2",
   "version": "2.7.6"
  }
 },
 "nbformat": 4,
 "nbformat_minor": 5
}
