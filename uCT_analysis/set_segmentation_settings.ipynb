{
 "cells": [
  {
   "cell_type": "code",
   "id": "initial_id",
   "metadata": {
    "collapsed": true,
    "ExecuteTime": {
     "end_time": "2024-11-02T15:36:10.446458Z",
     "start_time": "2024-11-02T15:36:03.964386Z"
    }
   },
   "source": [
    "from mt.ct_utils import SegmentationSettings\n",
    "from mt.scan import Scan\n",
    "from pprint import pprint"
   ],
   "outputs": [],
   "execution_count": 1
  },
  {
   "metadata": {
    "ExecuteTime": {
     "end_time": "2024-11-02T15:36:26.802157Z",
     "start_time": "2024-11-02T15:36:10.459727Z"
    }
   },
   "cell_type": "code",
   "source": [
    "path = \"../../04_uCT/AD29/\"\n",
    "scan = Scan(path,\n",
    "            discard_ends=True,\n",
    "            downscale=False)\n",
    "scan.load(logging=True, refresh=False)\n",
    "\n",
    "# scan.show_hist()\n",
    "\n",
    "scan.try_segmentation_settings(subset_size=50)\n",
    "scan.try_segmentation_settings(segment_particles_only=True, subset_size=50)"
   ],
   "id": "96cae9eb82305a89",
   "outputs": [
    {
     "name": "stdout",
     "output_type": "stream",
     "text": [
      "Loading pickled Scan object from: ../../06_Results/uCT/AD29/Scan.pkl\n",
      "Loading images from:  ../../04_uCT/AD29/Slices/\n",
      "Loaded stack with shape (1780, 238, 2231) and a size of 1.89 GB in 5.71 s.\n",
      "Loaded _mask from: ../../06_Results/uCT/AD29/_mask.npy\n",
      "Loaded _particle_mask from: ../../06_Results/uCT/AD29/_particle_mask.npy\n",
      "Loaded _tesselation from: ../../06_Results/uCT/AD29/_tesselation.npy\n"
     ]
    }
   ],
   "execution_count": 2
  },
  {
   "metadata": {
    "ExecuteTime": {
     "end_time": "2024-11-01T16:18:56.978313Z",
     "start_time": "2024-11-01T16:18:56.969348Z"
    }
   },
   "cell_type": "code",
   "source": "pprint({n:n*2**8 for n in range(50, 220, 10)})",
   "id": "d592c79950d1293c",
   "outputs": [
    {
     "name": "stdout",
     "output_type": "stream",
     "text": [
      "{50: 12800,\n",
      " 60: 15360,\n",
      " 70: 17920,\n",
      " 80: 20480,\n",
      " 90: 23040,\n",
      " 100: 25600,\n",
      " 110: 28160,\n",
      " 120: 30720,\n",
      " 130: 33280,\n",
      " 140: 35840,\n",
      " 150: 38400,\n",
      " 160: 40960,\n",
      " 170: 43520,\n",
      " 180: 46080,\n",
      " 190: 48640,\n",
      " 200: 51200,\n",
      " 210: 53760}\n"
     ]
    }
   ],
   "execution_count": 3
  },
  {
   "metadata": {
    "ExecuteTime": {
     "end_time": "2024-11-02T15:40:53.870673Z",
     "start_time": "2024-11-02T15:40:53.864806Z"
    }
   },
   "cell_type": "code",
   "source": [
    "(11520\n",
    "/2**8)"
   ],
   "id": "b4c572a27a316a51",
   "outputs": [
    {
     "data": {
      "text/plain": [
       "45.0"
      ]
     },
     "execution_count": 7,
     "metadata": {},
     "output_type": "execute_result"
    }
   ],
   "execution_count": 7
  },
  {
   "metadata": {
    "ExecuteTime": {
     "end_time": "2024-11-02T15:40:43.543587Z",
     "start_time": "2024-11-02T15:40:43.537375Z"
    }
   },
   "cell_type": "code",
   "source": "scan.particle_segmentation_settings\n",
   "id": "e69df92cd841f24b",
   "outputs": [
    {
     "data": {
      "text/plain": [
       "SegmentationSettings(air_mask_sigma=1.6, air_thresh=(19200, 11520), particle_mask_sigma=1.6, particle_n_erosions=4, particle_enlarge_radius=1, smooth_labels_radius=2)"
      ]
     },
     "execution_count": 6,
     "metadata": {},
     "output_type": "execute_result"
    }
   ],
   "execution_count": 6
  },
  {
   "metadata": {
    "ExecuteTime": {
     "end_time": "2024-11-02T15:41:43.908771Z",
     "start_time": "2024-11-02T15:41:43.469721Z"
    }
   },
   "cell_type": "code",
   "source": [
    "particle_settings = SegmentationSettings(particle_mask_sigma=1.6,\n",
    "                                         air_thresh=(75*2**8, 45*2**8),\n",
    "                                         particle_n_erosions=4,\n",
    "                                         particle_enlarge_radius=1)\n",
    "general_settings = SegmentationSettings(air_mask_sigma=2.1,\n",
    "                                        air_thresh=(41*2**8, 45*2**8),\n",
    "                                        particle_mask_sigma=0.1,\n",
    "                                        particle_n_erosions=2,\n",
    "                                        particle_enlarge_radius=1,\n",
    "                                        smooth_labels_radius=2)\n",
    "scan.set_particle_segmentation_settings(particle_settings)\n",
    "scan.set_segmentation_settings(general_settings)\n",
    "scan.save()"
   ],
   "id": "84313fbec557f455",
   "outputs": [],
   "execution_count": 8
  },
  {
   "metadata": {
    "ExecuteTime": {
     "end_time": "2024-11-02T11:56:16.946232Z",
     "start_time": "2024-11-02T11:56:14.083222Z"
    }
   },
   "cell_type": "code",
   "source": [
    "# scan.segment()\n",
    "scan.voronoi_tesselation()\n",
    "# scan.segment_particles()\n",
    "scan.show(\"z\")"
   ],
   "id": "2e94ee806e2f911a",
   "outputs": [],
   "execution_count": 3
  }
 ],
 "metadata": {
  "kernelspec": {
   "display_name": "Python 3",
   "language": "python",
   "name": "python3"
  },
  "language_info": {
   "codemirror_mode": {
    "name": "ipython",
    "version": 2
   },
   "file_extension": ".py",
   "mimetype": "text/x-python",
   "name": "python",
   "nbconvert_exporter": "python",
   "pygments_lexer": "ipython2",
   "version": "2.7.6"
  }
 },
 "nbformat": 4,
 "nbformat_minor": 5
}
