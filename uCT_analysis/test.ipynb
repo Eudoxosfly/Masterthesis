{
 "cells": [
  {
   "metadata": {
    "ExecuteTime": {
     "end_time": "2024-10-29T18:54:12.390328Z",
     "start_time": "2024-10-29T18:54:12.378805Z"
    }
   },
   "cell_type": "code",
   "source": [
    "import numpy as np\n",
    "import pandas as pd\n",
    "import matplotlib.pyplot as plt\n",
    "from skimage import io\n",
    "from matplotlib_scalebar.scalebar import ScaleBar"
   ],
   "id": "b98c534755f435c4",
   "outputs": [],
   "execution_count": 6
  },
  {
   "metadata": {
    "ExecuteTime": {
     "end_time": "2024-10-29T22:15:35.934418Z",
     "start_time": "2024-10-29T22:15:35.928724Z"
    }
   },
   "cell_type": "code",
   "source": [
    "def export_image(im: np.ndarray, \n",
    "                 scale: float, \n",
    "                 file_path: str,\n",
    "                 aspect_ratio: float = 1.0,\n",
    "                 region_of_interest: tuple[float, float, float] = None):\n",
    "    \"\"\"\n",
    "    region_of_interest: tuple[x_0, y_0, width] \n",
    "    \"\"\"\n",
    "    h, w = im.shape\n",
    "    if region_of_interest is None:\n",
    "        region_of_interest = np.s_[0:h, 0:w]\n",
    "    else:\n",
    "        x_0, y_0, width = region_of_interest\n",
    "        x_0 = int(x_0 * w)\n",
    "        x_1 = int(x_0 + width * w)\n",
    "        y_0 = int(y_0 * h)\n",
    "        y_1 = int(y_0 + width*w / aspect_ratio)\n",
    "        print(width)\n",
    "        print(h, w)\n",
    "        print(x_0, y_0, x_1, y_1)\n",
    "        region_of_interest = np.s_[y_0:y_1, x_0:x_1]\n",
    "        \n",
    "\n",
    "    fig, ax = plt.subplots(1)\n",
    "    ax.imshow(im[region_of_interest],\n",
    "              cmap='gray')\n",
    "    scalebar = ScaleBar(scale*2, \n",
    "                        \"um\", \n",
    "                        fixed_units=\"um\", \n",
    "                        fixed_value=0.1, \n",
    "                        border_pad=0.1, \n",
    "                        color=\"red\", \n",
    "                        location=\"lower right\", \n",
    "                        frameon=False,\n",
    "                        height_fraction=0.03)\n",
    "    ax.add_artist(scalebar)\n",
    "    ax.axis('off')\n",
    "    fig.savefig(file_path, dpi=600, bbox_inches='tight', pad_inches=0)"
   ],
   "id": "389850dd98a86053",
   "outputs": [],
   "execution_count": 126
  },
  {
   "metadata": {
    "ExecuteTime": {
     "end_time": "2024-10-29T22:52:46.760870Z",
     "start_time": "2024-10-29T22:52:46.751972Z"
    }
   },
   "cell_type": "code",
   "source": [
    "im = io.imread(\"test.tif\")\n",
    "# export_image(im, 0.00248, \"test.png\", aspect_ratio=2, region_of_interest=(0.5, 0.2, 0.1))\n",
    "im.shape"
   ],
   "id": "dab715b2769a2483",
   "outputs": [
    {
     "data": {
      "text/plain": [
       "(205, 2214)"
      ]
     },
     "execution_count": 128,
     "metadata": {},
     "output_type": "execute_result"
    }
   ],
   "execution_count": 128
  }
 ],
 "metadata": {
  "kernelspec": {
   "display_name": "Python 3",
   "language": "python",
   "name": "python3"
  },
  "language_info": {
   "codemirror_mode": {
    "name": "ipython",
    "version": 2
   },
   "file_extension": ".py",
   "mimetype": "text/x-python",
   "name": "python",
   "nbconvert_exporter": "python",
   "pygments_lexer": "ipython2",
   "version": "2.7.6"
  }
 },
 "nbformat": 4,
 "nbformat_minor": 5
}
