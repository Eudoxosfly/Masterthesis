{
 "cells": [
  {
   "cell_type": "code",
   "id": "initial_id",
   "metadata": {
    "collapsed": true,
    "ExecuteTime": {
     "end_time": "2024-09-15T13:41:40.809227Z",
     "start_time": "2024-09-15T13:41:39.741748Z"
    }
   },
   "source": [
    "\n",
    "%reload_ext autoreload\n",
    "%autoreload 2\n",
    "\n",
    "import pyclesperanto as cle\n",
    "import napari\n",
    "from napari.types import ImageData, LabelsData\n",
    "from mt.utils import load_scan, reslice\n",
    "from magicgui import magicgui\n",
    "from matplotlib import pyplot as plt\n",
    "import numpy as np\n",
    "cle.select_device(\"RTX\")"
   ],
   "outputs": [
    {
     "data": {
      "text/plain": [
       "(OpenCL) NVIDIA GeForce RTX 3060 Laptop GPU (OpenCL 3.0 CUDA)\n",
       "\tVendor:                      NVIDIA Corporation\n",
       "\tDriver Version:              516.95\n",
       "\tDevice Type:                 GPU\n",
       "\tCompute Units:               30\n",
       "\tGlobal Memory Size:          6143 MB\n",
       "\tMaximum Object Size:         1535 MB\n",
       "\tMax Clock Frequency:         1425 MHz\n",
       "\tImage Support:               Yes"
      ]
     },
     "execution_count": 59,
     "metadata": {},
     "output_type": "execute_result"
    }
   ],
   "execution_count": 59
  },
  {
   "metadata": {
    "ExecuteTime": {
     "end_time": "2024-09-15T13:03:53.966300Z",
     "start_time": "2024-09-15T13:03:53.261065Z"
    }
   },
   "cell_type": "code",
   "source": "\n",
   "id": "804d5f12a9a7767b",
   "outputs": [],
   "execution_count": 30
  },
  {
   "metadata": {
    "ExecuteTime": {
     "end_time": "2024-09-15T12:55:14.746864Z",
     "start_time": "2024-09-15T12:55:12.553574Z"
    }
   },
   "cell_type": "code",
   "source": "path = \"../../04_uCT/AD36/\"",
   "id": "f6b8bb927eccec73",
   "outputs": [],
   "execution_count": 3
  },
  {
   "metadata": {
    "ExecuteTime": {
     "end_time": "2024-09-15T12:55:16.024072Z",
     "start_time": "2024-09-15T12:55:15.861562Z"
    }
   },
   "cell_type": "code",
   "source": "# im = imread(\"test.tif\")\n",
   "id": "623cc2324afbc6e0",
   "outputs": [],
   "execution_count": 4
  },
  {
   "metadata": {
    "ExecuteTime": {
     "end_time": "2024-09-15T12:55:18.482016Z",
     "start_time": "2024-09-15T12:55:16.058649Z"
    }
   },
   "cell_type": "code",
   "source": [
    "im = load_scan(path, logging=True, image_range=None).scan\n",
    "im = reslice(im)[95:105]"
   ],
   "id": "eda56ff8ac4f407f",
   "outputs": [
    {
     "name": "stdout",
     "output_type": "stream",
     "text": [
      "Loading images from:  ../../04_uCT/AD36/Slices/\n",
      "Loaded stack with shape (1780, 205, 2214) and a size of 1.62 GB in 2.26 s.\n"
     ]
    }
   ],
   "execution_count": 5
  },
  {
   "metadata": {
    "ExecuteTime": {
     "end_time": "2024-09-15T13:03:59.601943Z",
     "start_time": "2024-09-15T13:03:59.105678Z"
    }
   },
   "cell_type": "code",
   "source": "\n",
   "id": "461fa1ad5dfd6ebe",
   "outputs": [
    {
     "data": {
      "text/plain": [
       "<Image layer 'original' at 0x12fba39cb90>"
      ]
     },
     "execution_count": 31,
     "metadata": {},
     "output_type": "execute_result"
    }
   ],
   "execution_count": 31
  },
  {
   "metadata": {
    "ExecuteTime": {
     "end_time": "2024-09-15T12:55:58.881627Z",
     "start_time": "2024-09-15T12:55:19.163884Z"
    }
   },
   "cell_type": "code",
   "source": "im_default = cle.eroded_otsu_labeling(im, number_of_erosions=0, outline_sigma=0.1)\n",
   "id": "54bc34125f4f5377",
   "outputs": [
    {
     "data": {
      "text/plain": [
       "<Labels layer 'im_default' at 0x12eb33b8c90>"
      ]
     },
     "execution_count": 7,
     "metadata": {},
     "output_type": "execute_result"
    }
   ],
   "execution_count": 7
  },
  {
   "metadata": {
    "ExecuteTime": {
     "end_time": "2024-09-15T13:03:45.196695Z",
     "start_time": "2024-09-15T13:03:44.720481Z"
    }
   },
   "cell_type": "code",
   "source": [
    "im_def = cle.pull(im_default)\n",
    "len(np.unique(im_def))"
   ],
   "id": "aef72488a8822e6b",
   "outputs": [
    {
     "data": {
      "text/plain": [
       "12199"
      ]
     },
     "execution_count": 29,
     "metadata": {},
     "output_type": "execute_result"
    }
   ],
   "execution_count": 29
  },
  {
   "metadata": {
    "ExecuteTime": {
     "end_time": "2024-09-15T13:08:57.881511Z",
     "start_time": "2024-09-15T13:08:54.046477Z"
    }
   },
   "cell_type": "code",
   "source": [
    "@magicgui(auto_call=True)\n",
    "def otsu_labeling(im: ImageData,\n",
    "                  sigma: float = 0.1,\n",
    "                  n_erosions: int = 2,\n",
    "                  dilation_radius: int = 1) -> LabelsData:\n",
    "    im = cle.gaussian_blur(im, sigma_x=sigma, sigma_y=sigma, sigma_z=sigma)\n",
    "    im = cle.threshold_otsu(im)\n",
    "    if n_erosions>0:\n",
    "        original_mask = cle.copy(im)\n",
    "    for _ in range(n_erosions):\n",
    "        im = cle.erode_labels(im, radius=1)\n",
    "    if n_erosions > 0:\n",
    "        im = cle.masked_voronoi_labeling(im, mask=original_mask)\n",
    "    im = cle.dilate_labels(im, radius=dilation_radius)\n",
    "    im = cle.erode_connected_labels(im, radius=1)\n",
    "    return im\n",
    "\n",
    "im_self = otsu_labeling(im)"
   ],
   "id": "483e25aad867b6ea",
   "outputs": [],
   "execution_count": 33
  },
  {
   "metadata": {
    "ExecuteTime": {
     "end_time": "2024-09-15T13:04:41.897518Z",
     "start_time": "2024-09-15T13:04:35.266227Z"
    }
   },
   "cell_type": "code",
   "source": [
    "\n",
    "viewer = napari.Viewer()\n",
    "viewer.add_image(im, name=\"original\")\n",
    "viewer.window.add_dock_widget(otsu_labeling)\n",
    "viewer.add_labels(im_default)\n"
   ],
   "id": "31f298ba3d388e",
   "outputs": [
    {
     "data": {
      "text/plain": [
       "<Labels layer 'im_default' at 0x12fc7a7c090>"
      ]
     },
     "execution_count": 32,
     "metadata": {},
     "output_type": "execute_result"
    }
   ],
   "execution_count": 32
  },
  {
   "metadata": {
    "ExecuteTime": {
     "end_time": "2024-09-15T12:56:01.191120Z",
     "start_time": "2024-09-15T12:56:00.916719Z"
    }
   },
   "cell_type": "code",
   "source": "viewer.camera.zoom = 4",
   "id": "2a9cd952c5deb2e9",
   "outputs": [],
   "execution_count": 11
  },
  {
   "metadata": {
    "ExecuteTime": {
     "end_time": "2024-09-15T13:09:05.930871Z",
     "start_time": "2024-09-15T13:09:02.525727Z"
    }
   },
   "cell_type": "code",
   "source": "stat = cle.statistics_of_labelled_pixels(im_self, intensity=im)",
   "id": "ecbf05993ac4775c",
   "outputs": [],
   "execution_count": 34
  },
  {
   "metadata": {
    "ExecuteTime": {
     "end_time": "2024-09-15T13:31:58.981754Z",
     "start_time": "2024-09-15T13:31:58.454403Z"
    }
   },
   "cell_type": "code",
   "source": [
    "from pprint import pprint\n",
    "pprint(stat.keys())\n",
    "len(np.unique(im_self))"
   ],
   "id": "4351d5ec5f829821",
   "outputs": [
    {
     "name": "stdout",
     "output_type": "stream",
     "text": [
      "dict_keys(['sum_z', 'label', 'sum_intensity_times_z', 'bbox_min_x', 'bbox_min_y', 'sum_intensity_times_x', 'bbox_depth', 'bbox_min_z', 'bbox_max_x', 'bbox_max_y', 'bbox_max_z', 'min_intensity', 'bbox_width', 'mass_center_x', 'bbox_height', 'area', 'sum_intensity_times_y', 'max_intensity', 'sum_intensity', 'mean_intensity', 'mass_center_y', 'mass_center_z', 'sum_x', 'centroid_x', 'sum_y', 'centroid_y', 'centroid_z', 'sum_distance_to_centroid', 'mean_distance_to_centroid', 'sum_distance_to_mass_center', 'mean_distance_to_mass_center', 'standard_deviation_intensity', 'max_distance_to_centroid', 'max_distance_to_mass_center', 'mean_max_distance_to_centroid_ratio', 'mean_max_distance_to_mass_center_ratio'])\n"
     ]
    },
    {
     "data": {
      "text/plain": [
       "7573"
      ]
     },
     "execution_count": 41,
     "metadata": {},
     "output_type": "execute_result"
    }
   ],
   "execution_count": 41
  },
  {
   "metadata": {
    "ExecuteTime": {
     "end_time": "2024-09-15T13:41:28.986982Z",
     "start_time": "2024-09-15T13:41:28.787753Z"
    }
   },
   "cell_type": "code",
   "source": "df = pd.DataFrame(stat))",
   "id": "afcf23c5096f9a9f",
   "outputs": [
    {
     "ename": "NameError",
     "evalue": "name 'pd' is not defined",
     "output_type": "error",
     "traceback": [
      "\u001B[1;31m---------------------------------------------------------------------------\u001B[0m",
      "\u001B[1;31mNameError\u001B[0m                                 Traceback (most recent call last)",
      "Cell \u001B[1;32mIn[58], line 1\u001B[0m\n\u001B[1;32m----> 1\u001B[0m df \u001B[38;5;241m=\u001B[39m (pd\u001B[38;5;241m.\u001B[39mDataFrame(stat))\n",
      "\u001B[1;31mNameError\u001B[0m: name 'pd' is not defined"
     ]
    }
   ],
   "execution_count": 58
  },
  {
   "metadata": {
    "ExecuteTime": {
     "end_time": "2024-09-15T13:35:44.231566Z",
     "start_time": "2024-09-15T13:35:44.046709Z"
    }
   },
   "cell_type": "code",
   "source": [
    "areas = np.array(stat[\"area\"])\n",
    "areas = areas[areas > 100]"
   ],
   "id": "7faea11c3931ace2",
   "outputs": [],
   "execution_count": 46
  },
  {
   "metadata": {
    "ExecuteTime": {
     "end_time": "2024-09-15T13:40:50.144245Z",
     "start_time": "2024-09-15T13:40:49.864031Z"
    }
   },
   "cell_type": "code",
   "source": [
    "im_self = cle.pull(im_self)\n",
    "particle = np.where(im_self == 1, 1, 0)\n",
    "particle.shape"
   ],
   "id": "fe5b64d737d9f3f6",
   "outputs": [
    {
     "data": {
      "text/plain": [
       "(10, 1780, 2214)"
      ]
     },
     "execution_count": 56,
     "metadata": {},
     "output_type": "execute_result"
    }
   ],
   "execution_count": 56
  },
  {
   "metadata": {
    "ExecuteTime": {
     "end_time": "2024-09-15T13:39:50.861881Z",
     "start_time": "2024-09-15T13:39:50.676005Z"
    }
   },
   "cell_type": "code",
   "source": "",
   "id": "85b96d0daf9c559e",
   "outputs": [
    {
     "data": {
      "text/plain": [
       "2.0"
      ]
     },
     "execution_count": 55,
     "metadata": {},
     "output_type": "execute_result"
    }
   ],
   "execution_count": 55
  },
  {
   "metadata": {
    "ExecuteTime": {
     "end_time": "2024-09-15T13:40:54.051800Z",
     "start_time": "2024-09-15T13:40:53.069237Z"
    }
   },
   "cell_type": "code",
   "source": [
    "viewer = napari.Viewer()\n",
    "viewer.add_image(particle, name=\"particle\")"
   ],
   "id": "8bab06b8dbb0604d",
   "outputs": [
    {
     "data": {
      "text/plain": [
       "<Image layer 'particle' at 0x12fc9ff6410>"
      ]
     },
     "execution_count": 57,
     "metadata": {},
     "output_type": "execute_result"
    }
   ],
   "execution_count": 57
  },
  {
   "metadata": {
    "ExecuteTime": {
     "end_time": "2024-09-15T13:36:41.193446Z",
     "start_time": "2024-09-15T13:36:40.785044Z"
    }
   },
   "cell_type": "code",
   "source": "plt.hist(np.sqrt(areas), bins=100)",
   "id": "6e463224e4179eeb",
   "outputs": [
    {
     "data": {
      "text/plain": [
       "(array([1.002e+03, 1.051e+03, 7.870e+02, 4.800e+02, 3.720e+02, 2.950e+02,\n",
       "        2.360e+02, 1.770e+02, 1.620e+02, 1.430e+02, 1.240e+02, 1.200e+02,\n",
       "        1.200e+02, 8.300e+01, 1.020e+02, 8.400e+01, 8.200e+01, 6.600e+01,\n",
       "        7.200e+01, 5.300e+01, 6.300e+01, 7.800e+01, 3.100e+01, 4.600e+01,\n",
       "        5.100e+01, 5.400e+01, 4.400e+01, 4.600e+01, 5.900e+01, 4.900e+01,\n",
       "        4.000e+01, 4.900e+01, 5.200e+01, 4.200e+01, 4.500e+01, 5.200e+01,\n",
       "        3.800e+01, 3.100e+01, 3.800e+01, 3.200e+01, 4.100e+01, 2.500e+01,\n",
       "        3.500e+01, 3.100e+01, 2.200e+01, 2.400e+01, 2.300e+01, 2.800e+01,\n",
       "        1.400e+01, 1.300e+01, 1.900e+01, 1.500e+01, 9.000e+00, 1.400e+01,\n",
       "        9.000e+00, 1.400e+01, 1.400e+01, 7.000e+00, 5.000e+00, 9.000e+00,\n",
       "        8.000e+00, 7.000e+00, 6.000e+00, 5.000e+00, 3.000e+00, 4.000e+00,\n",
       "        3.000e+00, 5.000e+00, 4.000e+00, 2.000e+00, 3.000e+00, 2.000e+00,\n",
       "        2.000e+00, 2.000e+00, 3.000e+00, 4.000e+00, 0.000e+00, 0.000e+00,\n",
       "        1.000e+00, 0.000e+00, 1.000e+00, 2.000e+00, 4.000e+00, 1.000e+00,\n",
       "        2.000e+00, 1.000e+00, 0.000e+00, 2.000e+00, 1.000e+00, 3.000e+00,\n",
       "        0.000e+00, 0.000e+00, 0.000e+00, 1.000e+00, 0.000e+00, 1.000e+00,\n",
       "        0.000e+00, 1.000e+00, 0.000e+00, 1.000e+00]),\n",
       " array([ 10.04987562,  12.46405378,  14.87823194,  17.29241011,\n",
       "         19.70658827,  22.12076643,  24.53494459,  26.94912275,\n",
       "         29.36330091,  31.77747907,  34.19165724,  36.6058354 ,\n",
       "         39.02001356,  41.43419172,  43.84836988,  46.26254804,\n",
       "         48.6767262 ,  51.09090437,  53.50508253,  55.91926069,\n",
       "         58.33343885,  60.74761701,  63.16179517,  65.57597333,\n",
       "         67.99015149,  70.40432966,  72.81850782,  75.23268598,\n",
       "         77.64686414,  80.0610423 ,  82.47522046,  84.88939862,\n",
       "         87.30357679,  89.71775495,  92.13193311,  94.54611127,\n",
       "         96.96028943,  99.37446759, 101.78864575, 104.20282392,\n",
       "        106.61700208, 109.03118024, 111.4453584 , 113.85953656,\n",
       "        116.27371472, 118.68789288, 121.10207105, 123.51624921,\n",
       "        125.93042737, 128.34460553, 130.75878369, 133.17296185,\n",
       "        135.58714001, 138.00131818, 140.41549634, 142.8296745 ,\n",
       "        145.24385266, 147.65803082, 150.07220898, 152.48638714,\n",
       "        154.90056531, 157.31474347, 159.72892163, 162.14309979,\n",
       "        164.55727795, 166.97145611, 169.38563427, 171.79981244,\n",
       "        174.2139906 , 176.62816876, 179.04234692, 181.45652508,\n",
       "        183.87070324, 186.2848814 , 188.69905957, 191.11323773,\n",
       "        193.52741589, 195.94159405, 198.35577221, 200.76995037,\n",
       "        203.18412853, 205.5983067 , 208.01248486, 210.42666302,\n",
       "        212.84084118, 215.25501934, 217.6691975 , 220.08337566,\n",
       "        222.49755382, 224.91173199, 227.32591015, 229.74008831,\n",
       "        232.15426647, 234.56844463, 236.98262279, 239.39680095,\n",
       "        241.81097912, 244.22515728, 246.63933544, 249.0535136 ,\n",
       "        251.46769176]),\n",
       " <BarContainer object of 100 artists>)"
      ]
     },
     "execution_count": 50,
     "metadata": {},
     "output_type": "execute_result"
    },
    {
     "data": {
      "text/plain": [
       "<Figure size 640x480 with 1 Axes>"
      ],
      "image/png": "[encoded data removed]"
     },
     "metadata": {},
     "output_type": "display_data"
    }
   ],
   "execution_count": 50
  }
 ],
 "metadata": {
  "kernelspec": {
   "display_name": "Python 3",
   "language": "python",
   "name": "python3"
  },
  "language_info": {
   "codemirror_mode": {
    "name": "ipython",
    "version": 2
   },
   "file_extension": ".py",
   "mimetype": "text/x-python",
   "name": "python",
   "nbconvert_exporter": "python",
   "pygments_lexer": "ipython2",
   "version": "2.7.6"
  }
 },
 "nbformat": 4,
 "nbformat_minor": 5
}
