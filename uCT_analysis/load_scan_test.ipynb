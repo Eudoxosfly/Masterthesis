{
 "cells": [
  {
   "metadata": {
    "ExecuteTime": {
     "end_time": "2024-09-24T10:23:05.807217Z",
     "start_time": "2024-09-24T10:23:05.596835Z"
    }
   },
   "cell_type": "code",
   "source": [
    "%load_ext autoreload\n",
    "%autoreload 2\n",
    "\n",
    "from mt.scan import Scan"
   ],
   "id": "235ed9c497739f47",
   "outputs": [
    {
     "name": "stdout",
     "output_type": "stream",
     "text": [
      "The autoreload extension is already loaded. To reload it, use:\n",
      "  %reload_ext autoreload\n"
     ]
    }
   ],
   "execution_count": 12
  },
  {
   "metadata": {
    "ExecuteTime": {
     "end_time": "2024-09-24T10:21:00.088105Z",
     "start_time": "2024-09-24T10:20:47.787222Z"
    }
   },
   "cell_type": "code",
   "source": [
    "path = \"../../04_uCT/AD67/\"\n",
    "scan = Scan(path)\n",
    "scan.load(logging=True)"
   ],
   "id": "802b4a835c8314ef",
   "outputs": [
    {
     "name": "stdout",
     "output_type": "stream",
     "text": [
      "Loading pickled Scan object from: ../../04_uCT/AD67/Scan.pkl\n",
      "Loading images from:  ../../04_uCT/AD67/Slices/\n",
      "Loaded stack with shape (1781, 126, 2231) and a size of 1.00 GB in 4.67 s.\n",
      "Loaded _mask from: ../../04_uCT/AD67/_mask.npy\n",
      "Loaded _particle_mask from: ../../04_uCT/AD67/_particle_mask.npy\n",
      "Loaded _tesselation from: ../../04_uCT/AD67/_tesselation.npy\n"
     ]
    }
   ],
   "execution_count": 6
  },
  {
   "metadata": {
    "ExecuteTime": {
     "end_time": "2024-09-24T10:16:55.394400Z",
     "start_time": "2024-09-24T10:16:44.366720Z"
    }
   },
   "cell_type": "code",
   "source": "scan.show(axis=\"z\")",
   "id": "4095474962baefed",
   "outputs": [],
   "execution_count": 3
  },
  {
   "metadata": {
    "ExecuteTime": {
     "end_time": "2024-09-24T10:21:41.495154Z",
     "start_time": "2024-09-24T10:21:05.824330Z"
    }
   },
   "cell_type": "code",
   "outputs": [
    {
     "name": "stdout",
     "output_type": "stream",
     "text": [
      "Starting mask analysis.\n",
      "Starting particle analysis.\n"
     ]
    }
   ],
   "execution_count": 8,
   "source": "scan.calculate_properties(logging=True)",
   "id": "9b75f67b2a558ad1"
  }
 ],
 "metadata": {
  "kernelspec": {
   "display_name": "Python 3",
   "language": "python",
   "name": "python3"
  },
  "language_info": {
   "codemirror_mode": {
    "name": "ipython",
    "version": 2
   },
   "file_extension": ".py",
   "mimetype": "text/x-python",
   "name": "python",
   "nbconvert_exporter": "python",
   "pygments_lexer": "ipython2",
   "version": "2.7.6"
  }
 },
 "nbformat": 4,
 "nbformat_minor": 5
}
