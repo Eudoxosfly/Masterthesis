{
 "cells": [
  {
   "metadata": {
    "ExecuteTime": {
     "end_time": "2024-10-20T15:10:01.054925Z",
     "start_time": "2024-10-20T15:10:00.612909Z"
    }
   },
   "cell_type": "code",
   "source": [
    "%load_ext autoreload\n",
    "%autoreload 2\n",
    "\n",
    "import numpy as np\n",
    "from mt.scan import Scan"
   ],
   "id": "235ed9c497739f47",
   "outputs": [
    {
     "name": "stdout",
     "output_type": "stream",
     "text": [
      "The autoreload extension is already loaded. To reload it, use:\n",
      "  %reload_ext autoreload\n"
     ]
    }
   ],
   "execution_count": 13
  },
  {
   "metadata": {
    "ExecuteTime": {
     "end_time": "2024-10-20T15:18:54.103448Z",
     "start_time": "2024-10-20T15:18:22.269019Z"
    }
   },
   "cell_type": "code",
   "source": [
    "path = \"../../04_uCT/BA05/\"\n",
    "scan = Scan(path)\n",
    "scan.load(logging=True)"
   ],
   "id": "7f392d86f6b0c44f",
   "outputs": [
    {
     "name": "stdout",
     "output_type": "stream",
     "text": [
      "Loading images from:  ../../04_uCT/BA05/Slices/\n",
      "Loaded stack with shape (1783, 2423, 390) and a size of 3.37 GB in 29.77 s.\n",
      "No _mask file found at: ../../04_uCT/BA05/_mask.npy\n",
      "No _particle_mask file found at: ../../04_uCT/BA05/_particle_mask.npy\n",
      "No _tesselation file found at: ../../04_uCT/BA05/_tesselation.npy\n"
     ]
    }
   ],
   "execution_count": 16
  },
  {
   "metadata": {
    "ExecuteTime": {
     "end_time": "2024-10-20T15:19:26.011634Z",
     "start_time": "2024-10-20T15:19:23.653108Z"
    }
   },
   "cell_type": "code",
   "source": "scan.show(axis=\"z\")",
   "id": "802b4a835c8314ef",
   "outputs": [],
   "execution_count": 19
  },
  {
   "metadata": {
    "ExecuteTime": {
     "end_time": "2024-10-20T15:19:37.983002Z",
     "start_time": "2024-10-20T15:19:37.670243Z"
    }
   },
   "cell_type": "code",
   "source": "del scan",
   "id": "415f9336de422554",
   "outputs": [],
   "execution_count": 20
  },
  {
   "metadata": {
    "ExecuteTime": {
     "end_time": "2024-09-24T10:21:41.495154Z",
     "start_time": "2024-09-24T10:21:05.824330Z"
    }
   },
   "cell_type": "code",
   "outputs": [
    {
     "name": "stdout",
     "output_type": "stream",
     "text": [
      "Starting mask analysis.\n",
      "Starting particle analysis.\n"
     ]
    }
   ],
   "execution_count": 8,
   "source": "scan.calculate_properties(logging=True)",
   "id": "9b75f67b2a558ad1"
  }
 ],
 "metadata": {
  "kernelspec": {
   "display_name": "Python 3",
   "language": "python",
   "name": "python3"
  },
  "language_info": {
   "codemirror_mode": {
    "name": "ipython",
    "version": 2
   },
   "file_extension": ".py",
   "mimetype": "text/x-python",
   "name": "python",
   "nbconvert_exporter": "python",
   "pygments_lexer": "ipython2",
   "version": "2.7.6"
  }
 },
 "nbformat": 4,
 "nbformat_minor": 5
}
