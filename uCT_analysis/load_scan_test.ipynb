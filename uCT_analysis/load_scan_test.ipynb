{
 "cells": [
  {
   "metadata": {
    "ExecuteTime": {
     "end_time": "2024-10-17T19:43:18.251310Z",
     "start_time": "2024-10-17T19:43:16.242159Z"
    }
   },
   "cell_type": "code",
   "source": [
    "%load_ext autoreload\n",
    "%autoreload 2\n",
    "\n",
    "from mt.scan import Scan"
   ],
   "id": "235ed9c497739f47",
   "outputs": [],
   "execution_count": 1
  },
  {
   "metadata": {
    "ExecuteTime": {
     "end_time": "2024-10-17T19:43:42.870428Z",
     "start_time": "2024-10-17T19:43:29.477933Z"
    }
   },
   "cell_type": "code",
   "source": [
    "path = \"../../04_uCT/AD67/\"\n",
    "scan = Scan(path)\n",
    "scan.load(logging=True)"
   ],
   "id": "802b4a835c8314ef",
   "outputs": [
    {
     "name": "stdout",
     "output_type": "stream",
     "text": [
      "Loading pickled Scan object from: ../../04_uCT/AD67/Scan.pkl\n",
      "Loading images from:  ../../04_uCT/AD67/Slices/\n",
      "Loaded stack with shape (1781, 126, 2231) and a size of 1.00 GB in 10.21 s.\n",
      "Loaded _mask from: ../../04_uCT/AD67/_mask.npy\n",
      "Loaded _particle_mask from: ../../04_uCT/AD67/_particle_mask.npy\n",
      "Loaded _tesselation from: ../../04_uCT/AD67/_tesselation.npy\n"
     ]
    }
   ],
   "execution_count": 2
  },
  {
   "metadata": {
    "ExecuteTime": {
     "end_time": "2024-09-27T07:57:59.282441Z",
     "start_time": "2024-09-27T07:57:57.185538Z"
    }
   },
   "cell_type": "code",
   "source": "scan.show(axis=\"z\")",
   "id": "4095474962baefed",
   "outputs": [
    {
     "ename": "TypeError",
     "evalue": "iteration over a 0-d array",
     "output_type": "error",
     "traceback": [
      "\u001B[1;31m---------------------------------------------------------------------------\u001B[0m",
      "\u001B[1;31mTypeError\u001B[0m                                 Traceback (most recent call last)",
      "Cell \u001B[1;32mIn[6], line 1\u001B[0m\n\u001B[1;32m----> 1\u001B[0m scan\u001B[38;5;241m.\u001B[39mshow(axis\u001B[38;5;241m=\u001B[39m\u001B[38;5;124m\"\u001B[39m\u001B[38;5;124mz\u001B[39m\u001B[38;5;124m\"\u001B[39m)\n",
      "File \u001B[1;32m~\\OneDrive\\Documents\\StudiumDocs\\MatSci_Ma\\Thesis\\03_Computation\\mt\\scan.py:197\u001B[0m, in \u001B[0;36mScan.show\u001B[1;34m(self, axis)\u001B[0m\n\u001B[0;32m    195\u001B[0m \u001B[38;5;28;01mif\u001B[39;00m axis \u001B[38;5;241m==\u001B[39m \u001B[38;5;124m\"\u001B[39m\u001B[38;5;124mz\u001B[39m\u001B[38;5;124m\"\u001B[39m:\n\u001B[0;32m    196\u001B[0m     t \u001B[38;5;241m=\u001B[39m \u001B[38;5;28;01mlambda\u001B[39;00m x: np\u001B[38;5;241m.\u001B[39mtranspose(x, (\u001B[38;5;241m1\u001B[39m, \u001B[38;5;241m0\u001B[39m, \u001B[38;5;241m2\u001B[39m) \u001B[38;5;28;01mif\u001B[39;00m x \u001B[38;5;129;01mis\u001B[39;00m \u001B[38;5;129;01mnot\u001B[39;00m \u001B[38;5;28;01mNone\u001B[39;00m \u001B[38;5;28;01melse\u001B[39;00m \u001B[38;5;28;01mNone\u001B[39;00m)\n\u001B[1;32m--> 197\u001B[0m     show_in_napari(t(\u001B[38;5;28mself\u001B[39m\u001B[38;5;241m.\u001B[39mget_stack()),\n\u001B[0;32m    198\u001B[0m                    t(\u001B[38;5;28mself\u001B[39m\u001B[38;5;241m.\u001B[39mget_mask()),\n\u001B[0;32m    199\u001B[0m                    t(\u001B[38;5;28mself\u001B[39m\u001B[38;5;241m.\u001B[39mget_particle_mask()),\n\u001B[0;32m    200\u001B[0m                    t(\u001B[38;5;28mself\u001B[39m\u001B[38;5;241m.\u001B[39mget_tesselation())\n\u001B[0;32m    201\u001B[0m                    )\n\u001B[0;32m    203\u001B[0m \u001B[38;5;28;01melif\u001B[39;00m axis \u001B[38;5;241m==\u001B[39m \u001B[38;5;124m\"\u001B[39m\u001B[38;5;124my\u001B[39m\u001B[38;5;124m\"\u001B[39m:\n\u001B[0;32m    204\u001B[0m     show_in_napari(\u001B[38;5;28mself\u001B[39m\u001B[38;5;241m.\u001B[39mget_stack(),\n\u001B[0;32m    205\u001B[0m                    \u001B[38;5;28mself\u001B[39m\u001B[38;5;241m.\u001B[39mget_mask(),\n\u001B[0;32m    206\u001B[0m                    \u001B[38;5;28mself\u001B[39m\u001B[38;5;241m.\u001B[39mget_particle_mask(),\n\u001B[0;32m    207\u001B[0m                    \u001B[38;5;28mself\u001B[39m\u001B[38;5;241m.\u001B[39mget_tesselation())\n",
      "File \u001B[1;32m~\\OneDrive\\Documents\\StudiumDocs\\MatSci_Ma\\Thesis\\03_Computation\\mt\\ct_utils.py:128\u001B[0m, in \u001B[0;36mshow_in_napari\u001B[1;34m(img, *labels)\u001B[0m\n\u001B[0;32m    126\u001B[0m \u001B[38;5;28;01mfor\u001B[39;00m label \u001B[38;5;129;01min\u001B[39;00m labels:\n\u001B[0;32m    127\u001B[0m     \u001B[38;5;28;01mif\u001B[39;00m label \u001B[38;5;129;01mis\u001B[39;00m \u001B[38;5;129;01mnot\u001B[39;00m \u001B[38;5;28;01mNone\u001B[39;00m:\n\u001B[1;32m--> 128\u001B[0m         viewer\u001B[38;5;241m.\u001B[39madd_labels(label)\n",
      "File \u001B[1;32m~\\anaconda3\\envs\\thesis\\Lib\\site-packages\\napari\\utils\\add_layer.py_tmpl:7\u001B[0m, in \u001B[0;36madd_labels\u001B[1;34m(self, data, affine, axis_labels, blending, cache, colormap, depiction, experimental_clipping_planes, features, iso_gradient_mode, metadata, multiscale, name, opacity, plane, projection_mode, properties, rendering, rotate, scale, shear, translate, units, visible)\u001B[0m\n\u001B[0;32m      5\u001B[0m for name in getattr({cls_name}.__init__, \"_deprecated_constructor_args\", []):\n\u001B[0;32m      6\u001B[0m     pos_kwargs[name] = kwargs.pop(name, None)\n\u001B[1;32m----> 7\u001B[0m layer = {cls_name}(**kwargs)\n\u001B[0;32m      8\u001B[0m for name, value in pos_kwargs.items():\n\u001B[0;32m      9\u001B[0m     if value is not None:\n",
      "File \u001B[1;32m~\\anaconda3\\envs\\thesis\\Lib\\site-packages\\napari\\layers\\base\\base.py:114\u001B[0m, in \u001B[0;36mPostInit.__call__\u001B[1;34m(self, *args, **kwargs)\u001B[0m\n\u001B[0;32m    113\u001B[0m \u001B[38;5;28;01mdef\u001B[39;00m \u001B[38;5;21m__call__\u001B[39m(\u001B[38;5;28mself\u001B[39m, \u001B[38;5;241m*\u001B[39margs, \u001B[38;5;241m*\u001B[39m\u001B[38;5;241m*\u001B[39mkwargs):\n\u001B[1;32m--> 114\u001B[0m     obj \u001B[38;5;241m=\u001B[39m \u001B[38;5;28msuper\u001B[39m()\u001B[38;5;241m.\u001B[39m\u001B[38;5;21m__call__\u001B[39m(\u001B[38;5;241m*\u001B[39margs, \u001B[38;5;241m*\u001B[39m\u001B[38;5;241m*\u001B[39mkwargs)\n\u001B[0;32m    115\u001B[0m     obj\u001B[38;5;241m.\u001B[39m_post_init()\n\u001B[0;32m    116\u001B[0m     \u001B[38;5;28;01mreturn\u001B[39;00m obj\n",
      "File \u001B[1;32m~\\anaconda3\\envs\\thesis\\Lib\\site-packages\\napari\\layers\\labels\\labels.py:342\u001B[0m, in \u001B[0;36mLabels.__init__\u001B[1;34m(self, data, affine, axis_labels, blending, cache, colormap, depiction, experimental_clipping_planes, features, iso_gradient_mode, metadata, multiscale, name, opacity, plane, projection_mode, properties, rendering, rotate, scale, shear, translate, units, visible)\u001B[0m\n\u001B[0;32m    339\u001B[0m \u001B[38;5;28mself\u001B[39m\u001B[38;5;241m.\u001B[39m_show_selected_label \u001B[38;5;241m=\u001B[39m \u001B[38;5;28;01mFalse\u001B[39;00m\n\u001B[0;32m    340\u001B[0m \u001B[38;5;28mself\u001B[39m\u001B[38;5;241m.\u001B[39m_contour \u001B[38;5;241m=\u001B[39m \u001B[38;5;241m0\u001B[39m\n\u001B[1;32m--> 342\u001B[0m data \u001B[38;5;241m=\u001B[39m \u001B[38;5;28mself\u001B[39m\u001B[38;5;241m.\u001B[39m_ensure_int_labels(data)\n\u001B[0;32m    344\u001B[0m \u001B[38;5;28msuper\u001B[39m()\u001B[38;5;241m.\u001B[39m\u001B[38;5;21m__init__\u001B[39m(\n\u001B[0;32m    345\u001B[0m     data,\n\u001B[0;32m    346\u001B[0m     affine\u001B[38;5;241m=\u001B[39maffine,\n\u001B[1;32m   (...)\u001B[0m\n\u001B[0;32m    364\u001B[0m     visible\u001B[38;5;241m=\u001B[39mvisible,\n\u001B[0;32m    365\u001B[0m )\n\u001B[0;32m    367\u001B[0m \u001B[38;5;28mself\u001B[39m\u001B[38;5;241m.\u001B[39mevents\u001B[38;5;241m.\u001B[39madd(\n\u001B[0;32m    368\u001B[0m     brush_shape\u001B[38;5;241m=\u001B[39mEvent,\n\u001B[0;32m    369\u001B[0m     brush_size\u001B[38;5;241m=\u001B[39mEvent,\n\u001B[1;32m   (...)\u001B[0m\n\u001B[0;32m    381\u001B[0m     show_selected_label\u001B[38;5;241m=\u001B[39mEvent,\n\u001B[0;32m    382\u001B[0m )\n",
      "File \u001B[1;32m~\\anaconda3\\envs\\thesis\\Lib\\site-packages\\napari\\layers\\labels\\labels.py:652\u001B[0m, in \u001B[0;36mLabels._ensure_int_labels\u001B[1;34m(self, data)\u001B[0m\n\u001B[0;32m    650\u001B[0m \u001B[38;5;28;01mdef\u001B[39;00m \u001B[38;5;21m_ensure_int_labels\u001B[39m(\u001B[38;5;28mself\u001B[39m, data):\n\u001B[0;32m    651\u001B[0m \u001B[38;5;250m    \u001B[39m\u001B[38;5;124;03m\"\"\"Ensure data is integer by converting from bool if required, raising an error otherwise.\"\"\"\u001B[39;00m\n\u001B[1;32m--> 652\u001B[0m     looks_multiscale, data \u001B[38;5;241m=\u001B[39m guess_multiscale(data)\n\u001B[0;32m    653\u001B[0m     \u001B[38;5;28;01mif\u001B[39;00m \u001B[38;5;129;01mnot\u001B[39;00m looks_multiscale:\n\u001B[0;32m    654\u001B[0m         data \u001B[38;5;241m=\u001B[39m [data]\n",
      "File \u001B[1;32m~\\anaconda3\\envs\\thesis\\Lib\\site-packages\\napari\\layers\\image\\_image_utils.py:72\u001B[0m, in \u001B[0;36mguess_multiscale\u001B[1;34m(data)\u001B[0m\n\u001B[0;32m     68\u001B[0m \u001B[38;5;28;01mif\u001B[39;00m \u001B[38;5;28misinstance\u001B[39m(data, (\u001B[38;5;28mlist\u001B[39m, \u001B[38;5;28mtuple\u001B[39m)) \u001B[38;5;129;01mand\u001B[39;00m \u001B[38;5;28mlen\u001B[39m(data) \u001B[38;5;241m==\u001B[39m \u001B[38;5;241m1\u001B[39m:\n\u001B[0;32m     69\u001B[0m     \u001B[38;5;66;03m# pyramid with only one level, unwrap\u001B[39;00m\n\u001B[0;32m     70\u001B[0m     \u001B[38;5;28;01mreturn\u001B[39;00m \u001B[38;5;28;01mFalse\u001B[39;00m, data[\u001B[38;5;241m0\u001B[39m]\n\u001B[1;32m---> 72\u001B[0m sizes \u001B[38;5;241m=\u001B[39m [d\u001B[38;5;241m.\u001B[39msize \u001B[38;5;28;01mfor\u001B[39;00m d \u001B[38;5;129;01min\u001B[39;00m data]\n\u001B[0;32m     73\u001B[0m \u001B[38;5;28;01mif\u001B[39;00m \u001B[38;5;28mlen\u001B[39m(sizes) \u001B[38;5;241m<\u001B[39m\u001B[38;5;241m=\u001B[39m \u001B[38;5;241m1\u001B[39m:\n\u001B[0;32m     74\u001B[0m     \u001B[38;5;28;01mreturn\u001B[39;00m \u001B[38;5;28;01mFalse\u001B[39;00m, data\n",
      "\u001B[1;31mTypeError\u001B[0m: iteration over a 0-d array"
     ]
    }
   ],
   "execution_count": 6
  },
  {
   "metadata": {
    "ExecuteTime": {
     "end_time": "2024-09-24T10:21:41.495154Z",
     "start_time": "2024-09-24T10:21:05.824330Z"
    }
   },
   "cell_type": "code",
   "outputs": [
    {
     "name": "stdout",
     "output_type": "stream",
     "text": [
      "Starting mask analysis.\n",
      "Starting particle analysis.\n"
     ]
    }
   ],
   "execution_count": 8,
   "source": "scan.calculate_properties(logging=True)",
   "id": "9b75f67b2a558ad1"
  }
 ],
 "metadata": {
  "kernelspec": {
   "display_name": "Python 3",
   "language": "python",
   "name": "python3"
  },
  "language_info": {
   "codemirror_mode": {
    "name": "ipython",
    "version": 2
   },
   "file_extension": ".py",
   "mimetype": "text/x-python",
   "name": "python",
   "nbconvert_exporter": "python",
   "pygments_lexer": "ipython2",
   "version": "2.7.6"
  }
 },
 "nbformat": 4,
 "nbformat_minor": 5
}
