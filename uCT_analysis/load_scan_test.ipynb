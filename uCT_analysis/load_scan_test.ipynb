{
 "cells": [
  {
   "metadata": {
    "ExecuteTime": {
     "end_time": "2024-09-23T13:53:01.823330Z",
     "start_time": "2024-09-23T13:52:56.344869Z"
    }
   },
   "cell_type": "code",
   "source": [
    "%load_ext autoreload\n",
    "%autoreload 2\n",
    "\n",
    "from mt.scan import Scan"
   ],
   "id": "235ed9c497739f47",
   "outputs": [],
   "execution_count": 1
  },
  {
   "metadata": {
    "ExecuteTime": {
     "end_time": "2024-09-23T13:53:18.935191Z",
     "start_time": "2024-09-23T13:53:01.831103Z"
    }
   },
   "cell_type": "code",
   "source": [
    "path = \"../../04_uCT/AD51/\"\n",
    "scan = Scan(path)\n",
    "scan.load(logging=True)"
   ],
   "id": "802b4a835c8314ef",
   "outputs": [
    {
     "name": "stdout",
     "output_type": "stream",
     "text": [
      "Loading pickled Scan object from: ../../04_uCT/AD51/Scan.pkl\n",
      "Loading images from:  ../../04_uCT/AD51/Slices/\n",
      "Loaded stack with shape (1780, 322, 2267) and a size of 2.60 GB in 16.96 s.\n",
      "No segmentation.npy file found at: ../../04_uCT/AD51/segmentation.npy\n",
      "No particle_mask.npy file found at: ../../04_uCT/AD51/particle_mask.npy\n"
     ]
    }
   ],
   "execution_count": 2
  },
  {
   "metadata": {
    "ExecuteTime": {
     "end_time": "2024-09-23T13:53:20.417048Z",
     "start_time": "2024-09-23T13:53:19.027753Z"
    }
   },
   "cell_type": "code",
   "source": "scan.reslice()",
   "id": "bc19c751ccd88c42",
   "outputs": [],
   "execution_count": 3
  },
  {
   "metadata": {
    "ExecuteTime": {
     "end_time": "2024-09-23T13:53:27.327855Z",
     "start_time": "2024-09-23T13:53:21.396385Z"
    }
   },
   "cell_type": "code",
   "source": "scan.show()",
   "id": "641c469f95f166cc",
   "outputs": [
    {
     "name": "stdout",
     "output_type": "stream",
     "text": [
      "No mask found.\n"
     ]
    }
   ],
   "execution_count": 4
  },
  {
   "metadata": {
    "ExecuteTime": {
     "end_time": "2024-09-22T20:30:58.975384Z",
     "start_time": "2024-09-22T20:30:57.973847Z"
    }
   },
   "cell_type": "code",
   "source": "scan.show(particle_mask_only=True)",
   "id": "4095474962baefed",
   "outputs": [],
   "execution_count": 4
  },
  {
   "metadata": {
    "ExecuteTime": {
     "end_time": "2024-09-22T21:25:13.669581Z",
     "start_time": "2024-09-22T21:25:12.164133Z"
    }
   },
   "cell_type": "code",
   "source": "scan.save()",
   "id": "d654abb54b7694c7",
   "outputs": [],
   "execution_count": 48
  },
  {
   "metadata": {
    "ExecuteTime": {
     "end_time": "2024-09-22T21:24:14.099651Z",
     "start_time": "2024-09-22T21:23:58.766814Z"
    }
   },
   "cell_type": "code",
   "source": "scan.calculate_properties(logging=True)",
   "id": "9b75f67b2a558ad1",
   "outputs": [
    {
     "name": "stdout",
     "output_type": "stream",
     "text": [
      "Starting mask analysis.\n",
      "Starting particle analysis.\n"
     ]
    }
   ],
   "execution_count": 45
  }
 ],
 "metadata": {
  "kernelspec": {
   "display_name": "Python 3",
   "language": "python",
   "name": "python3"
  },
  "language_info": {
   "codemirror_mode": {
    "name": "ipython",
    "version": 2
   },
   "file_extension": ".py",
   "mimetype": "text/x-python",
   "name": "python",
   "nbconvert_exporter": "python",
   "pygments_lexer": "ipython2",
   "version": "2.7.6"
  }
 },
 "nbformat": 4,
 "nbformat_minor": 5
}
