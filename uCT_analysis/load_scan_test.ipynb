{
 "cells": [
  {
   "metadata": {
    "ExecuteTime": {
     "end_time": "2024-09-22T20:44:35.740514Z",
     "start_time": "2024-09-22T20:44:35.656624Z"
    }
   },
   "cell_type": "code",
   "source": [
    "import numpy as np\n",
    "from sphinx.addnodes import index\n",
    "%load_ext autoreload\n",
    "%autoreload 2\n",
    "\n",
    "import pandas as pd\n",
    "\n",
    "\n",
    "from mt.scan import Scan\n",
    "from mt.ct_utils import contact_area"
   ],
   "id": "235ed9c497739f47",
   "outputs": [
    {
     "name": "stdout",
     "output_type": "stream",
     "text": [
      "The autoreload extension is already loaded. To reload it, use:\n",
      "  %reload_ext autoreload\n"
     ]
    }
   ],
   "execution_count": 13
  },
  {
   "metadata": {
    "ExecuteTime": {
     "end_time": "2024-09-22T20:30:33.213909Z",
     "start_time": "2024-09-22T20:30:29.756431Z"
    }
   },
   "cell_type": "code",
   "source": [
    "path = \"../../04_uCT/AD67/\"\n",
    "scan = Scan(path)\n",
    "scan.load(logging=True)"
   ],
   "id": "802b4a835c8314ef",
   "outputs": [
    {
     "name": "stdout",
     "output_type": "stream",
     "text": [
      "Loading pickled Scan object from: ../../04_uCT/AD67/Scan.pkl\n",
      "Loading images from:  ../../04_uCT/AD67/Slices/\n",
      "Loaded stack with shape (1781, 126, 2231) and a size of 1.00 GB in 1.74 s.\n",
      "Loaded mask from: ../../04_uCT/AD67/segmentation.npy\n",
      "Loaded particle mask from: ../../04_uCT/AD67/particle_mask.npy\n"
     ]
    }
   ],
   "execution_count": 2
  },
  {
   "metadata": {
    "ExecuteTime": {
     "end_time": "2024-09-22T20:30:43.484451Z",
     "start_time": "2024-09-22T20:30:40.156663Z"
    }
   },
   "cell_type": "code",
   "source": "scan.show()",
   "id": "641c469f95f166cc",
   "outputs": [],
   "execution_count": 3
  },
  {
   "metadata": {
    "ExecuteTime": {
     "end_time": "2024-09-22T20:30:58.975384Z",
     "start_time": "2024-09-22T20:30:57.973847Z"
    }
   },
   "cell_type": "code",
   "source": "scan.show(particle_mask_only=True)",
   "id": "4095474962baefed",
   "outputs": [],
   "execution_count": 4
  },
  {
   "metadata": {
    "ExecuteTime": {
     "end_time": "2024-09-22T21:25:13.669581Z",
     "start_time": "2024-09-22T21:25:12.164133Z"
    }
   },
   "cell_type": "code",
   "source": "scan.save()",
   "id": "d654abb54b7694c7",
   "outputs": [],
   "execution_count": 48
  },
  {
   "metadata": {
    "ExecuteTime": {
     "end_time": "2024-09-22T21:24:14.099651Z",
     "start_time": "2024-09-22T21:23:58.766814Z"
    }
   },
   "cell_type": "code",
   "source": "scan.calculate_properties(logging=True)",
   "id": "9b75f67b2a558ad1",
   "outputs": [
    {
     "name": "stdout",
     "output_type": "stream",
     "text": [
      "Starting mask analysis.\n",
      "Starting particle analysis.\n"
     ]
    }
   ],
   "execution_count": 45
  }
 ],
 "metadata": {
  "kernelspec": {
   "display_name": "Python 3",
   "language": "python",
   "name": "python3"
  },
  "language_info": {
   "codemirror_mode": {
    "name": "ipython",
    "version": 2
   },
   "file_extension": ".py",
   "mimetype": "text/x-python",
   "name": "python",
   "nbconvert_exporter": "python",
   "pygments_lexer": "ipython2",
   "version": "2.7.6"
  }
 },
 "nbformat": 4,
 "nbformat_minor": 5
}
