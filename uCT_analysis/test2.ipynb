{
 "cells": [
  {
   "cell_type": "code",
   "id": "initial_id",
   "metadata": {
    "collapsed": true,
    "ExecuteTime": {
     "end_time": "2024-09-19T07:48:51.360867Z",
     "start_time": "2024-09-19T07:48:49.887871Z"
    }
   },
   "source": [
    "import numpy as np\n",
    "\n",
    "from mt.scan import *"
   ],
   "outputs": [],
   "execution_count": 1
  },
  {
   "metadata": {
    "ExecuteTime": {
     "end_time": "2024-09-19T08:04:00.511002Z",
     "start_time": "2024-09-19T08:03:54.063919Z"
    }
   },
   "cell_type": "code",
   "source": [
    "path1 = \"../../04_uCT/AD51/\"\n",
    "path2 = \"../../04_uCT/AD48/\"\n",
    "scan = Scan(path2)\n",
    "scan.load(logging=True)"
   ],
   "id": "cb1764b1192a82b6",
   "outputs": [
    {
     "name": "stdout",
     "output_type": "stream",
     "text": [
      "Loading pickled Scan object from: ../../04_uCT/AD48/Scan.pkl\n",
      "Loading images from:  ../../04_uCT/AD48/Slices/\n",
      "Loaded stack with shape (1797, 203, 2425) and a size of 1.77 GB in 2.31 s.\n",
      "Loading images from:  ../../04_uCT/AD48/Segmentation/\n",
      "Loaded stack with shape (1637, 203, 2425) and a size of 0.81 GB in 4.13 s.\n",
      "Loaded existing mask from: ../../04_uCT/AD48/Segmentation\n"
     ]
    }
   ],
   "execution_count": 12
  },
  {
   "metadata": {
    "ExecuteTime": {
     "end_time": "2024-09-19T08:11:26.177764Z",
     "start_time": "2024-09-19T08:11:25.130064Z"
    }
   },
   "cell_type": "code",
   "source": "scan.show()",
   "id": "4d20b4aa507288ab",
   "outputs": [],
   "execution_count": 14
  },
  {
   "metadata": {
    "ExecuteTime": {
     "end_time": "2024-09-19T07:49:17.905500Z",
     "start_time": "2024-09-19T07:49:17.894763Z"
    }
   },
   "cell_type": "code",
   "source": "from mt.scan_analysis import contact_area",
   "id": "6b1ee0ea1f3dad1f",
   "outputs": [],
   "execution_count": 3
  },
  {
   "metadata": {
    "ExecuteTime": {
     "end_time": "2024-09-19T07:51:03.963877Z",
     "start_time": "2024-09-19T07:50:52.568231Z"
    }
   },
   "cell_type": "code",
   "source": [
    "air_Al = contact_area(scan.mask, 1, 3)\n",
    "poly_Al = contact_area(scan.mask, 2, 3)"
   ],
   "id": "cd15d1bb6efd362e",
   "outputs": [],
   "execution_count": 6
  },
  {
   "metadata": {
    "ExecuteTime": {
     "end_time": "2024-09-19T07:51:33.393621Z",
     "start_time": "2024-09-19T07:51:33.389479Z"
    }
   },
   "cell_type": "code",
   "source": [
    "print(\"Air-Al contact area: \", air_Al)\n",
    "print(\"Poly-Al contact area: \", poly_Al)\n",
    "print(\"Poly-Al / Air-Al: \", poly_Al/(air_Al+poly_Al))"
   ],
   "id": "72b58f107fa2a67a",
   "outputs": [
    {
     "name": "stdout",
     "output_type": "stream",
     "text": [
      "Air-Al contact area:  12932361\n",
      "Poly-Al contact area:  6247\n",
      "Poly-Al / Air-Al:  0.0004828185535878357\n"
     ]
    }
   ],
   "execution_count": 7
  },
  {
   "metadata": {
    "ExecuteTime": {
     "end_time": "2024-09-19T08:33:05.717419Z",
     "start_time": "2024-09-19T08:33:05.713771Z"
    }
   },
   "cell_type": "code",
   "source": "from mt.ct_utils import particle_segmentation\n",
   "id": "ae0dc3dbffa38acc",
   "outputs": [],
   "execution_count": 15
  },
  {
   "metadata": {},
   "cell_type": "code",
   "outputs": [],
   "execution_count": null,
   "source": "mask = particle_segmentation(scan.stack, )",
   "id": "ef511d7063725278"
  },
  {
   "metadata": {
    "ExecuteTime": {
     "end_time": "2024-09-19T09:36:54.589878Z",
     "start_time": "2024-09-19T09:36:54.036561Z"
    }
   },
   "cell_type": "code",
   "source": [
    "import skimage\n",
    "from mt.ct_utils import *\n",
    "import matplotlib.pyplot as plt"
   ],
   "id": "31f1122050a6338d",
   "outputs": [],
   "execution_count": 24
  },
  {
   "metadata": {
    "ExecuteTime": {
     "end_time": "2024-09-19T09:43:10.103064Z",
     "start_time": "2024-09-19T09:43:10.099119Z"
    }
   },
   "cell_type": "code",
   "source": "im = skimage.io.imread(\"test.tif\")\n",
   "id": "1cb51c5f09e43eff",
   "outputs": [],
   "execution_count": 41
  },
  {
   "metadata": {
    "ExecuteTime": {
     "end_time": "2024-09-19T09:44:01.523800Z",
     "start_time": "2024-09-19T09:44:01.519925Z"
    }
   },
   "cell_type": "code",
   "source": [
    "# @magicgui(auto_call=True)\n",
    "def interactive(image: ImageData,\n",
    "                min_percentile: int = 0,\n",
    "                max_percentile: int = 100,) -> ImageData:\n",
    "    p1, p2 = np.percentile(image, (min_percentile, max_percentile))\n",
    "    img_rescale = skimage.exposure.rescale_intensity(image, in_range=(p1, p2))\n",
    "    \n",
    "    return img_rescale"
   ],
   "id": "c93f03e88c9d2c1b",
   "outputs": [],
   "execution_count": 46
  },
  {
   "metadata": {
    "ExecuteTime": {
     "end_time": "2024-09-19T09:44:28.738143Z",
     "start_time": "2024-09-19T09:44:28.266994Z"
    }
   },
   "cell_type": "code",
   "source": [
    "\n",
    "viewer = napari.Viewer()\n",
    "viewer.add_image(im)\n",
    "# viewer.window.add_dock_widget(interactive)"
   ],
   "id": "1eebdab6c50e61a2",
   "outputs": [
    {
     "data": {
      "text/plain": [
       "<Image layer 'im' at 0x1362aba0590>"
      ]
     },
     "execution_count": 48,
     "metadata": {},
     "output_type": "execute_result"
    }
   ],
   "execution_count": 48
  },
  {
   "metadata": {
    "ExecuteTime": {
     "end_time": "2024-09-19T09:44:16.279323Z",
     "start_time": "2024-09-19T09:44:02.739393Z"
    }
   },
   "cell_type": "code",
   "source": [
    "im = interactive(scan.stack, 3, 97)\n",
    "im.shape\n",
    "im.dtype"
   ],
   "id": "ce2ddafa38da2f2b",
   "outputs": [
    {
     "data": {
      "text/plain": [
       "dtype('uint16')"
      ]
     },
     "execution_count": 47,
     "metadata": {},
     "output_type": "execute_result"
    }
   ],
   "execution_count": 47
  }
 ],
 "metadata": {
  "kernelspec": {
   "display_name": "Python 3",
   "language": "python",
   "name": "python3"
  },
  "language_info": {
   "codemirror_mode": {
    "name": "ipython",
    "version": 2
   },
   "file_extension": ".py",
   "mimetype": "text/x-python",
   "name": "python",
   "nbconvert_exporter": "python",
   "pygments_lexer": "ipython2",
   "version": "2.7.6"
  }
 },
 "nbformat": 4,
 "nbformat_minor": 5
}
