{
 "cells": [
  {
   "cell_type": "code",
   "id": "initial_id",
   "metadata": {
    "collapsed": true,
    "ExecuteTime": {
     "end_time": "2024-09-18T22:44:15.306056Z",
     "start_time": "2024-09-18T22:44:13.804443Z"
    }
   },
   "source": "from mt.scan import *",
   "outputs": [],
   "execution_count": 1
  },
  {
   "metadata": {
    "ExecuteTime": {
     "end_time": "2024-09-18T22:44:27.765612Z",
     "start_time": "2024-09-18T22:44:15.310060Z"
    }
   },
   "cell_type": "code",
   "source": [
    "path = \"../../04_uCT/AD48/\"\n",
    "scan = Scan(path)\n",
    "scan.load(logging=True)\n",
    "scan.show()"
   ],
   "id": "cb1764b1192a82b6",
   "outputs": [
    {
     "name": "stdout",
     "output_type": "stream",
     "text": [
      "Loading pickled Scan object from: ../../04_uCT/AD48/Scan.pkl\n",
      "Loading images from:  ../../04_uCT/AD48/Slices/\n",
      "Loaded stack with shape (1797, 203, 2425) and a size of 1.77 GB in 4.30 s.\n",
      "Loading images from:  ../../04_uCT/AD48/Segmentation/\n",
      "Loaded stack with shape (1637, 203, 2425) and a size of 0.81 GB in 4.79 s.\n",
      "Loaded existing mask from: ../../04_uCT/AD48/Segmentation\n"
     ]
    }
   ],
   "execution_count": 2
  },
  {
   "metadata": {
    "ExecuteTime": {
     "end_time": "2024-09-18T22:44:27.932897Z",
     "start_time": "2024-09-18T22:44:27.930624Z"
    }
   },
   "cell_type": "code",
   "source": "",
   "id": "6b1ee0ea1f3dad1f",
   "outputs": [],
   "execution_count": null
  }
 ],
 "metadata": {
  "kernelspec": {
   "display_name": "Python 3",
   "language": "python",
   "name": "python3"
  },
  "language_info": {
   "codemirror_mode": {
    "name": "ipython",
    "version": 2
   },
   "file_extension": ".py",
   "mimetype": "text/x-python",
   "name": "python",
   "nbconvert_exporter": "python",
   "pygments_lexer": "ipython2",
   "version": "2.7.6"
  }
 },
 "nbformat": 4,
 "nbformat_minor": 5
}
