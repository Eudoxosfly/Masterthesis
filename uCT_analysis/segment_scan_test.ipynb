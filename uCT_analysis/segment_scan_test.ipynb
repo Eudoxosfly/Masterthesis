{
 "cells": [
  {
   "cell_type": "code",
   "id": "initial_id",
   "metadata": {
    "collapsed": true,
    "ExecuteTime": {
     "end_time": "2024-09-23T20:31:53.386646Z",
     "start_time": "2024-09-23T20:31:51.428954Z"
    }
   },
   "source": [
    "%load_ext autoreload\n",
    "%autoreload 2\n",
    "\n",
    "from mt.scan import *\n",
    "cle.select_device(\"RTX\")"
   ],
   "outputs": [
    {
     "data": {
      "text/plain": [
       "(OpenCL) NVIDIA GeForce RTX 4070 SUPER (OpenCL 3.0 CUDA)\n",
       "\tVendor:                      NVIDIA Corporation\n",
       "\tDriver Version:              560.70\n",
       "\tDevice Type:                 GPU\n",
       "\tCompute Units:               56\n",
       "\tGlobal Memory Size:          12281 MB\n",
       "\tMaximum Object Size:         3070 MB\n",
       "\tMax Clock Frequency:         2505 MHz\n",
       "\tImage Support:               Yes"
      ]
     },
     "execution_count": 1,
     "metadata": {},
     "output_type": "execute_result"
    }
   ],
   "execution_count": 1
  },
  {
   "metadata": {
    "ExecuteTime": {
     "end_time": "2024-09-23T20:31:57.364343Z",
     "start_time": "2024-09-23T20:31:53.618883Z"
    }
   },
   "cell_type": "code",
   "source": [
    "path = \"../../04_uCT/AD67/\"\n",
    "scan = Scan(path,\n",
    "            discard_ends=True)\n",
    "scan.load(logging=True)"
   ],
   "id": "96cae9eb82305a89",
   "outputs": [
    {
     "name": "stdout",
     "output_type": "stream",
     "text": [
      "Loading pickled Scan object from: ../../04_uCT/AD67/Scan.pkl\n",
      "Loading images from:  ../../04_uCT/AD67/Slices/\n",
      "Loaded stack with shape (1781, 126, 2231) and a size of 1.00 GB in 1.92 s.\n",
      "Loaded mask from: ../../04_uCT/AD67/segmentation.npy\n",
      "Loaded particle mask from: ../../04_uCT/AD67/particle_mask.npy\n"
     ]
    }
   ],
   "execution_count": 2
  },
  {
   "metadata": {
    "ExecuteTime": {
     "end_time": "2024-09-23T20:31:57.417109Z",
     "start_time": "2024-09-23T20:31:57.369350Z"
    }
   },
   "cell_type": "code",
   "source": "# scan.try_segmentation_settings()",
   "id": "84313fbec557f455",
   "outputs": [],
   "execution_count": 3
  },
  {
   "metadata": {
    "ExecuteTime": {
     "end_time": "2024-09-23T20:31:57.879019Z",
     "start_time": "2024-09-23T20:31:57.833301Z"
    }
   },
   "cell_type": "code",
   "source": "# scan.try_segmentation_settings(segment_particles_only=True, subset_size=30)",
   "id": "997c92c23930bda1",
   "outputs": [],
   "execution_count": 4
  },
  {
   "metadata": {
    "ExecuteTime": {
     "end_time": "2024-09-23T20:31:57.942729Z",
     "start_time": "2024-09-23T20:31:57.894830Z"
    }
   },
   "cell_type": "code",
   "source": [
    "settings = SegmentationSettings(particle_mask_sigma=0.8,\n",
    "                                particle_n_erosions=7,\n",
    "                                particle_enlarge_radius=1)\n",
    "scan.set_particle_segmentation_settings(settings)\n",
    "print(scan.particle_segmentation_settings)"
   ],
   "id": "311bb33242bdf9c0",
   "outputs": [
    {
     "name": "stdout",
     "output_type": "stream",
     "text": [
      "air_mask_simga = 0.6\n",
      "air_n_erosions = 2\n",
      "particle_mask_sigma = 0.8\n",
      "particle_n_erosions = 7\n",
      "particle_enlarge_radius = 1\n",
      "smooth_labels_radius = 2\n",
      "contrast_min_percentile = 0\n",
      "contrast_max_percentile = 100\n"
     ]
    }
   ],
   "execution_count": 5
  },
  {
   "metadata": {
    "ExecuteTime": {
     "end_time": "2024-09-23T20:31:58.069665Z",
     "start_time": "2024-09-23T20:31:58.020096Z"
    }
   },
   "cell_type": "code",
   "source": [
    "settings = SegmentationSettings(air_mask_sigma=0.6,\n",
    "                                air_n_erosions=2,\n",
    "                                contrast_min_percentile=0,\n",
    "                                contrast_max_percentile=9,\n",
    "                                particle_mask_sigma=0.2,\n",
    "                                particle_n_erosions=2,\n",
    "                                particle_enlarge_radius=1,\n",
    "                                smooth_labels_radius=2)\n",
    "scan.set_segmentation_settings(settings)\n",
    "print(scan.segmentation_settings)"
   ],
   "id": "bb06eeeb2b1d2340",
   "outputs": [
    {
     "name": "stdout",
     "output_type": "stream",
     "text": [
      "air_mask_simga = 0.6\n",
      "air_n_erosions = 2\n",
      "particle_mask_sigma = 0.2\n",
      "particle_n_erosions = 2\n",
      "particle_enlarge_radius = 1\n",
      "smooth_labels_radius = 2\n",
      "contrast_min_percentile = 0\n",
      "contrast_max_percentile = 9\n"
     ]
    }
   ],
   "execution_count": 6
  },
  {
   "metadata": {
    "ExecuteTime": {
     "end_time": "2024-09-23T20:32:32.410117Z",
     "start_time": "2024-09-23T20:31:58.086834Z"
    }
   },
   "cell_type": "code",
   "source": "scan.segment()",
   "id": "79d8e60c9d04799e",
   "outputs": [],
   "execution_count": 7
  },
  {
   "metadata": {
    "ExecuteTime": {
     "end_time": "2024-09-23T20:32:43.635085Z",
     "start_time": "2024-09-23T20:32:32.427291Z"
    }
   },
   "cell_type": "code",
   "source": "scan.segment_particles()",
   "id": "3ad5eaab50af2f6b",
   "outputs": [],
   "execution_count": 8
  },
  {
   "metadata": {
    "ExecuteTime": {
     "end_time": "2024-09-23T20:33:20.801924Z",
     "start_time": "2024-09-23T20:33:19.754446Z"
    }
   },
   "cell_type": "code",
   "source": "scan.show(particle_mask_only=True, axis=\"z\")",
   "id": "402f27988caa424",
   "outputs": [],
   "execution_count": 13
  },
  {
   "metadata": {
    "ExecuteTime": {
     "end_time": "2024-09-23T20:32:50.939868Z",
     "start_time": "2024-09-23T20:32:48.277193Z"
    }
   },
   "cell_type": "code",
   "source": "scan.save()",
   "id": "4f173f6c90ae0464",
   "outputs": [],
   "execution_count": 11
  }
 ],
 "metadata": {
  "kernelspec": {
   "display_name": "Python 3",
   "language": "python",
   "name": "python3"
  },
  "language_info": {
   "codemirror_mode": {
    "name": "ipython",
    "version": 2
   },
   "file_extension": ".py",
   "mimetype": "text/x-python",
   "name": "python",
   "nbconvert_exporter": "python",
   "pygments_lexer": "ipython2",
   "version": "2.7.6"
  }
 },
 "nbformat": 4,
 "nbformat_minor": 5
}
