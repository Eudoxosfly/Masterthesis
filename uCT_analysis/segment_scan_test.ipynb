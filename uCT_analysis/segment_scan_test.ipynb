{
 "cells": [
  {
   "cell_type": "code",
   "id": "initial_id",
   "metadata": {
    "collapsed": true,
    "ExecuteTime": {
     "end_time": "2024-09-22T20:25:03.973006Z",
     "start_time": "2024-09-22T20:25:02.213964Z"
    }
   },
   "source": [
    "%load_ext autoreload\n",
    "%autoreload 2\n",
    "\n",
    "from mt.scan import *\n",
    "cle.select_device(\"RTX\")"
   ],
   "outputs": [
    {
     "data": {
      "text/plain": [
       "(OpenCL) NVIDIA GeForce RTX 4070 SUPER (OpenCL 3.0 CUDA)\n",
       "\tVendor:                      NVIDIA Corporation\n",
       "\tDriver Version:              560.70\n",
       "\tDevice Type:                 GPU\n",
       "\tCompute Units:               56\n",
       "\tGlobal Memory Size:          12281 MB\n",
       "\tMaximum Object Size:         3070 MB\n",
       "\tMax Clock Frequency:         2505 MHz\n",
       "\tImage Support:               Yes"
      ]
     },
     "execution_count": 1,
     "metadata": {},
     "output_type": "execute_result"
    }
   ],
   "execution_count": 1
  },
  {
   "metadata": {
    "ExecuteTime": {
     "end_time": "2024-09-22T20:25:05.588925Z",
     "start_time": "2024-09-22T20:25:03.986017Z"
    }
   },
   "cell_type": "code",
   "source": [
    "path = \"../../04_uCT/AD67/\"\n",
    "scan = Scan(path,\n",
    "            discard_ends=True)\n",
    "scan.load(logging=True,\n",
    "          refresh=True)"
   ],
   "id": "96cae9eb82305a89",
   "outputs": [
    {
     "name": "stdout",
     "output_type": "stream",
     "text": [
      "Loading images from:  ../../04_uCT/AD67/Slices/\n",
      "Loaded stack with shape (1781, 126, 2231) and a size of 1.00 GB in 1.22 s.\n",
      "Loaded mask from: ../../04_uCT/AD67/segmentation.npy\n",
      "Loaded particle mask from: ../../04_uCT/AD67/particle_mask.npy\n"
     ]
    }
   ],
   "execution_count": 2
  },
  {
   "metadata": {
    "ExecuteTime": {
     "end_time": "2024-09-22T20:25:06.691212Z",
     "start_time": "2024-09-22T20:25:05.742721Z"
    }
   },
   "cell_type": "code",
   "source": "# scan.try_segmentation_settings()",
   "id": "84313fbec557f455",
   "outputs": [],
   "execution_count": 3
  },
  {
   "metadata": {
    "ExecuteTime": {
     "end_time": "2024-09-22T20:25:07.155056Z",
     "start_time": "2024-09-22T20:25:07.105319Z"
    }
   },
   "cell_type": "code",
   "source": "# scan.try_segmentation_settings(segment_particles_only=True)\n",
   "id": "997c92c23930bda1",
   "outputs": [],
   "execution_count": 4
  },
  {
   "metadata": {
    "ExecuteTime": {
     "end_time": "2024-09-22T20:25:07.222243Z",
     "start_time": "2024-09-22T20:25:07.171071Z"
    }
   },
   "cell_type": "code",
   "source": [
    "settings = SegmentationSettings(particle_mask_sigma=0.4,\n",
    "                                particle_n_erosions=3,\n",
    "                                particle_enlarge_radius=1)\n",
    "scan.set_particle_segmentation_settings(settings)\n",
    "print(scan.particle_segmentation_settings)"
   ],
   "id": "311bb33242bdf9c0",
   "outputs": [
    {
     "name": "stdout",
     "output_type": "stream",
     "text": [
      "air_mask_simga = 0.6\n",
      "air_n_erosions = 2\n",
      "particle_mask_sigma = 0.4\n",
      "particle_n_erosions = 3\n",
      "particle_enlarge_radius = 1\n",
      "smooth_labels_radius = 2\n",
      "contrast_min_percentile = 0\n",
      "contrast_max_percentile = 100\n"
     ]
    }
   ],
   "execution_count": 5
  },
  {
   "metadata": {
    "ExecuteTime": {
     "end_time": "2024-09-22T20:25:07.357385Z",
     "start_time": "2024-09-22T20:25:07.305704Z"
    }
   },
   "cell_type": "code",
   "source": [
    "settings = SegmentationSettings(air_mask_sigma=0.6,\n",
    "                                air_n_erosions=2,\n",
    "                                contrast_min_percentile=0,\n",
    "                                contrast_max_percentile=9,\n",
    "                                particle_mask_sigma=0.2,\n",
    "                                particle_n_erosions=2,\n",
    "                                particle_enlarge_radius=1,\n",
    "                                smooth_labels_radius=2)\n",
    "scan.set_segmentation_settings(settings)\n",
    "print(scan.segmentation_settings)"
   ],
   "id": "bb06eeeb2b1d2340",
   "outputs": [
    {
     "name": "stdout",
     "output_type": "stream",
     "text": [
      "air_mask_simga = 0.6\n",
      "air_n_erosions = 2\n",
      "particle_mask_sigma = 0.2\n",
      "particle_n_erosions = 2\n",
      "particle_enlarge_radius = 1\n",
      "smooth_labels_radius = 2\n",
      "contrast_min_percentile = 0\n",
      "contrast_max_percentile = 9\n"
     ]
    }
   ],
   "execution_count": 6
  },
  {
   "metadata": {
    "ExecuteTime": {
     "end_time": "2024-09-22T20:25:45.340457Z",
     "start_time": "2024-09-22T20:25:07.442521Z"
    }
   },
   "cell_type": "code",
   "source": "scan.segment()",
   "id": "79d8e60c9d04799e",
   "outputs": [],
   "execution_count": 7
  },
  {
   "metadata": {
    "ExecuteTime": {
     "end_time": "2024-09-22T20:25:52.160780Z",
     "start_time": "2024-09-22T20:25:45.356473Z"
    }
   },
   "cell_type": "code",
   "source": "scan.segment_particles()",
   "id": "3ad5eaab50af2f6b",
   "outputs": [],
   "execution_count": 8
  },
  {
   "metadata": {
    "ExecuteTime": {
     "end_time": "2024-09-22T20:25:55.361383Z",
     "start_time": "2024-09-22T20:25:52.176012Z"
    }
   },
   "cell_type": "code",
   "source": "scan.show()",
   "id": "402f27988caa424",
   "outputs": [],
   "execution_count": 9
  },
  {
   "metadata": {
    "ExecuteTime": {
     "end_time": "2024-09-22T20:25:56.696560Z",
     "start_time": "2024-09-22T20:25:55.515131Z"
    }
   },
   "cell_type": "code",
   "source": "scan.save()",
   "id": "4f173f6c90ae0464",
   "outputs": [],
   "execution_count": 10
  }
 ],
 "metadata": {
  "kernelspec": {
   "display_name": "Python 3",
   "language": "python",
   "name": "python3"
  },
  "language_info": {
   "codemirror_mode": {
    "name": "ipython",
    "version": 2
   },
   "file_extension": ".py",
   "mimetype": "text/x-python",
   "name": "python",
   "nbconvert_exporter": "python",
   "pygments_lexer": "ipython2",
   "version": "2.7.6"
  }
 },
 "nbformat": 4,
 "nbformat_minor": 5
}
