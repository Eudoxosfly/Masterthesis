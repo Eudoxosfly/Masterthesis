{
 "cells": [
  {
   "cell_type": "code",
   "id": "initial_id",
   "metadata": {
    "collapsed": true,
    "ExecuteTime": {
     "end_time": "2024-09-15T21:28:48.089305Z",
     "start_time": "2024-09-15T21:28:46.237383Z"
    }
   },
   "source": [
    "%load_ext autoreload\n",
    "%autoreload 2\n",
    "\n",
    "from utils import *\n",
    "import pyclesperanto as cle\n",
    "import numpy as np\n",
    "import napari\n",
    "from magicgui import magicgui, magic_factory\n",
    "import pandas as pd\n",
    "cle.select_device(\"RTX\")"
   ],
   "outputs": [
    {
     "data": {
      "text/plain": [
       "(OpenCL) NVIDIA GeForce RTX 4070 SUPER (OpenCL 3.0 CUDA)\n",
       "\tVendor:                      NVIDIA Corporation\n",
       "\tDriver Version:              560.70\n",
       "\tDevice Type:                 GPU\n",
       "\tCompute Units:               56\n",
       "\tGlobal Memory Size:          12281 MB\n",
       "\tMaximum Object Size:         3070 MB\n",
       "\tMax Clock Frequency:         2505 MHz\n",
       "\tImage Support:               Yes"
      ]
     },
     "execution_count": 1,
     "metadata": {},
     "output_type": "execute_result"
    }
   ],
   "execution_count": 1
  },
  {
   "metadata": {
    "ExecuteTime": {
     "end_time": "2024-09-15T21:28:51.302433Z",
     "start_time": "2024-09-15T21:28:49.455478Z"
    }
   },
   "cell_type": "code",
   "source": [
    "path = \"../../04_uCT/AD51/\"\n",
    "scan = load_scan(path, logging=True)\n",
    "# scan.reslice()"
   ],
   "id": "96cae9eb82305a89",
   "outputs": [
    {
     "name": "stdout",
     "output_type": "stream",
     "text": [
      "Loading images from:  ../../04_uCT/AD51/Slices/\n",
      "Loaded stack with shape (1780, 322, 2267) and a size of 2.60 GB in 1.79 s.\n"
     ]
    }
   ],
   "execution_count": 2
  },
  {
   "metadata": {
    "ExecuteTime": {
     "end_time": "2024-09-15T21:28:52.028792Z",
     "start_time": "2024-09-15T21:28:51.977814Z"
    }
   },
   "cell_type": "code",
   "source": "subscan = scan[200:230]",
   "id": "49b6bf2bcd57b833",
   "outputs": [],
   "execution_count": 3
  },
  {
   "metadata": {
    "ExecuteTime": {
     "end_time": "2024-09-15T21:29:01.422428Z",
     "start_time": "2024-09-15T21:28:59.494252Z"
    }
   },
   "cell_type": "code",
   "source": [
    "@magicgui(auto_call=True)\n",
    "def segment(scan: ImageData,\n",
    "            logging: bool = True,\n",
    "            otsu_sigma: float = 0.6,\n",
    "            particle_enlarge_radius: int = 1,\n",
    "            particle_mask_sigma: float = 0.1,\n",
    "            particle_erosions: int = 0,\n",
    "            smooth_labels_radius: int = 2) -> LabelsData:\n",
    "    mask = segment_scan(scan, logging, otsu_sigma, particle_enlarge_radius, particle_mask_sigma, particle_erosions, smooth_labels_radius)\n",
    "    return mask\n",
    "\n",
    "\n",
    "def process_subset_in_napari(scan: ImageData, subset_size: int = 30):\n",
    "    @magicgui(auto_call=True)\n",
    "    def segment(scan: ImageData,\n",
    "                logging: bool = True,\n",
    "                otsu_sigma: float = 0.6,\n",
    "                particle_enlarge_radius: int = 1,\n",
    "                particle_mask_sigma: float = 0.1,\n",
    "                particle_erosions: int = 0,\n",
    "                smooth_labels_radius: int = 2) -> LabelsData:\n",
    "        mask = segment_scan(scan, logging, otsu_sigma, particle_enlarge_radius, particle_mask_sigma, particle_erosions, smooth_labels_radius)\n",
    "        return mask\n",
    "    \n",
    "    n_slices, _, _ = scan.shape\n",
    "    subscan = scan[n_slices//2-subset_size//2:n_slices//2+subset_size//2]\n",
    "    \n",
    "    viewer = napari.Viewer()\n",
    "    viewer.add_image(subscan)\n",
    "    viewer.window.add_dock_widget(segment, area='right')\n",
    "    "
   ],
   "id": "3884597b879136bd",
   "outputs": [],
   "execution_count": 4
  },
  {
   "metadata": {
    "ExecuteTime": {
     "end_time": "2024-09-15T21:22:31.467426Z",
     "start_time": "2024-09-15T21:21:13.649128Z"
    }
   },
   "cell_type": "code",
   "source": "mask = segment(subscan)",
   "id": "68262b21c667b3b3",
   "outputs": [
    {
     "name": "stdout",
     "output_type": "stream",
     "text": [
      "Smoothed image.\n",
      "Finished otsu masks.\n",
      "Finished refined particle mask.\n",
      "Created full segmentation.\n"
     ]
    }
   ],
   "execution_count": 5
  },
  {
   "metadata": {
    "ExecuteTime": {
     "end_time": "2024-09-15T21:22:33.101079Z",
     "start_time": "2024-09-15T21:22:31.468431Z"
    }
   },
   "cell_type": "code",
   "source": [
    "viewer = napari.Viewer()\n",
    "viewer.add_image(subscan)\n",
    "viewer.add_labels(mask)"
   ],
   "id": "df4fe2150df1e09a",
   "outputs": [
    {
     "data": {
      "text/plain": [
       "<Labels layer 'mask' at 0x254bc1079d0>"
      ]
     },
     "execution_count": 6,
     "metadata": {},
     "output_type": "execute_result"
    }
   ],
   "execution_count": 6
  },
  {
   "metadata": {
    "ExecuteTime": {
     "end_time": "2024-09-15T21:29:08.906420Z",
     "start_time": "2024-09-15T21:29:02.360694Z"
    }
   },
   "cell_type": "code",
   "source": [
    "viewer = napari.Viewer()\n",
    "viewer.add_image(subscan)\n",
    "viewer.window.add_dock_widget(segment, area='right')"
   ],
   "id": "7e0398738f292881",
   "outputs": [
    {
     "name": "stdout",
     "output_type": "stream",
     "text": [
      "Smoothed image.\n",
      "Finished otsu masks.\n",
      "Finished refined particle mask.\n",
      "Created full segmentation.\n"
     ]
    },
    {
     "data": {
      "text/plain": [
       "<napari._qt.widgets.qt_viewer_dock_widget.QtViewerDockWidget at 0x1b113dd8c10>"
      ]
     },
     "execution_count": 5,
     "metadata": {},
     "output_type": "execute_result"
    }
   ],
   "execution_count": 5
  }
 ],
 "metadata": {
  "kernelspec": {
   "display_name": "Python 3",
   "language": "python",
   "name": "python3"
  },
  "language_info": {
   "codemirror_mode": {
    "name": "ipython",
    "version": 2
   },
   "file_extension": ".py",
   "mimetype": "text/x-python",
   "name": "python",
   "nbconvert_exporter": "python",
   "pygments_lexer": "ipython2",
   "version": "2.7.6"
  }
 },
 "nbformat": 4,
 "nbformat_minor": 5
}
