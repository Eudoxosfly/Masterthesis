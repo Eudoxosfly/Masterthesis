{
 "cells": [
  {
   "cell_type": "code",
   "id": "initial_id",
   "metadata": {
    "collapsed": true,
    "ExecuteTime": {
     "end_time": "2024-09-19T10:12:45.748791Z",
     "start_time": "2024-09-19T10:12:45.593707Z"
    }
   },
   "source": [
    "%load_ext autoreload\n",
    "%autoreload 2\n",
    "\n",
    "from mt.scan import *\n",
    "from mt.ct_utils import adjust_contrast\n",
    "cle.select_device(\"RTX\")"
   ],
   "outputs": [
    {
     "name": "stdout",
     "output_type": "stream",
     "text": [
      "The autoreload extension is already loaded. To reload it, use:\n",
      "  %reload_ext autoreload\n"
     ]
    },
    {
     "data": {
      "text/plain": [
       "(OpenCL) NVIDIA GeForce RTX 4070 SUPER (OpenCL 3.0 CUDA)\n",
       "\tVendor:                      NVIDIA Corporation\n",
       "\tDriver Version:              560.70\n",
       "\tDevice Type:                 GPU\n",
       "\tCompute Units:               56\n",
       "\tGlobal Memory Size:          12281 MB\n",
       "\tMaximum Object Size:         3070 MB\n",
       "\tMax Clock Frequency:         2505 MHz\n",
       "\tImage Support:               Yes"
      ]
     },
     "execution_count": 10,
     "metadata": {},
     "output_type": "execute_result"
    }
   ],
   "execution_count": 10
  },
  {
   "metadata": {
    "ExecuteTime": {
     "end_time": "2024-09-19T10:13:06.560812Z",
     "start_time": "2024-09-19T10:12:59.274586Z"
    }
   },
   "cell_type": "code",
   "source": [
    "path1 = \"../../04_uCT/AD51/\"\n",
    "path2 = \"../../04_uCT/AD67/\"\n",
    "scan = Scan(path2,\n",
    "            low_memory_mode=0,\n",
    "            discard_ends=True)\n",
    "scan.load(logging=True,\n",
    "          refresh=True)"
   ],
   "id": "96cae9eb82305a89",
   "outputs": [
    {
     "name": "stdout",
     "output_type": "stream",
     "text": [
      "Loading images from:  ../../04_uCT/AD67/Slices/\n",
      "Loaded stack with shape (1781, 126, 2231) and a size of 1.00 GB in 7.14 s.\n",
      "No Segmentation folder found at: ../../04_uCT/AD67/Segmentation\n"
     ]
    }
   ],
   "execution_count": 12
  },
  {
   "metadata": {
    "ExecuteTime": {
     "end_time": "2024-09-19T10:17:28.140716Z",
     "start_time": "2024-09-19T10:17:27.155699Z"
    }
   },
   "cell_type": "code",
   "source": "scan.try_segmentation_settings(subset_size=30)",
   "id": "84313fbec557f455",
   "outputs": [],
   "execution_count": 14
  },
  {
   "metadata": {
    "ExecuteTime": {
     "end_time": "2024-09-19T10:05:18.940187Z",
     "start_time": "2024-09-19T10:05:18.897025Z"
    }
   },
   "cell_type": "code",
   "source": [
    "settings = SegmentationSettings(otsu_sigma=1.5,\n",
    "                                particle_mask_sigma=0.1,\n",
    "                                particle_n_erosions=2,\n",
    "                                particle_enlarge_radius=1,\n",
    "                                smooth_labels_radius=2)\n",
    "scan.set_segmentation_settings(settings)\n",
    "print(scan.segmentation_settings)"
   ],
   "id": "bb06eeeb2b1d2340",
   "outputs": [
    {
     "name": "stdout",
     "output_type": "stream",
     "text": [
      "Segmentation settings:\n",
      " Otsu thresholding: Gaussian smoothing sigma: 1.50\n",
      " Particle mask: Gaussian smoothing sigma: 0.10\n",
      " Particle mask: Erosion iterations: 2\n",
      " Particle mask: Dilation radius: 1\n",
      " Mask postprocessing: Smoothing radius: 2\n"
     ]
    }
   ],
   "execution_count": 5
  },
  {
   "metadata": {
    "ExecuteTime": {
     "end_time": "2024-09-19T10:07:30.358857Z",
     "start_time": "2024-09-19T10:05:33.983543Z"
    }
   },
   "cell_type": "code",
   "source": "scan.segment(logging=True)",
   "id": "79d8e60c9d04799e",
   "outputs": [
    {
     "name": "stdout",
     "output_type": "stream",
     "text": [
      "Segmenting scan in full memory mode.\n"
     ]
    }
   ],
   "execution_count": 6
  },
  {
   "metadata": {
    "ExecuteTime": {
     "end_time": "2024-09-19T10:12:09.334671Z",
     "start_time": "2024-09-19T10:12:09.263221Z"
    }
   },
   "cell_type": "code",
   "source": "scan.save()",
   "id": "4f173f6c90ae0464",
   "outputs": [],
   "execution_count": 8
  },
  {
   "metadata": {
    "ExecuteTime": {
     "end_time": "2024-09-19T10:12:21.313696Z",
     "start_time": "2024-09-19T10:12:11.036762Z"
    }
   },
   "cell_type": "code",
   "source": "scan.save_segmentation()",
   "id": "c14a346b449e36a6",
   "outputs": [
    {
     "name": "stdout",
     "output_type": "stream",
     "text": [
      "Saving masks to:  ../../04_uCT/AD68/Segmentation\n"
     ]
    },
    {
     "name": "stderr",
     "output_type": "stream",
     "text": [
      "1621it [00:10, 158.92it/s]\n"
     ]
    }
   ],
   "execution_count": 9
  },
  {
   "metadata": {
    "ExecuteTime": {
     "end_time": "2024-09-19T10:11:05.332438Z",
     "start_time": "2024-09-19T10:11:01.820075Z"
    }
   },
   "cell_type": "code",
   "source": "scan.show()",
   "id": "59015ccb3ea3263f",
   "outputs": [],
   "execution_count": 7
  },
  {
   "metadata": {
    "ExecuteTime": {
     "end_time": "2024-09-18T22:39:51.575535Z",
     "start_time": "2024-09-18T22:39:47.876335Z"
    }
   },
   "cell_type": "code",
   "source": [
    "viewer = napari.Viewer()\n",
    "viewer.add_image(scan.stack)\n",
    "viewer.add_labels(scan.mask)"
   ],
   "id": "df4fe2150df1e09a",
   "outputs": [
    {
     "data": {
      "text/plain": [
       "<Labels layer 'Labels' at 0x1e261d70dd0>"
      ]
     },
     "execution_count": 9,
     "metadata": {},
     "output_type": "execute_result"
    }
   ],
   "execution_count": 9
  },
  {
   "metadata": {},
   "cell_type": "markdown",
   "source": "",
   "id": "6a3191e360ac71b"
  }
 ],
 "metadata": {
  "kernelspec": {
   "display_name": "Python 3",
   "language": "python",
   "name": "python3"
  },
  "language_info": {
   "codemirror_mode": {
    "name": "ipython",
    "version": 2
   },
   "file_extension": ".py",
   "mimetype": "text/x-python",
   "name": "python",
   "nbconvert_exporter": "python",
   "pygments_lexer": "ipython2",
   "version": "2.7.6"
  }
 },
 "nbformat": 4,
 "nbformat_minor": 5
}
