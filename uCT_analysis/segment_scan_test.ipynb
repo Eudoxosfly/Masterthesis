{
 "cells": [
  {
   "cell_type": "code",
   "id": "initial_id",
   "metadata": {
    "collapsed": true,
    "ExecuteTime": {
     "end_time": "2024-09-18T22:39:07.783426Z",
     "start_time": "2024-09-18T22:39:06.121900Z"
    }
   },
   "source": [
    "%load_ext autoreload\n",
    "%autoreload 2\n",
    "\n",
    "from mt.scan import *\n",
    "\n",
    "cle.select_device(\"RTX\")"
   ],
   "outputs": [
    {
     "data": {
      "text/plain": [
       "(OpenCL) NVIDIA GeForce RTX 4070 SUPER (OpenCL 3.0 CUDA)\n",
       "\tVendor:                      NVIDIA Corporation\n",
       "\tDriver Version:              560.70\n",
       "\tDevice Type:                 GPU\n",
       "\tCompute Units:               56\n",
       "\tGlobal Memory Size:          12281 MB\n",
       "\tMaximum Object Size:         3070 MB\n",
       "\tMax Clock Frequency:         2505 MHz\n",
       "\tImage Support:               Yes"
      ]
     },
     "execution_count": 1,
     "metadata": {},
     "output_type": "execute_result"
    }
   ],
   "execution_count": 1
  },
  {
   "metadata": {
    "ExecuteTime": {
     "end_time": "2024-09-18T22:39:19.863847Z",
     "start_time": "2024-09-18T22:39:07.790434Z"
    }
   },
   "cell_type": "code",
   "source": [
    "path = \"../../04_uCT/AD48/\"\n",
    "scan = Scan(path,\n",
    "            low_memory_mode=0,\n",
    "            discard_ends=True)\n",
    "scan.load(logging=True,\n",
    "          refresh=True)"
   ],
   "id": "96cae9eb82305a89",
   "outputs": [
    {
     "name": "stdout",
     "output_type": "stream",
     "text": [
      "Loading images from:  ../../04_uCT/AD48/Slices/\n",
      "Loaded stack with shape (1797, 203, 2425) and a size of 1.77 GB in 3.37 s.\n",
      "Loading images from:  ../../04_uCT/AD48/Segmentation/\n",
      "Loaded stack with shape (1637, 203, 2425) and a size of 0.81 GB in 8.66 s.\n",
      "Loaded existing mask from: ../../04_uCT/AD48/Segmentation\n"
     ]
    }
   ],
   "execution_count": 2
  },
  {
   "metadata": {
    "ExecuteTime": {
     "end_time": "2024-09-18T22:39:20.919819Z",
     "start_time": "2024-09-18T22:39:20.020873Z"
    }
   },
   "cell_type": "code",
   "source": "# scan.try_segmentation_settings()",
   "id": "84313fbec557f455",
   "outputs": [],
   "execution_count": 3
  },
  {
   "metadata": {
    "ExecuteTime": {
     "end_time": "2024-09-18T22:39:21.286653Z",
     "start_time": "2024-09-18T22:39:21.240908Z"
    }
   },
   "cell_type": "code",
   "source": [
    "settings = SegmentationSettings(otsu_sigma=1.1,\n",
    "                                particle_mask_sigma=0.1,\n",
    "                                particle_n_erosions=2,\n",
    "                                particle_enlarge_radius=1,\n",
    "                                smooth_labels_radius=2)\n",
    "scan.set_segmentation_settings(settings)"
   ],
   "id": "bb06eeeb2b1d2340",
   "outputs": [],
   "execution_count": 4
  },
  {
   "metadata": {
    "ExecuteTime": {
     "end_time": "2024-09-18T22:39:21.349086Z",
     "start_time": "2024-09-18T22:39:21.303420Z"
    }
   },
   "cell_type": "code",
   "source": "print(scan.segmentation_settings)",
   "id": "c4c0e1f2e108508b",
   "outputs": [
    {
     "name": "stdout",
     "output_type": "stream",
     "text": [
      "Segmentation settings:\n",
      " Otsu thresholding: Gaussian smoothing sigma: 1.10\n",
      " Particle mask: Gaussian smoothing sigma: 0.10\n",
      " Particle mask: Erosion iterations: 2\n",
      " Particle mask: Dilation radius: 1\n",
      " Mask postprocessing: Smoothing radius: 2\n"
     ]
    }
   ],
   "execution_count": 5
  },
  {
   "metadata": {
    "ExecuteTime": {
     "end_time": "2024-09-18T22:39:38.324737Z",
     "start_time": "2024-09-18T22:39:21.440691Z"
    }
   },
   "cell_type": "code",
   "source": "scan.segment(logging=True)",
   "id": "79d8e60c9d04799e",
   "outputs": [
    {
     "name": "stdout",
     "output_type": "stream",
     "text": [
      "Segmenting scan in full memory mode.\n"
     ]
    }
   ],
   "execution_count": 6
  },
  {
   "metadata": {
    "ExecuteTime": {
     "end_time": "2024-09-18T22:39:38.386743Z",
     "start_time": "2024-09-18T22:39:38.340464Z"
    }
   },
   "cell_type": "code",
   "source": "scan.save()",
   "id": "4f173f6c90ae0464",
   "outputs": [],
   "execution_count": 7
  },
  {
   "metadata": {
    "ExecuteTime": {
     "end_time": "2024-09-18T22:39:47.854673Z",
     "start_time": "2024-09-18T22:39:38.403449Z"
    }
   },
   "cell_type": "code",
   "source": "scan.save_segmentation()",
   "id": "c14a346b449e36a6",
   "outputs": [
    {
     "name": "stdout",
     "output_type": "stream",
     "text": [
      "Saving masks to:  ../../04_uCT/AD48/Segmentation\n"
     ]
    },
    {
     "name": "stderr",
     "output_type": "stream",
     "text": [
      "1637it [00:09, 174.14it/s]\n"
     ]
    }
   ],
   "execution_count": 8
  },
  {
   "metadata": {
    "ExecuteTime": {
     "end_time": "2024-09-18T22:39:51.575535Z",
     "start_time": "2024-09-18T22:39:47.876335Z"
    }
   },
   "cell_type": "code",
   "source": [
    "viewer = napari.Viewer()\n",
    "viewer.add_image(scan.stack)\n",
    "viewer.add_labels(scan.mask)"
   ],
   "id": "df4fe2150df1e09a",
   "outputs": [
    {
     "data": {
      "text/plain": [
       "<Labels layer 'Labels' at 0x1e261d70dd0>"
      ]
     },
     "execution_count": 9,
     "metadata": {},
     "output_type": "execute_result"
    }
   ],
   "execution_count": 9
  },
  {
   "metadata": {},
   "cell_type": "markdown",
   "source": "",
   "id": "6a3191e360ac71b"
  }
 ],
 "metadata": {
  "kernelspec": {
   "display_name": "Python 3",
   "language": "python",
   "name": "python3"
  },
  "language_info": {
   "codemirror_mode": {
    "name": "ipython",
    "version": 2
   },
   "file_extension": ".py",
   "mimetype": "text/x-python",
   "name": "python",
   "nbconvert_exporter": "python",
   "pygments_lexer": "ipython2",
   "version": "2.7.6"
  }
 },
 "nbformat": 4,
 "nbformat_minor": 5
}
