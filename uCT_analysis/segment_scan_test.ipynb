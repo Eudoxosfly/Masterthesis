{
 "cells": [
  {
   "cell_type": "code",
   "id": "initial_id",
   "metadata": {
    "collapsed": true,
    "ExecuteTime": {
     "end_time": "2024-09-24T09:12:38.264240Z",
     "start_time": "2024-09-24T09:12:36.352343Z"
    }
   },
   "source": [
    "%load_ext autoreload\n",
    "%autoreload 2\n",
    "from mt.scan import Scan\n"
   ],
   "outputs": [
    {
     "name": "stdout",
     "output_type": "stream",
     "text": [
      "The autoreload extension is already loaded. To reload it, use:\n",
      "  %reload_ext autoreload\n"
     ]
    },
    {
     "data": {
      "text/plain": [
       "(OpenCL) NVIDIA GeForce RTX 3060 Laptop GPU (OpenCL 3.0 CUDA)\n",
       "\tVendor:                      NVIDIA Corporation\n",
       "\tDriver Version:              516.95\n",
       "\tDevice Type:                 GPU\n",
       "\tCompute Units:               30\n",
       "\tGlobal Memory Size:          6143 MB\n",
       "\tMaximum Object Size:         1535 MB\n",
       "\tMax Clock Frequency:         1425 MHz\n",
       "\tImage Support:               Yes"
      ]
     },
     "execution_count": 3,
     "metadata": {},
     "output_type": "execute_result"
    }
   ],
   "execution_count": 3
  },
  {
   "metadata": {
    "ExecuteTime": {
     "end_time": "2024-09-24T09:12:01.692316Z",
     "start_time": "2024-09-24T09:12:00.692284Z"
    }
   },
   "cell_type": "code",
   "source": [
    "path = \"../../04_uCT/AD67/\"\n",
    "scan = Scan(path,\n",
    "            discard_ends=True)\n",
    "scan.load(logging=True)"
   ],
   "id": "96cae9eb82305a89",
   "outputs": [
    {
     "ename": "NameError",
     "evalue": "name 'Scan' is not defined",
     "output_type": "error",
     "traceback": [
      "\u001B[1;31m---------------------------------------------------------------------------\u001B[0m",
      "\u001B[1;31mNameError\u001B[0m                                 Traceback (most recent call last)",
      "Cell \u001B[1;32mIn[1], line 2\u001B[0m\n\u001B[0;32m      1\u001B[0m path \u001B[38;5;241m=\u001B[39m \u001B[38;5;124m\"\u001B[39m\u001B[38;5;124m../../04_uCT/AD67/\u001B[39m\u001B[38;5;124m\"\u001B[39m\n\u001B[1;32m----> 2\u001B[0m scan \u001B[38;5;241m=\u001B[39m Scan(path,\n\u001B[0;32m      3\u001B[0m             discard_ends\u001B[38;5;241m=\u001B[39m\u001B[38;5;28;01mTrue\u001B[39;00m)\n\u001B[0;32m      4\u001B[0m scan\u001B[38;5;241m.\u001B[39mload(logging\u001B[38;5;241m=\u001B[39m\u001B[38;5;28;01mTrue\u001B[39;00m)\n",
      "\u001B[1;31mNameError\u001B[0m: name 'Scan' is not defined"
     ]
    }
   ],
   "execution_count": 1
  },
  {
   "metadata": {
    "ExecuteTime": {
     "end_time": "2024-09-23T20:31:57.417109Z",
     "start_time": "2024-09-23T20:31:57.369350Z"
    }
   },
   "cell_type": "code",
   "source": "# scan.try_segmentation_settings()",
   "id": "84313fbec557f455",
   "outputs": [],
   "execution_count": 3
  },
  {
   "metadata": {
    "ExecuteTime": {
     "end_time": "2024-09-23T20:31:57.879019Z",
     "start_time": "2024-09-23T20:31:57.833301Z"
    }
   },
   "cell_type": "code",
   "source": "# scan.try_segmentation_settings(segment_particles_only=True, subset_size=30)",
   "id": "997c92c23930bda1",
   "outputs": [],
   "execution_count": 4
  },
  {
   "metadata": {
    "ExecuteTime": {
     "end_time": "2024-09-23T20:31:57.942729Z",
     "start_time": "2024-09-23T20:31:57.894830Z"
    }
   },
   "cell_type": "code",
   "source": [
    "particle_settings = SegmentationSettings(particle_mask_sigma=0.8,\n",
    "                                particle_n_erosions=7,\n",
    "                                particle_enlarge_radius=1)\n",
    "scan.set_particle_segmentation_settings(particle_settings)\n",
    "print(scan.particle_segmentation_settings)\n",
    "\n",
    "general_settings = SegmentationSettings(air_mask_sigma=0.6,\n",
    "                                air_n_erosions=2,\n",
    "                                contrast_min_percentile=0,\n",
    "                                contrast_max_percentile=9,\n",
    "                                particle_mask_sigma=0.2,\n",
    "                                particle_n_erosions=2,\n",
    "                                particle_enlarge_radius=1,\n",
    "                                smooth_labels_radius=2)\n",
    "scan.set_segmentation_settings(general_settings)\n",
    "print(scan.segmentation_settings)"
   ],
   "id": "311bb33242bdf9c0",
   "outputs": [
    {
     "name": "stdout",
     "output_type": "stream",
     "text": [
      "air_mask_simga = 0.6\n",
      "air_n_erosions = 2\n",
      "particle_mask_sigma = 0.8\n",
      "particle_n_erosions = 7\n",
      "particle_enlarge_radius = 1\n",
      "smooth_labels_radius = 2\n",
      "contrast_min_percentile = 0\n",
      "contrast_max_percentile = 100\n"
     ]
    }
   ],
   "execution_count": 5
  },
  {
   "metadata": {
    "ExecuteTime": {
     "end_time": "2024-09-23T20:32:32.410117Z",
     "start_time": "2024-09-23T20:31:58.086834Z"
    }
   },
   "cell_type": "code",
   "source": [
    "scan.segment()\n",
    "scan.segment_particles()\n",
    "scan.voronoi_tesselation()"
   ],
   "id": "79d8e60c9d04799e",
   "outputs": [],
   "execution_count": 7
  },
  {
   "metadata": {
    "ExecuteTime": {
     "end_time": "2024-09-23T20:33:20.801924Z",
     "start_time": "2024-09-23T20:33:19.754446Z"
    }
   },
   "cell_type": "code",
   "source": "scan.show(particle_mask_only=True, axis=\"z\")",
   "id": "402f27988caa424",
   "outputs": [],
   "execution_count": 13
  },
  {
   "metadata": {
    "ExecuteTime": {
     "end_time": "2024-09-23T20:32:50.939868Z",
     "start_time": "2024-09-23T20:32:48.277193Z"
    }
   },
   "cell_type": "code",
   "source": "scan.save()",
   "id": "4f173f6c90ae0464",
   "outputs": [],
   "execution_count": 11
  }
 ],
 "metadata": {
  "kernelspec": {
   "display_name": "Python 3",
   "language": "python",
   "name": "python3"
  },
  "language_info": {
   "codemirror_mode": {
    "name": "ipython",
    "version": 2
   },
   "file_extension": ".py",
   "mimetype": "text/x-python",
   "name": "python",
   "nbconvert_exporter": "python",
   "pygments_lexer": "ipython2",
   "version": "2.7.6"
  }
 },
 "nbformat": 4,
 "nbformat_minor": 5
}
