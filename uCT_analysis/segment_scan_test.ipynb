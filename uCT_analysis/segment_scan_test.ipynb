{
 "cells": [
  {
   "cell_type": "code",
   "id": "initial_id",
   "metadata": {
    "collapsed": true,
    "ExecuteTime": {
     "end_time": "2024-09-15T15:24:41.990196Z",
     "start_time": "2024-09-15T15:24:33.994046Z"
    }
   },
   "source": [
    "%load_ext autoreload\n",
    "%autoreload 2\n",
    "\n",
    "from utils import *\n",
    "import pyclesperanto as cle\n",
    "import numpy as np\n",
    "import pandas as pd\n",
    "cle.select_device(\"RTX\")"
   ],
   "outputs": [
    {
     "data": {
      "text/plain": [
       "(OpenCL) NVIDIA GeForce RTX 3060 Laptop GPU (OpenCL 3.0 CUDA)\n",
       "\tVendor:                      NVIDIA Corporation\n",
       "\tDriver Version:              516.95\n",
       "\tDevice Type:                 GPU\n",
       "\tCompute Units:               30\n",
       "\tGlobal Memory Size:          6143 MB\n",
       "\tMaximum Object Size:         1535 MB\n",
       "\tMax Clock Frequency:         1425 MHz\n",
       "\tImage Support:               Yes"
      ]
     },
     "execution_count": 1,
     "metadata": {},
     "output_type": "execute_result"
    }
   ],
   "execution_count": 1
  },
  {
   "metadata": {
    "ExecuteTime": {
     "end_time": "2024-09-15T15:24:47.084172Z",
     "start_time": "2024-09-15T15:24:42.027208Z"
    }
   },
   "cell_type": "code",
   "source": [
    "path = \"../../04_uCT/AD51/\"\n",
    "scan = load_scan(path, logging=True)\n",
    "# scan.reslice()"
   ],
   "id": "96cae9eb82305a89",
   "outputs": [
    {
     "name": "stdout",
     "output_type": "stream",
     "text": [
      "Loading images from:  ../../04_uCT/AD51/Slices/\n",
      "Loaded stack with shape (1780, 322, 2267) and a size of 2.60 GB in 4.89 s.\n"
     ]
    }
   ],
   "execution_count": 2
  },
  {
   "metadata": {
    "ExecuteTime": {
     "end_time": "2024-09-15T15:24:50.686557Z",
     "start_time": "2024-09-15T15:24:47.230700Z"
    }
   },
   "cell_type": "code",
   "source": "segment_scan(scan[145:150])",
   "id": "df4fe2150df1e09a",
   "outputs": [
    {
     "name": "stdout",
     "output_type": "stream",
     "text": [
      "Smoothed image.\n",
      "Finished otsu masks.\n",
      "Finished refined particle mask.\n",
      "Created full segmentation.\n"
     ]
    },
    {
     "data": {
      "text/plain": [
       "array([[[2., 2., 2., ..., 2., 2., 2.],\n",
       "        [2., 2., 2., ..., 2., 2., 2.],\n",
       "        [2., 2., 2., ..., 2., 2., 2.],\n",
       "        ...,\n",
       "        [2., 2., 2., ..., 2., 2., 2.],\n",
       "        [2., 2., 2., ..., 2., 2., 2.],\n",
       "        [2., 2., 2., ..., 2., 2., 2.]],\n",
       "\n",
       "       [[2., 2., 2., ..., 2., 2., 2.],\n",
       "        [2., 2., 2., ..., 2., 2., 2.],\n",
       "        [2., 2., 2., ..., 2., 2., 2.],\n",
       "        ...,\n",
       "        [2., 2., 2., ..., 2., 2., 2.],\n",
       "        [2., 2., 2., ..., 2., 2., 2.],\n",
       "        [2., 2., 2., ..., 2., 2., 2.]],\n",
       "\n",
       "       [[2., 2., 2., ..., 2., 2., 2.],\n",
       "        [2., 2., 2., ..., 2., 2., 2.],\n",
       "        [2., 2., 2., ..., 2., 2., 2.],\n",
       "        ...,\n",
       "        [2., 2., 2., ..., 2., 2., 2.],\n",
       "        [2., 2., 2., ..., 2., 2., 2.],\n",
       "        [2., 2., 2., ..., 2., 2., 2.]],\n",
       "\n",
       "       [[2., 2., 2., ..., 2., 2., 2.],\n",
       "        [2., 2., 2., ..., 2., 2., 2.],\n",
       "        [2., 2., 2., ..., 2., 2., 2.],\n",
       "        ...,\n",
       "        [2., 2., 2., ..., 2., 2., 2.],\n",
       "        [2., 2., 2., ..., 2., 2., 2.],\n",
       "        [2., 2., 2., ..., 2., 2., 2.]],\n",
       "\n",
       "       [[2., 2., 2., ..., 2., 2., 2.],\n",
       "        [1., 2., 2., ..., 2., 2., 2.],\n",
       "        [1., 2., 2., ..., 2., 2., 2.],\n",
       "        ...,\n",
       "        [2., 2., 2., ..., 2., 2., 2.],\n",
       "        [2., 2., 2., ..., 2., 2., 2.],\n",
       "        [2., 2., 2., ..., 2., 2., 2.]]], dtype=float32)"
      ]
     },
     "execution_count": 3,
     "metadata": {},
     "output_type": "execute_result"
    }
   ],
   "execution_count": 3
  },
  {
   "metadata": {
    "ExecuteTime": {
     "end_time": "2024-09-15T15:24:52.343398Z",
     "start_time": "2024-09-15T15:24:52.162564Z"
    }
   },
   "cell_type": "code",
   "source": "# show_in_napari(scan[145:150], )",
   "id": "9c88f31c0ecf1ae5",
   "outputs": [],
   "execution_count": 4
  }
 ],
 "metadata": {
  "kernelspec": {
   "display_name": "Python 3",
   "language": "python",
   "name": "python3"
  },
  "language_info": {
   "codemirror_mode": {
    "name": "ipython",
    "version": 2
   },
   "file_extension": ".py",
   "mimetype": "text/x-python",
   "name": "python",
   "nbconvert_exporter": "python",
   "pygments_lexer": "ipython2",
   "version": "2.7.6"
  }
 },
 "nbformat": 4,
 "nbformat_minor": 5
}
