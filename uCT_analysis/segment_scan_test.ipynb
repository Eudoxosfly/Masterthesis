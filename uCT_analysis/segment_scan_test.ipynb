{
 "cells": [
  {
   "cell_type": "code",
   "id": "initial_id",
   "metadata": {
    "collapsed": true,
    "ExecuteTime": {
     "end_time": "2024-09-22T20:17:46.827913Z",
     "start_time": "2024-09-22T20:17:46.668498Z"
    }
   },
   "source": [
    "%load_ext autoreload\n",
    "%autoreload 2\n",
    "\n",
    "from mt.scan import *\n",
    "cle.select_device(\"RTX\")"
   ],
   "outputs": [
    {
     "name": "stdout",
     "output_type": "stream",
     "text": [
      "The autoreload extension is already loaded. To reload it, use:\n",
      "  %reload_ext autoreload\n"
     ]
    },
    {
     "data": {
      "text/plain": [
       "(OpenCL) NVIDIA GeForce RTX 4070 SUPER (OpenCL 3.0 CUDA)\n",
       "\tVendor:                      NVIDIA Corporation\n",
       "\tDriver Version:              560.70\n",
       "\tDevice Type:                 GPU\n",
       "\tCompute Units:               56\n",
       "\tGlobal Memory Size:          12281 MB\n",
       "\tMaximum Object Size:         3070 MB\n",
       "\tMax Clock Frequency:         2505 MHz\n",
       "\tImage Support:               Yes"
      ]
     },
     "execution_count": 18,
     "metadata": {},
     "output_type": "execute_result"
    }
   ],
   "execution_count": 18
  },
  {
   "metadata": {
    "ExecuteTime": {
     "end_time": "2024-09-22T20:17:48.719665Z",
     "start_time": "2024-09-22T20:17:46.985562Z"
    }
   },
   "cell_type": "code",
   "source": [
    "path = \"../../04_uCT/AD67/\"\n",
    "scan = Scan(path,\n",
    "            discard_ends=True)\n",
    "scan.load(logging=True,\n",
    "          refresh=True)"
   ],
   "id": "96cae9eb82305a89",
   "outputs": [
    {
     "name": "stdout",
     "output_type": "stream",
     "text": [
      "Loading images from:  ../../04_uCT/AD67/Slices/\n",
      "Loaded stack with shape (1781, 126, 2231) and a size of 1.00 GB in 1.45 s.\n",
      "Loaded existing mask from: ../../04_uCT/AD67/segmentation.npy\n"
     ]
    }
   ],
   "execution_count": 19
  },
  {
   "metadata": {
    "ExecuteTime": {
     "end_time": "2024-09-22T20:17:48.839322Z",
     "start_time": "2024-09-22T20:17:48.761703Z"
    }
   },
   "cell_type": "code",
   "source": "# scan.try_segmentation_settings()",
   "id": "84313fbec557f455",
   "outputs": [],
   "execution_count": 20
  },
  {
   "metadata": {
    "ExecuteTime": {
     "end_time": "2024-09-22T20:17:50.516782Z",
     "start_time": "2024-09-22T20:17:48.844328Z"
    }
   },
   "cell_type": "code",
   "source": "# scan.try_segmentation_settings(segment_particles_only=True)\n",
   "id": "997c92c23930bda1",
   "outputs": [],
   "execution_count": 21
  },
  {
   "metadata": {
    "ExecuteTime": {
     "end_time": "2024-09-22T20:17:50.644842Z",
     "start_time": "2024-09-22T20:17:50.568852Z"
    }
   },
   "cell_type": "code",
   "source": [
    "settings = SegmentationSettings(particle_mask_sigma=0.4,\n",
    "                                particle_n_erosions=3,\n",
    "                                particle_enlarge_radius=1)\n",
    "scan.set_particle_segmentation_settings(settings)\n",
    "print(scan.particle_segmentation_settings)"
   ],
   "id": "311bb33242bdf9c0",
   "outputs": [
    {
     "name": "stdout",
     "output_type": "stream",
     "text": [
      "air_mask_simga = 0.6\n",
      "air_n_erosions = 2\n",
      "particle_mask_sigma = 0.4\n",
      "particle_n_erosions = 3\n",
      "particle_enlarge_radius = 1\n",
      "smooth_labels_radius = 2\n",
      "contrast_min_percentile = 0\n",
      "contrast_max_percentile = 100\n"
     ]
    }
   ],
   "execution_count": 22
  },
  {
   "metadata": {
    "ExecuteTime": {
     "end_time": "2024-09-22T20:17:50.799681Z",
     "start_time": "2024-09-22T20:17:50.724047Z"
    }
   },
   "cell_type": "code",
   "source": [
    "settings = SegmentationSettings(air_mask_sigma=0.6,\n",
    "                                air_n_erosions=2,\n",
    "                                contrast_min_percentile=0,\n",
    "                                contrast_max_percentile=9,\n",
    "                                particle_mask_sigma=0.2,\n",
    "                                particle_n_erosions=2,\n",
    "                                particle_enlarge_radius=1,\n",
    "                                smooth_labels_radius=2)\n",
    "scan.set_segmentation_settings(settings)\n",
    "print(scan.segmentation_settings)"
   ],
   "id": "bb06eeeb2b1d2340",
   "outputs": [
    {
     "name": "stdout",
     "output_type": "stream",
     "text": [
      "air_mask_simga = 0.6\n",
      "air_n_erosions = 2\n",
      "particle_mask_sigma = 0.2\n",
      "particle_n_erosions = 2\n",
      "particle_enlarge_radius = 1\n",
      "smooth_labels_radius = 2\n",
      "contrast_min_percentile = 0\n",
      "contrast_max_percentile = 9\n"
     ]
    }
   ],
   "execution_count": 23
  },
  {
   "metadata": {
    "ExecuteTime": {
     "end_time": "2024-09-22T20:18:26.133659Z",
     "start_time": "2024-09-22T20:17:50.818632Z"
    }
   },
   "cell_type": "code",
   "source": "scan.segment()",
   "id": "79d8e60c9d04799e",
   "outputs": [],
   "execution_count": 24
  },
  {
   "metadata": {
    "ExecuteTime": {
     "end_time": "2024-09-22T20:18:34.914063Z",
     "start_time": "2024-09-22T20:18:26.162283Z"
    }
   },
   "cell_type": "code",
   "source": "scan.segment_particles()",
   "id": "3ad5eaab50af2f6b",
   "outputs": [],
   "execution_count": 25
  },
  {
   "metadata": {
    "ExecuteTime": {
     "end_time": "2024-09-22T20:18:35.526579Z",
     "start_time": "2024-09-22T20:18:34.932181Z"
    }
   },
   "cell_type": "code",
   "source": "scan.show()",
   "id": "402f27988caa424",
   "outputs": [],
   "execution_count": 26
  },
  {
   "metadata": {
    "ExecuteTime": {
     "end_time": "2024-09-22T20:18:39.181931Z",
     "start_time": "2024-09-22T20:18:35.569542Z"
    }
   },
   "cell_type": "code",
   "source": "scan.save()",
   "id": "4f173f6c90ae0464",
   "outputs": [],
   "execution_count": 27
  }
 ],
 "metadata": {
  "kernelspec": {
   "display_name": "Python 3",
   "language": "python",
   "name": "python3"
  },
  "language_info": {
   "codemirror_mode": {
    "name": "ipython",
    "version": 2
   },
   "file_extension": ".py",
   "mimetype": "text/x-python",
   "name": "python",
   "nbconvert_exporter": "python",
   "pygments_lexer": "ipython2",
   "version": "2.7.6"
  }
 },
 "nbformat": 4,
 "nbformat_minor": 5
}
