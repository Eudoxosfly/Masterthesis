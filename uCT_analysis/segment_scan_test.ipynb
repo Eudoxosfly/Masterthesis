{
 "cells": [
  {
   "cell_type": "code",
   "id": "initial_id",
   "metadata": {
    "collapsed": true,
    "ExecuteTime": {
     "end_time": "2024-09-18T16:19:10.821914Z",
     "start_time": "2024-09-18T16:19:03.973704Z"
    }
   },
   "source": [
    "# %load_ext autoreload\n",
    "# %autoreload 2\n",
    "\n",
    "from mt.scan import *\n",
    "\n",
    "# cle.select_device(\"RTX\")"
   ],
   "outputs": [],
   "execution_count": 1
  },
  {
   "metadata": {
    "ExecuteTime": {
     "end_time": "2024-09-18T16:19:31.837727Z",
     "start_time": "2024-09-18T16:19:12.649601Z"
    }
   },
   "cell_type": "code",
   "source": [
    "path = \"../../04_uCT/AD51/\"\n",
    "scan = Scan(path,\n",
    "            low_memory_mode=0)\n",
    "scan.load(logging=True)"
   ],
   "id": "96cae9eb82305a89",
   "outputs": [
    {
     "name": "stdout",
     "output_type": "stream",
     "text": [
      "Loading images from:  ../../04_uCT/AD51/Slices/\n",
      "Loaded stack with shape (1780, 322, 2267) and a size of 2.60 GB in 19.17 s.\n"
     ]
    }
   ],
   "execution_count": 2
  },
  {
   "metadata": {
    "ExecuteTime": {
     "end_time": "2024-09-18T16:21:17.738264Z",
     "start_time": "2024-09-18T16:19:37.020264Z"
    }
   },
   "cell_type": "code",
   "source": "scan.try_segmentation_settings()",
   "id": "84313fbec557f455",
   "outputs": [],
   "execution_count": 3
  },
  {
   "metadata": {
    "ExecuteTime": {
     "end_time": "2024-09-18T15:38:52.429032Z",
     "start_time": "2024-09-18T15:38:52.423309Z"
    }
   },
   "cell_type": "code",
   "source": [
    "settings = SegmentationSettings(otsu_sigma=1,\n",
    "                                particle_mask_sigma=0.1,\n",
    "                                particle_n_erosions=2,\n",
    "                                particle_enlarge_radius=1,\n",
    "                                smooth_labels_radius=2)\n",
    "scan.set_segmentation_settings(settings)"
   ],
   "id": "bb06eeeb2b1d2340",
   "outputs": [],
   "execution_count": 4
  },
  {
   "metadata": {
    "ExecuteTime": {
     "end_time": "2024-09-18T15:38:52.451745Z",
     "start_time": "2024-09-18T15:38:52.445006Z"
    }
   },
   "cell_type": "code",
   "source": "print(scan.segmentation_settings)",
   "id": "c4c0e1f2e108508b",
   "outputs": [
    {
     "name": "stdout",
     "output_type": "stream",
     "text": [
      "Segmentation settings:\n",
      " Otsu thresholding: Gaussian smoothing sigma: 1.00\n",
      " Particle mask: Gaussian smoothing sigma: 0.10\n",
      " Particle mask: Erosion iterations: 2\n",
      " Particle mask: Dilation radius: 1\n",
      " Mask postprocessing: Smoothing radius: 2\n"
     ]
    }
   ],
   "execution_count": 5
  },
  {
   "metadata": {
    "ExecuteTime": {
     "start_time": "2024-09-18T15:38:52.575319Z"
    }
   },
   "cell_type": "code",
   "source": "scan.segment()",
   "id": "79d8e60c9d04799e",
   "outputs": [
    {
     "name": "stdout",
     "output_type": "stream",
     "text": [
      "Segmenting scan in low memory mode.\n",
      "Splitting scan into 5 parts of 0.52 GB each.\n"
     ]
    },
    {
     "name": "stderr",
     "output_type": "stream",
     "text": [
      "  0%|          | 0/5 [00:00<?, ?it/s]"
     ]
    }
   ],
   "execution_count": null
  },
  {
   "metadata": {
    "ExecuteTime": {
     "end_time": "2024-09-18T15:37:14.490905600Z",
     "start_time": "2024-09-18T14:35:54.385266Z"
    }
   },
   "cell_type": "code",
   "source": [
    "viewer = napari.Viewer()\n",
    "viewer.add_image(scan.scan)\n",
    "viewer.add_labels(scan.mask)"
   ],
   "id": "df4fe2150df1e09a",
   "outputs": [
    {
     "data": {
      "text/plain": [
       "<Labels layer 'Labels' at 0x1a74cf335d0>"
      ]
     },
     "execution_count": 8,
     "metadata": {},
     "output_type": "execute_result"
    }
   ],
   "execution_count": 8
  },
  {
   "metadata": {},
   "cell_type": "markdown",
   "source": "",
   "id": "6a3191e360ac71b"
  }
 ],
 "metadata": {
  "kernelspec": {
   "display_name": "Python 3",
   "language": "python",
   "name": "python3"
  },
  "language_info": {
   "codemirror_mode": {
    "name": "ipython",
    "version": 2
   },
   "file_extension": ".py",
   "mimetype": "text/x-python",
   "name": "python",
   "nbconvert_exporter": "python",
   "pygments_lexer": "ipython2",
   "version": "2.7.6"
  }
 },
 "nbformat": 4,
 "nbformat_minor": 5
}
