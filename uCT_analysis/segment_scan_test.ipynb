{
 "cells": [
  {
   "cell_type": "code",
   "id": "initial_id",
   "metadata": {
    "collapsed": true,
    "ExecuteTime": {
     "end_time": "2024-09-15T22:34:16.681283Z",
     "start_time": "2024-09-15T22:34:16.502030Z"
    }
   },
   "source": [
    "%load_ext autoreload\n",
    "%autoreload 2\n",
    "\n",
    "from mt.utils import *\n",
    "import pyclesperanto as cle\n",
    "import numpy as np\n",
    "import napari\n",
    "from tqdm import tqdm\n",
    "cle.select_device(\"RTX\")"
   ],
   "outputs": [
    {
     "name": "stdout",
     "output_type": "stream",
     "text": [
      "The autoreload extension is already loaded. To reload it, use:\n",
      "  %reload_ext autoreload\n"
     ]
    },
    {
     "data": {
      "text/plain": [
       "(OpenCL) NVIDIA GeForce RTX 4070 SUPER (OpenCL 3.0 CUDA)\n",
       "\tVendor:                      NVIDIA Corporation\n",
       "\tDriver Version:              560.70\n",
       "\tDevice Type:                 GPU\n",
       "\tCompute Units:               56\n",
       "\tGlobal Memory Size:          12281 MB\n",
       "\tMaximum Object Size:         3070 MB\n",
       "\tMax Clock Frequency:         2505 MHz\n",
       "\tImage Support:               Yes"
      ]
     },
     "execution_count": 28,
     "metadata": {},
     "output_type": "execute_result"
    }
   ],
   "execution_count": 28
  },
  {
   "metadata": {
    "ExecuteTime": {
     "end_time": "2024-09-15T22:27:42.508708Z",
     "start_time": "2024-09-15T22:27:40.099211Z"
    }
   },
   "cell_type": "code",
   "source": [
    "path = \"../../04_uCT/AD51/\"\n",
    "scan = load_scan(path, logging=True)\n"
   ],
   "id": "96cae9eb82305a89",
   "outputs": [
    {
     "name": "stdout",
     "output_type": "stream",
     "text": [
      "Loading images from:  ../../04_uCT/AD51/Slices/\n",
      "Loaded stack with shape (1780, 322, 2267) and a size of 2.60 GB in 2.33 s.\n"
     ]
    }
   ],
   "execution_count": 18
  },
  {
   "metadata": {
    "ExecuteTime": {
     "end_time": "2024-09-15T22:27:42.582873Z",
     "start_time": "2024-09-15T22:27:42.509719Z"
    }
   },
   "cell_type": "code",
   "source": [
    "def divide_scan(scan, size_gb: float = 1):\n",
    "    \"\"\"Returns the indexes that split an array into parts of roughly equal size less than size_gb GB.\"\"\"\n",
    "    n_parts = int(np.ceil(scan.nbytes / size_gb / 1e9))\n",
    "    n_slices, _, _ = scan.shape\n",
    "    part_size = n_slices // n_parts\n",
    "    rest = n_slices % n_parts\n",
    "    part_sizes = [0] + [part_size] * n_parts\n",
    "    part_sizes[-1] += rest\n",
    "    part_sizes = np.cumsum(part_sizes)\n",
    "    return part_sizes\n",
    "\n",
    "split_idxs = divide_scan(scan.scan)\n",
    "    "
   ],
   "id": "fbfec5bb6d54f70",
   "outputs": [],
   "execution_count": 19
  },
  {
   "metadata": {
    "ExecuteTime": {
     "end_time": "2024-09-15T22:27:42.656201Z",
     "start_time": "2024-09-15T22:27:42.583880Z"
    }
   },
   "cell_type": "code",
   "source": "# process_subset_in_napari(scan.scan)",
   "id": "3884597b879136bd",
   "outputs": [],
   "execution_count": 20
  },
  {
   "metadata": {
    "ExecuteTime": {
     "end_time": "2024-09-15T22:27:42.730474Z",
     "start_time": "2024-09-15T22:27:42.657208Z"
    }
   },
   "cell_type": "code",
   "source": "print(\"size of subscan: {:.2f} MB\".format(scan[:800].nbytes/1e6))",
   "id": "2e031c1d5c03f190",
   "outputs": [
    {
     "name": "stdout",
     "output_type": "stream",
     "text": [
      "size of subscan: 1167.96 MB\n"
     ]
    }
   ],
   "execution_count": 21
  },
  {
   "metadata": {
    "ExecuteTime": {
     "end_time": "2024-09-15T22:28:39.387803Z",
     "start_time": "2024-09-15T22:27:42.731480Z"
    }
   },
   "cell_type": "code",
   "source": [
    "mask = np.zeros_like(scan.scan)\n",
    "for ii in tqdm(range(len(split_idxs)-1)):\n",
    "    left, right = split_idxs[ii], split_idxs[ii+1]\n",
    "    mask[left:right, :, :] = segment_scan(scan[left:right],\n",
    "                            logging=True,\n",
    "                            otsu_sigma=0.6,\n",
    "                            particle_mask_sigma=0.1,\n",
    "                            particle_enlarge_radius=1,\n",
    "                            smooth_labels_radius=2)\n"
   ],
   "id": "68262b21c667b3b3",
   "outputs": [
    {
     "name": "stderr",
     "output_type": "stream",
     "text": [
      "  0%|          | 0/3 [00:00<?, ?it/s]"
     ]
    },
    {
     "name": "stdout",
     "output_type": "stream",
     "text": [
      "Smoothed image.\n",
      "Finished otsu masks.\n",
      "Finished refined particle mask.\n",
      "Created full segmentation.\n"
     ]
    },
    {
     "name": "stderr",
     "output_type": "stream",
     "text": [
      " 33%|███▎      | 1/3 [00:18<00:37, 18.73s/it]"
     ]
    },
    {
     "name": "stdout",
     "output_type": "stream",
     "text": [
      "Smoothed image.\n",
      "Finished otsu masks.\n",
      "Finished refined particle mask.\n",
      "Created full segmentation.\n"
     ]
    },
    {
     "name": "stderr",
     "output_type": "stream",
     "text": [
      " 67%|██████▋   | 2/3 [00:36<00:18, 18.27s/it]"
     ]
    },
    {
     "name": "stdout",
     "output_type": "stream",
     "text": [
      "Smoothed image.\n",
      "Finished otsu masks.\n",
      "Finished refined particle mask.\n",
      "Created full segmentation.\n"
     ]
    },
    {
     "name": "stderr",
     "output_type": "stream",
     "text": [
      "100%|██████████| 3/3 [00:56<00:00, 18.74s/it]\n"
     ]
    }
   ],
   "execution_count": 22
  },
  {
   "metadata": {
    "jupyter": {
     "is_executing": true
    }
   },
   "cell_type": "code",
   "source": [
    "save_mask(mask,\n",
    "          path=path + \"segmented2/\")"
   ],
   "id": "a6eac40d3e98615e",
   "outputs": [],
   "execution_count": null
  },
  {
   "metadata": {
    "ExecuteTime": {
     "end_time": "2024-09-15T22:29:10.119144Z",
     "start_time": "2024-09-15T22:29:09.231650Z"
    }
   },
   "cell_type": "code",
   "source": [
    "viewer = napari.Viewer()\n",
    "viewer.add_image(scan.scan)\n",
    "viewer.add_labels(mask)"
   ],
   "id": "df4fe2150df1e09a",
   "outputs": [
    {
     "data": {
      "text/plain": [
       "<Labels layer 'mask' at 0x21582712c50>"
      ]
     },
     "execution_count": 25,
     "metadata": {},
     "output_type": "execute_result"
    }
   ],
   "execution_count": 25
  },
  {
   "metadata": {
    "ExecuteTime": {
     "end_time": "2024-09-15T22:28:40.070494Z",
     "start_time": "2024-09-15T22:28:39.988220Z"
    }
   },
   "cell_type": "code",
   "source": [
    "# viewer = napari.Viewer()\n",
    "# viewer.add_image(subscan)\n",
    "# viewer.window.add_dock_widget(segment, area='right')"
   ],
   "id": "7e0398738f292881",
   "outputs": [],
   "execution_count": 24
  }
 ],
 "metadata": {
  "kernelspec": {
   "display_name": "Python 3",
   "language": "python",
   "name": "python3"
  },
  "language_info": {
   "codemirror_mode": {
    "name": "ipython",
    "version": 2
   },
   "file_extension": ".py",
   "mimetype": "text/x-python",
   "name": "python",
   "nbconvert_exporter": "python",
   "pygments_lexer": "ipython2",
   "version": "2.7.6"
  }
 },
 "nbformat": 4,
 "nbformat_minor": 5
}
