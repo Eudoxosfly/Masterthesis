{
 "cells": [
  {
   "metadata": {
    "ExecuteTime": {
     "end_time": "2024-11-01T14:37:02.795186Z",
     "start_time": "2024-11-01T14:36:58.848441Z"
    }
   },
   "cell_type": "code",
   "source": [
    "from mt.scan import Scan\n",
    "import os"
   ],
   "id": "235ed9c497739f47",
   "outputs": [],
   "execution_count": 1
  },
  {
   "metadata": {
    "ExecuteTime": {
     "end_time": "2024-11-01T14:37:03.746156Z",
     "start_time": "2024-11-01T14:37:03.740316Z"
    }
   },
   "cell_type": "code",
   "source": [
    "path = \"../../04_uCT/\"\n",
    "folders = os.listdir(path)\n",
    "folders = [path + folder for folder in folders]\n",
    "print(folders)"
   ],
   "id": "62fdcc87f04b12ab",
   "outputs": [
    {
     "name": "stdout",
     "output_type": "stream",
     "text": [
      "['../../04_uCT/AB01', '../../04_uCT/AB01_top', '../../04_uCT/AC03', '../../04_uCT/AC04', '../../04_uCT/AC08', '../../04_uCT/AC11', '../../04_uCT/AC14', '../../04_uCT/AC15', '../../04_uCT/AD00', '../../04_uCT/AD01', '../../04_uCT/AD02', '../../04_uCT/AD06', '../../04_uCT/AD07', '../../04_uCT/AD08', '../../04_uCT/AD09', '../../04_uCT/AD10', '../../04_uCT/AD12', '../../04_uCT/AD14', '../../04_uCT/AD15', '../../04_uCT/AD16', '../../04_uCT/AD17', '../../04_uCT/AD18', '../../04_uCT/AD19', '../../04_uCT/AD20', '../../04_uCT/AD21', '../../04_uCT/AD28', '../../04_uCT/AD29', '../../04_uCT/AD31', '../../04_uCT/AD32', '../../04_uCT/AD33', '../../04_uCT/AD36', '../../04_uCT/AD38', '../../04_uCT/AD40', '../../04_uCT/AD42', '../../04_uCT/AD43', '../../04_uCT/AD45', '../../04_uCT/AD48', '../../04_uCT/AD50', '../../04_uCT/AD51', '../../04_uCT/AD52', '../../04_uCT/AD63', '../../04_uCT/AD64', '../../04_uCT/AD64_broken', '../../04_uCT/AD66', '../../04_uCT/AD67', '../../04_uCT/AD68', '../../04_uCT/AD76', '../../04_uCT/AD77', '../../04_uCT/AD86', '../../04_uCT/AD89', '../../04_uCT/BA05', '../../04_uCT/BA07', '../../04_uCT/BA09', '../../04_uCT/BA36', '../../04_uCT/BA37', '../../04_uCT/BA38', '../../04_uCT/BA75', '../../04_uCT/BA75_broken', '../../04_uCT/BA76_broken', '../../04_uCT/BA81', '../../04_uCT/Neuer Ordner']\n"
     ]
    }
   ],
   "execution_count": 2
  },
  {
   "metadata": {
    "ExecuteTime": {
     "end_time": "2024-10-25T11:00:18.298004Z",
     "start_time": "2024-10-25T11:00:18.294663Z"
    }
   },
   "cell_type": "code",
   "source": [
    "def workflow(path):\n",
    "    scan = Scan(path + \"/\", downscale=True)\n",
    "    scan.load(logging=True)\n",
    "    \n",
    "    scan.segment()\n",
    "    scan.segment_particles()\n",
    "    scan.voronoi_tesselation()\n",
    "    \n",
    "    scan.save()\n",
    "    print(\"Saved to \" + path)\n",
    "    print(\"-\"*20)"
   ],
   "id": "977363bd7cd7b613",
   "outputs": [],
   "execution_count": 3
  },
  {
   "metadata": {
    "ExecuteTime": {
     "end_time": "2024-10-25T11:00:23.767146Z",
     "start_time": "2024-10-25T11:00:18.311844Z"
    }
   },
   "cell_type": "code",
   "source": [
    "for folder in folders:\n",
    "    workflow(folder)"
   ],
   "id": "dd3fddf592cc138c",
   "outputs": [
    {
     "name": "stdout",
     "output_type": "stream",
     "text": [
      "Loading images from:  ../../04_uCT/AB01/Slices/\n",
      "Loaded stack with shape (754, 1603, 168) and a size of 0.41 GB in 3.39 s.\n",
      "No _mask file found at: ../../06_Results/uCT/AB01/_mask.npy\n",
      "No _particle_mask file found at: ../../06_Results/uCT/AB01/_particle_mask.npy\n",
      "No _tesselation file found at: ../../06_Results/uCT/AB01/_tesselation.npy\n"
     ]
    },
    {
     "ename": "AttributeError",
     "evalue": "'NoneType' object has no attribute 'particle_mask_sigma'",
     "output_type": "error",
     "traceback": [
      "\u001B[1;31m---------------------------------------------------------------------------\u001B[0m",
      "\u001B[1;31mAttributeError\u001B[0m                            Traceback (most recent call last)",
      "Cell \u001B[1;32mIn[4], line 2\u001B[0m\n\u001B[0;32m      1\u001B[0m \u001B[38;5;28;01mfor\u001B[39;00m folder \u001B[38;5;129;01min\u001B[39;00m folders:\n\u001B[1;32m----> 2\u001B[0m     workflow(folder)\n",
      "Cell \u001B[1;32mIn[3], line 5\u001B[0m, in \u001B[0;36mworkflow\u001B[1;34m(path)\u001B[0m\n\u001B[0;32m      2\u001B[0m scan \u001B[38;5;241m=\u001B[39m Scan(path \u001B[38;5;241m+\u001B[39m \u001B[38;5;124m\"\u001B[39m\u001B[38;5;124m/\u001B[39m\u001B[38;5;124m\"\u001B[39m, downscale\u001B[38;5;241m=\u001B[39m\u001B[38;5;28;01mTrue\u001B[39;00m)\n\u001B[0;32m      3\u001B[0m scan\u001B[38;5;241m.\u001B[39mload(logging\u001B[38;5;241m=\u001B[39m\u001B[38;5;28;01mTrue\u001B[39;00m)\n\u001B[1;32m----> 5\u001B[0m scan\u001B[38;5;241m.\u001B[39msegment()\n\u001B[0;32m      6\u001B[0m scan\u001B[38;5;241m.\u001B[39msegment_particles()\n\u001B[0;32m      7\u001B[0m scan\u001B[38;5;241m.\u001B[39mvoronoi_tesselation()\n",
      "File \u001B[1;32m~\\OneDrive\\Documents\\StudiumDocs\\MatSci_Ma\\Thesis\\03_Computation\\mt\\scan.py:152\u001B[0m, in \u001B[0;36mScan.segment\u001B[1;34m(self)\u001B[0m\n\u001B[0;32m    151\u001B[0m \u001B[38;5;28;01mdef\u001B[39;00m \u001B[38;5;21msegment\u001B[39m(\u001B[38;5;28mself\u001B[39m):\n\u001B[1;32m--> 152\u001B[0m     mask \u001B[38;5;241m=\u001B[39m segment_scan(\u001B[38;5;28mself\u001B[39m\u001B[38;5;241m.\u001B[39mget_stack(),\n\u001B[0;32m    153\u001B[0m                         settings\u001B[38;5;241m=\u001B[39m\u001B[38;5;28mself\u001B[39m\u001B[38;5;241m.\u001B[39msegmentation_settings)\n\u001B[0;32m    155\u001B[0m     \u001B[38;5;66;03m# pad mask with zero images to match the original stack\u001B[39;00m\n\u001B[0;32m    156\u001B[0m     \u001B[38;5;28mself\u001B[39m\u001B[38;5;241m.\u001B[39m_mask \u001B[38;5;241m=\u001B[39m \u001B[38;5;28mself\u001B[39m\u001B[38;5;241m.\u001B[39m_pad_mask(mask)\n",
      "File \u001B[1;32m~\\OneDrive\\Documents\\StudiumDocs\\MatSci_Ma\\Thesis\\03_Computation\\mt\\ct_utils.py:254\u001B[0m, in \u001B[0;36msegment_scan\u001B[1;34m(scan, settings)\u001B[0m\n\u001B[0;32m    242\u001B[0m \u001B[38;5;250m\u001B[39m\u001B[38;5;124;03m\"\"\"Segment a 3D image into air, polymer, and particles using a combined approach of smoothing and otsu thresholding.\u001B[39;00m\n\u001B[0;32m    243\u001B[0m \n\u001B[0;32m    244\u001B[0m \u001B[38;5;124;03mArgs:\u001B[39;00m\n\u001B[1;32m   (...)\u001B[0m\n\u001B[0;32m    250\u001B[0m \u001B[38;5;124;03m    np.ndarray: Mask with three classes: 1 for air, 2 for polymer, and 3 for particles.\u001B[39;00m\n\u001B[0;32m    251\u001B[0m \u001B[38;5;124;03m\"\"\"\u001B[39;00m\n\u001B[0;32m    253\u001B[0m \u001B[38;5;66;03m# More precise particle segmentation (with less smoothing)\u001B[39;00m\n\u001B[1;32m--> 254\u001B[0m particle_mask \u001B[38;5;241m=\u001B[39m particle_segmentation(im\u001B[38;5;241m=\u001B[39mscan, settings\u001B[38;5;241m=\u001B[39msettings)\n\u001B[0;32m    256\u001B[0m \u001B[38;5;66;03m# Manual air thresholding\u001B[39;00m\n\u001B[0;32m    257\u001B[0m air_mask \u001B[38;5;241m=\u001B[39m air_segmentation(scan\u001B[38;5;241m=\u001B[39mscan, settings\u001B[38;5;241m=\u001B[39msettings)\n",
      "File \u001B[1;32m~\\OneDrive\\Documents\\StudiumDocs\\MatSci_Ma\\Thesis\\03_Computation\\mt\\ct_utils.py:162\u001B[0m, in \u001B[0;36mparticle_segmentation\u001B[1;34m(im, settings)\u001B[0m\n\u001B[0;32m    142\u001B[0m \u001B[38;5;28;01mdef\u001B[39;00m \u001B[38;5;21mparticle_segmentation\u001B[39m(im: np\u001B[38;5;241m.\u001B[39mndarray[np\u001B[38;5;241m.\u001B[39muint16],\n\u001B[0;32m    143\u001B[0m                           settings: SegmentationSettings \u001B[38;5;241m=\u001B[39m SegmentationSettings) \u001B[38;5;241m-\u001B[39m\u001B[38;5;241m>\u001B[39m LabelsData \u001B[38;5;241m|\u001B[39m np\u001B[38;5;241m.\u001B[39mndarray[np\u001B[38;5;241m.\u001B[39mint32]:\n\u001B[0;32m    144\u001B[0m \u001B[38;5;250m    \u001B[39m\u001B[38;5;124;03m\"\"\"Segment particles in a 3D image using a combination of gaussian blur, otsu thresholding, and morphological operations.\u001B[39;00m\n\u001B[0;32m    145\u001B[0m \n\u001B[0;32m    146\u001B[0m \u001B[38;5;124;03m    If low_memory_mode==True, the function will not apply erosion and subsequent masked voronoi labeling to the mask.\u001B[39;00m\n\u001B[1;32m   (...)\u001B[0m\n\u001B[0;32m    160\u001B[0m \u001B[38;5;124;03m                    Otherwise, a connected component labeled mask.\u001B[39;00m\n\u001B[0;32m    161\u001B[0m \u001B[38;5;124;03m    \"\"\"\u001B[39;00m\n\u001B[1;32m--> 162\u001B[0m     sigma \u001B[38;5;241m=\u001B[39m settings\u001B[38;5;241m.\u001B[39mparticle_mask_sigma\n\u001B[0;32m    163\u001B[0m     n_erosions \u001B[38;5;241m=\u001B[39m settings\u001B[38;5;241m.\u001B[39mparticle_n_erosions\n\u001B[0;32m    164\u001B[0m     dilation_radius \u001B[38;5;241m=\u001B[39m settings\u001B[38;5;241m.\u001B[39mparticle_enlarge_radius\n",
      "\u001B[1;31mAttributeError\u001B[0m: 'NoneType' object has no attribute 'particle_mask_sigma'"
     ]
    }
   ],
   "execution_count": 4
  }
 ],
 "metadata": {
  "kernelspec": {
   "display_name": "Python 3",
   "language": "python",
   "name": "python3"
  },
  "language_info": {
   "codemirror_mode": {
    "name": "ipython",
    "version": 2
   },
   "file_extension": ".py",
   "mimetype": "text/x-python",
   "name": "python",
   "nbconvert_exporter": "python",
   "pygments_lexer": "ipython2",
   "version": "2.7.6"
  }
 },
 "nbformat": 4,
 "nbformat_minor": 5
}
