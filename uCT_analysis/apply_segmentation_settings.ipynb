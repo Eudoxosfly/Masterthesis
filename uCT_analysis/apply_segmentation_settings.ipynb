{
 "cells": [
  {
   "metadata": {
    "ExecuteTime": {
     "end_time": "2024-10-21T03:16:08.415956Z",
     "start_time": "2024-10-21T03:16:08.412096Z"
    }
   },
   "cell_type": "code",
   "source": [
    "from mt.scan import Scan\n",
    "import os"
   ],
   "id": "235ed9c497739f47",
   "outputs": [],
   "execution_count": 8
  },
  {
   "metadata": {
    "ExecuteTime": {
     "end_time": "2024-10-21T03:21:01.950091Z",
     "start_time": "2024-10-21T03:21:01.946303Z"
    }
   },
   "cell_type": "code",
   "source": [
    "path = \"../../04_uCT/\"\n",
    "folders = os.listdir(path)\n",
    "folders = [path + folder for folder in folders]\n",
    "print(folders)"
   ],
   "id": "62fdcc87f04b12ab",
   "outputs": [],
   "execution_count": 26
  },
  {
   "metadata": {
    "ExecuteTime": {
     "end_time": "2024-10-21T03:23:48.906394Z",
     "start_time": "2024-10-21T03:23:48.902497Z"
    }
   },
   "cell_type": "code",
   "source": [
    "def workflow(path):\n",
    "    scan = Scan(path + \"/\", downscale=True)\n",
    "    scan.load(logging=True)\n",
    "    \n",
    "    scan.segment()\n",
    "    scan.segment_particles()\n",
    "    scan.voronoi_tesselation()\n",
    "    \n",
    "    scan.save()\n",
    "    print(\"Saved to \" + path)\n",
    "    print(\"-\"*20)"
   ],
   "id": "977363bd7cd7b613",
   "outputs": [],
   "execution_count": 30
  },
  {
   "metadata": {
    "ExecuteTime": {
     "end_time": "2024-10-21T03:24:24.834320Z",
     "start_time": "2024-10-21T03:23:50.137176Z"
    }
   },
   "cell_type": "code",
   "source": [
    "for folder in folders:\n",
    "    workflow(folder)"
   ],
   "id": "dd3fddf592cc138c",
   "outputs": [
    {
     "name": "stdout",
     "output_type": "stream",
     "text": [
      "Loading pickled Scan object from: ../../06_Results/BA38/Scan.pkl\n",
      "Loading images from:  ../../04_uCT/BA38/Slices/\n",
      "Loaded stack with shape (1782, 2038, 278) and a size of 2.02 GB in 2.07 s.\n",
      "Loaded _mask from: ../../06_Results/BA38/_mask.npy\n",
      "Loaded _particle_mask from: ../../06_Results/BA38/_particle_mask.npy\n",
      "Loaded _tesselation from: ../../06_Results/BA38/_tesselation.npy\n",
      "Saved to ../../04_uCT/BA38\n",
      "--------------------\n",
      "Loading pickled Scan object from: ../../06_Results/BA37/Scan.pkl\n",
      "Loading images from:  ../../04_uCT/BA37/Slices/\n",
      "Loaded stack with shape (1782, 226, 2314) and a size of 1.86 GB in 1.66 s.\n",
      "Loaded _mask from: ../../06_Results/BA37/_mask.npy\n",
      "Loaded _particle_mask from: ../../06_Results/BA37/_particle_mask.npy\n",
      "Loaded _tesselation from: ../../06_Results/BA37/_tesselation.npy\n",
      "Saved to ../../04_uCT/BA37\n",
      "--------------------\n",
      "Loading pickled Scan object from: ../../06_Results/BA36/Scan.pkl\n",
      "Loading images from:  ../../04_uCT/BA36/Slices/\n",
      "Loaded stack with shape (1782, 246, 2249) and a size of 1.97 GB in 1.74 s.\n",
      "Loaded _mask from: ../../06_Results/BA36/_mask.npy\n",
      "Loaded _particle_mask from: ../../06_Results/BA36/_particle_mask.npy\n",
      "Loaded _tesselation from: ../../06_Results/BA36/_tesselation.npy\n",
      "Saved to ../../04_uCT/BA36\n",
      "--------------------\n"
     ]
    }
   ],
   "execution_count": 31
  }
 ],
 "metadata": {
  "kernelspec": {
   "display_name": "Python 3",
   "language": "python",
   "name": "python3"
  },
  "language_info": {
   "codemirror_mode": {
    "name": "ipython",
    "version": 2
   },
   "file_extension": ".py",
   "mimetype": "text/x-python",
   "name": "python",
   "nbconvert_exporter": "python",
   "pygments_lexer": "ipython2",
   "version": "2.7.6"
  }
 },
 "nbformat": 4,
 "nbformat_minor": 5
}
