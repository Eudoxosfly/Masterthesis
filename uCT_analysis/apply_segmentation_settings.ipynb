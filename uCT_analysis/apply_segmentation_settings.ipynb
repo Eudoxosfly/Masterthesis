{
 "cells": [
  {
   "metadata": {
    "ExecuteTime": {
     "end_time": "2024-10-21T03:05:55.768242Z",
     "start_time": "2024-10-21T03:05:55.765352Z"
    }
   },
   "cell_type": "code",
   "source": [
    "from mt.scan import Scan\n",
    "import os"
   ],
   "id": "235ed9c497739f47",
   "outputs": [],
   "execution_count": 7
  },
  {
   "metadata": {},
   "cell_type": "code",
   "outputs": [],
   "execution_count": null,
   "source": "folders = os.listdir()",
   "id": "62fdcc87f04b12ab"
  },
  {
   "metadata": {},
   "cell_type": "code",
   "outputs": [],
   "execution_count": null,
   "source": [
    "def workflow(path):\n",
    "    scan = Scan(path, downscale=False)\n",
    "    scan.load(logging=True)\n",
    "    \n",
    "    scan.segment()\n",
    "    scan.segment_particles()\n",
    "    scan.voronoi_tesselation()\n",
    "    \n",
    "    scan.save()"
   ],
   "id": "977363bd7cd7b613"
  },
  {
   "metadata": {},
   "cell_type": "code",
   "outputs": [],
   "execution_count": null,
   "source": [
    "for folder in folders:\n",
    "    workflow(folder)"
   ],
   "id": "dd3fddf592cc138c"
  }
 ],
 "metadata": {
  "kernelspec": {
   "display_name": "Python 3",
   "language": "python",
   "name": "python3"
  },
  "language_info": {
   "codemirror_mode": {
    "name": "ipython",
    "version": 2
   },
   "file_extension": ".py",
   "mimetype": "text/x-python",
   "name": "python",
   "nbconvert_exporter": "python",
   "pygments_lexer": "ipython2",
   "version": "2.7.6"
  }
 },
 "nbformat": 4,
 "nbformat_minor": 5
}
