{
 "cells": [
  {
   "metadata": {
    "ExecuteTime": {
     "end_time": "2024-11-01T14:37:02.795186Z",
     "start_time": "2024-11-01T14:36:58.848441Z"
    }
   },
   "cell_type": "code",
   "source": [
    "from mt.scan import Scan\n",
    "import os"
   ],
   "id": "235ed9c497739f47",
   "outputs": [],
   "execution_count": 1
  },
  {
   "metadata": {},
   "cell_type": "markdown",
   "source": [
    "# Application of segmentation settings to the entire scan\n",
    "This script is used to load the segmentation settings, segment the entire scan, and save the results."
   ],
   "id": "c9fb17d2dda4b5bf"
  },
  {
   "metadata": {
    "ExecuteTime": {
     "end_time": "2024-11-01T14:37:03.746156Z",
     "start_time": "2024-11-01T14:37:03.740316Z"
    }
   },
   "cell_type": "code",
   "source": [
    "path = \"../../04_uCT/\"\n",
    "folders = os.listdir(path)\n",
    "folders = [path + folder for folder in folders]\n",
    "print(folders)"
   ],
   "id": "62fdcc87f04b12ab",
   "outputs": [
    {
     "name": "stdout",
     "output_type": "stream",
     "text": [
      "['../../04_uCT/AB01', '../../04_uCT/AB01_top', '../../04_uCT/AC03', '../../04_uCT/AC04', '../../04_uCT/AC08', '../../04_uCT/AC11', '../../04_uCT/AC14', '../../04_uCT/AC15', '../../04_uCT/AD00', '../../04_uCT/AD01', '../../04_uCT/AD02', '../../04_uCT/AD06', '../../04_uCT/AD07', '../../04_uCT/AD08', '../../04_uCT/AD09', '../../04_uCT/AD10', '../../04_uCT/AD12', '../../04_uCT/AD14', '../../04_uCT/AD15', '../../04_uCT/AD16', '../../04_uCT/AD17', '../../04_uCT/AD18', '../../04_uCT/AD19', '../../04_uCT/AD20', '../../04_uCT/AD21', '../../04_uCT/AD28', '../../04_uCT/AD29', '../../04_uCT/AD31', '../../04_uCT/AD32', '../../04_uCT/AD33', '../../04_uCT/AD36', '../../04_uCT/AD38', '../../04_uCT/AD40', '../../04_uCT/AD42', '../../04_uCT/AD43', '../../04_uCT/AD45', '../../04_uCT/AD48', '../../04_uCT/AD50', '../../04_uCT/AD51', '../../04_uCT/AD52', '../../04_uCT/AD63', '../../04_uCT/AD64', '../../04_uCT/AD64_broken', '../../04_uCT/AD66', '../../04_uCT/AD67', '../../04_uCT/AD68', '../../04_uCT/AD76', '../../04_uCT/AD77', '../../04_uCT/AD86', '../../04_uCT/AD89', '../../04_uCT/BA05', '../../04_uCT/BA07', '../../04_uCT/BA09', '../../04_uCT/BA36', '../../04_uCT/BA37', '../../04_uCT/BA38', '../../04_uCT/BA75', '../../04_uCT/BA75_broken', '../../04_uCT/BA76_broken', '../../04_uCT/BA81', '../../04_uCT/Neuer Ordner']\n"
     ]
    }
   ],
   "execution_count": 2
  },
  {
   "metadata": {
    "ExecuteTime": {
     "end_time": "2024-10-25T11:00:18.298004Z",
     "start_time": "2024-10-25T11:00:18.294663Z"
    }
   },
   "cell_type": "code",
   "source": [
    "for folder in folders:\n",
    "    scan = Scan(folder + \"/\", downscale=False)\n",
    "    scan.load(logging=True)\n",
    "\n",
    "    scan.segment()\n",
    "    scan.segment_particles()\n",
    "    scan.voronoi_tesselation()\n",
    "\n",
    "    scan.calculate_properties()\n",
    "\n",
    "    scan.save(logging=True)\n",
    "    print(\"-\"*20)"
   ],
   "id": "977363bd7cd7b613",
   "outputs": [],
   "execution_count": 3
  }
 ],
 "metadata": {
  "kernelspec": {
   "display_name": "Python 3",
   "language": "python",
   "name": "python3"
  },
  "language_info": {
   "codemirror_mode": {
    "name": "ipython",
    "version": 2
   },
   "file_extension": ".py",
   "mimetype": "text/x-python",
   "name": "python",
   "nbconvert_exporter": "python",
   "pygments_lexer": "ipython2",
   "version": "2.7.6"
  }
 },
 "nbformat": 4,
 "nbformat_minor": 5
}
