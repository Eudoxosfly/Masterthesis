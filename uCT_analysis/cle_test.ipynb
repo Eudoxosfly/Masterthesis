{
 "cells": [
  {
   "cell_type": "code",
   "id": "initial_id",
   "metadata": {
    "collapsed": true,
    "ExecuteTime": {
     "end_time": "2024-09-12T20:33:46.855118Z",
     "start_time": "2024-09-12T20:33:45.002998Z"
    }
   },
   "source": [
    "\n",
    "import scipy.ndimage\n",
    "%load_ext autoreload\n",
    "%autoreload 2\n",
    "\n",
    "import napari\n",
    "import pyclesperanto as cle\n",
    "from magicgui import magicgui\n",
    "from napari.types import ImageData, LabelsData\n",
    "import matplotlib.pyplot as plt\n",
    "from mt.utils import load_scan, contact_area\n",
    "import skimage\n",
    "import scipy\n",
    "\n",
    "cle.select_device(\"RTX\")\n",
    "import cv2"
   ],
   "outputs": [],
   "execution_count": 1
  },
  {
   "metadata": {
    "ExecuteTime": {
     "end_time": "2024-09-15T11:59:33.550852Z",
     "start_time": "2024-09-15T11:59:32.877382Z"
    }
   },
   "cell_type": "code",
   "source": [
    "def _segment_particles(scan: ImageData,\n",
    "                       n_erosions: int = 0,\n",
    "                       sigma: float = 0.1,\n",
    "                       radius: int = 1) -> LabelsData:\n",
    "    mask = cle.eroded_otsu_labeling(input_image=scan,\n",
    "                                    number_of_erosions=n_erosions,\n",
    "                                    outline_sigma=sigma)\n",
    "    # mask = cle.dilate_labels(input_image=mask,\n",
    "    #                          radius=radius)\n",
    "    cle.mask(input_image=mask, output_image=mask, mask=mask)\n",
    "    return mask\n",
    "\n",
    "from skimage.filters import threshold_multiotsu\n",
    "import numpy as np\n",
    "\n",
    "\n",
    "@magicgui(auto_call=True)\n",
    "def segment_particles(scan: ImageData,\n",
    "                      n_erosions: int = 2,\n",
    "                      sigma: float = 0.3,\n",
    "                      radius: int = 1) -> LabelsData:\n",
    "    mask = _segment_particles(scan, n_erosions, sigma, radius)\n",
    "    return mask\n",
    "\n",
    "\n",
    "# @magicgui(auto_call=True)\n",
    "def otsu(scan: ImageData,\n",
    "         otsu_sigma: float = 2.2,\n",
    "         particle_enlarge_radius: int = 1,\n",
    "         particle_mask_sigma: float = 0.1,\n",
    "         particle_erosions: int = 0,\n",
    "         smooth_labels_radius: int = 2) -> LabelsData:\n",
    "    \n",
    "    # create an empty mask array\n",
    "    mask = np.zeros_like(scan)\n",
    "    print(\"Starting particle segmentation\")\n",
    "    precise_particle_mask = cle.pull(_segment_particles(scan,\n",
    "                                               n_erosions=particle_erosions,\n",
    "                                               sigma=particle_mask_sigma,\n",
    "                                               radius=particle_enlarge_radius))\n",
    "\n",
    "    # apply a gaussian blur to the scan and put into RAM\n",
    "    im = cle.gaussian_blur(scan, sigma_x=otsu_sigma, sigma_y=otsu_sigma, sigma_z=otsu_sigma)\n",
    "    im = cle.pull(im)\n",
    "    print(\"Starting multiotsu thresholding\")\n",
    "    # apply skimage's multiotsu thresholding\n",
    "    thresholds = threshold_multiotsu(im, classes=3)\n",
    "    mask = np.where(im <= thresholds[0], 1, mask)\n",
    "    mask = np.where((im > thresholds[0]) & (im < thresholds[1]), 2, mask)\n",
    "    mask = np.where(im >= thresholds[1], 3, mask)\n",
    "    # apply the more precise particle segmentation over the threshold mask\n",
    "    mask = cle.np.where(precise_particle_mask,\n",
    "                        3,\n",
    "                        mask)\n",
    "    del im\n",
    "    mask = cle.smooth_labels(mask, radius=smooth_labels_radius)\n",
    "    return mask\n",
    "\n",
    "def reslice(scan: np.ndarray,\n",
    "            axis: tuple[int, int, int] = (0, 1, 2)) -> np.ndarray:\n",
    "    return np.transpose(scan, axis)\n",
    "            "
   ],
   "id": "28566240fe2bc4fa",
   "outputs": [
    {
     "ename": "NameError",
     "evalue": "name 'ImageData' is not defined",
     "output_type": "error",
     "traceback": [
      "\u001B[1;31m---------------------------------------------------------------------------\u001B[0m",
      "\u001B[1;31mNameError\u001B[0m                                 Traceback (most recent call last)",
      "Cell \u001B[1;32mIn[1], line 1\u001B[0m\n\u001B[1;32m----> 1\u001B[0m \u001B[38;5;28;01mdef\u001B[39;00m \u001B[38;5;21m_segment_particles\u001B[39m(scan: ImageData,\n\u001B[0;32m      2\u001B[0m                        n_erosions: \u001B[38;5;28mint\u001B[39m \u001B[38;5;241m=\u001B[39m \u001B[38;5;241m0\u001B[39m,\n\u001B[0;32m      3\u001B[0m                        sigma: \u001B[38;5;28mfloat\u001B[39m \u001B[38;5;241m=\u001B[39m \u001B[38;5;241m0.1\u001B[39m,\n\u001B[0;32m      4\u001B[0m                        radius: \u001B[38;5;28mint\u001B[39m \u001B[38;5;241m=\u001B[39m \u001B[38;5;241m1\u001B[39m) \u001B[38;5;241m-\u001B[39m\u001B[38;5;241m>\u001B[39m LabelsData:\n\u001B[0;32m      5\u001B[0m     mask \u001B[38;5;241m=\u001B[39m cle\u001B[38;5;241m.\u001B[39meroded_otsu_labeling(input_image\u001B[38;5;241m=\u001B[39mscan,\n\u001B[0;32m      6\u001B[0m                                     number_of_erosions\u001B[38;5;241m=\u001B[39mn_erosions,\n\u001B[0;32m      7\u001B[0m                                     outline_sigma\u001B[38;5;241m=\u001B[39msigma)\n\u001B[0;32m      8\u001B[0m     \u001B[38;5;66;03m# mask = cle.dilate_labels(input_image=mask,\u001B[39;00m\n\u001B[0;32m      9\u001B[0m     \u001B[38;5;66;03m#                          radius=radius)\u001B[39;00m\n",
      "\u001B[1;31mNameError\u001B[0m: name 'ImageData' is not defined"
     ]
    }
   ],
   "execution_count": 1
  },
  {
   "metadata": {
    "ExecuteTime": {
     "end_time": "2024-09-12T20:33:51.330985Z",
     "start_time": "2024-09-12T20:33:48.901586Z"
    }
   },
   "cell_type": "code",
   "source": [
    "path_scan = \"../../04_uCT/AD50/\"\n",
    "scan = load_scan(path_scan, logging=True)"
   ],
   "id": "b3105538ef53ec35",
   "outputs": [
    {
     "name": "stdout",
     "output_type": "stream",
     "text": [
      "Loading images from:  ../../04_uCT/AD50/Slices/\n",
      "Loaded stack with the shape (1780, 545, 2249) and a size of 4.36 GB in 2.36 s.\n"
     ]
    }
   ],
   "execution_count": 3
  },
  {
   "metadata": {
    "ExecuteTime": {
     "end_time": "2024-09-12T20:34:09.937505Z",
     "start_time": "2024-09-12T20:33:51.331990Z"
    }
   },
   "cell_type": "code",
   "source": [
    "scan = reslice(scan[:1000], (1, 0, 2))\n",
    "scan = scipy.ndimage.gaussian_filter(scan, sigma=2.2)"
   ],
   "id": "ae27bdb103c4c93f",
   "outputs": [],
   "execution_count": 4
  },
  {
   "metadata": {
    "ExecuteTime": {
     "end_time": "2024-09-12T20:34:24.346864Z",
     "start_time": "2024-09-12T20:34:09.938509Z"
    }
   },
   "cell_type": "code",
   "source": [
    "scan = reslice(scan[:1000], (1, 0, 2))\n",
    "scan_gpu = cle.push(scan)\n",
    "scan_gpu = cle.gaussian_blur(scan_gpu, sigma_x=2.2, sigma_y=2.2, sigma_z=2.2)\n",
    "scan = cle.pull(scan_gpu).astype(np.uint16)\n",
    "del scan_gpu"
   ],
   "id": "db4e22d540144642",
   "outputs": [],
   "execution_count": 5
  },
  {
   "metadata": {
    "jupyter": {
     "is_executing": true
    },
    "ExecuteTime": {
     "start_time": "2024-09-12T20:34:24.347872Z"
    }
   },
   "cell_type": "code",
   "source": [
    "im = cle.push(scan)\n",
    "min_intensity = cle.minimum_of_all_pixels(im)\n",
    "max_intensity = cle.maximum_of_all_pixels(im)\n",
    "hist = cle.histogram(im, min=min_intensity, max=max_intensity, nbins=max_intensity-min_intensity)\n",
    "hist_mem = cle.pull(hist)\n",
    "del im, hist\n",
    "t = skimage.filters.threshold_multiotsu(image=scan, hist=hist_mem, classes=3)\n",
    "t = t+min_intensity\n",
    "mask_hist = np.zeros_like(scan, dtype=np.uint8)\n",
    "mask_hist[scan <= t[0]] = 1\n",
    "mask_hist[(scan > t[0]) & (scan < t[1])] = 2\n",
    "mask_hist[scan >= t[1]] = 3\n",
    "\n"
   ],
   "id": "d59a566f170685be",
   "outputs": [],
   "execution_count": null
  },
  {
   "metadata": {
    "jupyter": {
     "is_executing": true
    }
   },
   "cell_type": "code",
   "source": "hist_skim = skimage.exposure.histogram(scan.astype(np.uint16))",
   "id": "c025fb1e7e4f820c",
   "outputs": [],
   "execution_count": null
  },
  {
   "metadata": {
    "jupyter": {
     "is_executing": true
    }
   },
   "cell_type": "code",
   "source": [
    "plt.plot(hist_skim[1], hist_skim[0])\n",
    "plt.plot(hist_mem)"
   ],
   "id": "3dc78bcb3d4348e8",
   "outputs": [],
   "execution_count": null
  },
  {
   "metadata": {
    "jupyter": {
     "is_executing": true
    }
   },
   "cell_type": "code",
   "source": [
    "t = skimage.filters.threshold_multiotsu(image=scan.astype(np.uint16), classes=3)\n",
    "mask = np.zeros_like(scan, dtype=np.uint8)\n",
    "mask[scan <= t[0]] = 1\n",
    "mask[(scan > t[0]) & (scan < t[1])] = 2\n",
    "mask[scan >= t[1]] = 3"
   ],
   "id": "153b58218f27fe4d",
   "outputs": [],
   "execution_count": null
  },
  {
   "metadata": {
    "jupyter": {
     "is_executing": true
    }
   },
   "cell_type": "code",
   "source": [
    "viewer = napari.Viewer()\n",
    "viewer.add_image(scan)\n",
    "viewer.add_labels(mask)\n",
    "viewer.add_labels(mask_hist)"
   ],
   "id": "a09e6e9e79fc073f",
   "outputs": [],
   "execution_count": null
  },
  {
   "metadata": {
    "jupyter": {
     "is_executing": true
    }
   },
   "cell_type": "code",
   "source": [
    "d = cle.list_operations()\n",
    "print(d)"
   ],
   "id": "6c9605ef4d859ab6",
   "outputs": [],
   "execution_count": null
  },
  {
   "metadata": {
    "jupyter": {
     "is_executing": true
    }
   },
   "cell_type": "code",
   "source": "cle.mask",
   "id": "5fc8ec0e550f6d9b",
   "outputs": [],
   "execution_count": null
  },
  {
   "metadata": {
    "jupyter": {
     "is_executing": true
    }
   },
   "cell_type": "code",
   "source": "seg_particle = _segment_particles(im)",
   "id": "b8dbac71c76c9cee",
   "outputs": [],
   "execution_count": null
  },
  {
   "metadata": {
    "jupyter": {
     "is_executing": true
    }
   },
   "cell_type": "code",
   "source": "plt.imshow(seg_particle)",
   "id": "5d5fddd6f0324f47",
   "outputs": [],
   "execution_count": null
  },
  {
   "metadata": {
    "jupyter": {
     "is_executing": true
    }
   },
   "cell_type": "code",
   "source": [
    "clahe = cv2.createCLAHE(clipLimit=2.0, tileGridSize=(8, 8))\n",
    "im = clahe.apply(im)\n",
    "img = cle.gaussian_blur(im, sigma_x=2.2, sigma_y=2.2, sigma_z=2.2)"
   ],
   "id": "89a1dc269531a9fa",
   "outputs": [],
   "execution_count": null
  },
  {
   "metadata": {
    "jupyter": {
     "is_executing": true
    }
   },
   "cell_type": "code",
   "source": "non_particle_image = np.ma.masked_array(img, mask=seg_particle)",
   "id": "e77b505901ad08a4",
   "outputs": [],
   "execution_count": null
  },
  {
   "metadata": {
    "jupyter": {
     "is_executing": true
    }
   },
   "cell_type": "code",
   "source": [
    "th = skimage.filters.threshold_otsu(cle.pull(img)[~seg_particle])\n",
    "th"
   ],
   "id": "d5c49a9ef808aaff",
   "outputs": [],
   "execution_count": null
  },
  {
   "metadata": {
    "jupyter": {
     "is_executing": true
    }
   },
   "cell_type": "code",
   "source": [
    "ths = skimage.filters.threshold_multiotsu(cle.pull(img), classes=3)\n",
    "ths"
   ],
   "id": "16af33f2f54954c5",
   "outputs": [],
   "execution_count": null
  },
  {
   "metadata": {
    "jupyter": {
     "is_executing": true
    }
   },
   "cell_type": "code",
   "source": [
    "binary_non_particle = img > th\n",
    "seg = img > ths[0]"
   ],
   "id": "b51012e2586760ce",
   "outputs": [],
   "execution_count": null
  },
  {
   "metadata": {
    "jupyter": {
     "is_executing": true
    }
   },
   "cell_type": "code",
   "source": "plt.imshow(img)",
   "id": "c724554672fa44f6",
   "outputs": [],
   "execution_count": null
  },
  {
   "metadata": {
    "jupyter": {
     "is_executing": true
    }
   },
   "cell_type": "code",
   "source": [
    "viewer = napari.Viewer()\n",
    "viewer.add_image(im)\n",
    "viewer.add_labels(seg)\n",
    "viewer.add_labels(binary_non_particle)"
   ],
   "id": "cfb87fcbdcd4722d",
   "outputs": [],
   "execution_count": null
  },
  {
   "metadata": {
    "jupyter": {
     "is_executing": true
    }
   },
   "cell_type": "code",
   "source": [
    "\n",
    "\n",
    "air_particle = contact_area(seg, 1, 3)\n",
    "polymer_particle = contact_area(seg, 2, 3)"
   ],
   "id": "e87b7cab84863800",
   "outputs": [],
   "execution_count": null
  },
  {
   "metadata": {
    "jupyter": {
     "is_executing": true
    }
   },
   "cell_type": "code",
   "source": [
    "total_particle_area = air_particle + polymer_particle\n",
    "\n",
    "print(\"Surface in contact with air: {:.2f} %\".format(air_particle / total_particle_area * 100))\n",
    "print(\"Surface in contact with polymer: {:.2f} %\".format(polymer_particle / total_particle_area * 100))"
   ],
   "id": "ab9f1c18a848d0bc",
   "outputs": [],
   "execution_count": null
  },
  {
   "metadata": {
    "jupyter": {
     "is_executing": true
    }
   },
   "cell_type": "code",
   "source": "",
   "id": "44999c6feb1bd273",
   "outputs": [],
   "execution_count": null
  }
 ],
 "metadata": {
  "kernelspec": {
   "display_name": "Python 3",
   "language": "python",
   "name": "python3"
  },
  "language_info": {
   "codemirror_mode": {
    "name": "ipython",
    "version": 2
   },
   "file_extension": ".py",
   "mimetype": "text/x-python",
   "name": "python",
   "nbconvert_exporter": "python",
   "pygments_lexer": "ipython2",
   "version": "2.7.6"
  }
 },
 "nbformat": 4,
 "nbformat_minor": 5
}
