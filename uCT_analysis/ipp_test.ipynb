{
 "cells": [
  {
   "cell_type": "code",
   "id": "initial_id",
   "metadata": {
    "collapsed": true,
    "ExecuteTime": {
     "end_time": "2024-09-07T18:21:47.866067Z",
     "start_time": "2024-09-07T18:21:47.584938Z"
    }
   },
   "source": [
    "# reload extension\n",
    "%load_ext autoreload\n",
    "%autoreload 2\n",
    "\n",
    "from processingPipe import ImageProcessingPipe\n",
    "import napari\n",
    "from skimage.io import imread\n",
    "from magicgui import magicgui\n",
    "from napari.types import ImageData, LabelsData\n",
    "import pyclesperanto_prototype as cle"
   ],
   "outputs": [
    {
     "name": "stdout",
     "output_type": "stream",
     "text": [
      "The autoreload extension is already loaded. To reload it, use:\n",
      "  %reload_ext autoreload\n"
     ]
    }
   ],
   "execution_count": 86
  },
  {
   "metadata": {
    "ExecuteTime": {
     "end_time": "2024-09-07T18:26:25.649579Z",
     "start_time": "2024-09-07T18:26:23.917480Z"
    }
   },
   "cell_type": "code",
   "source": [
    "image = imread(\"test.tif\")\n",
    "cle.select_device(\"RTX\")"
   ],
   "id": "64d3fff4ecc05c5",
   "outputs": [
    {
     "data": {
      "text/plain": [
       "<NVIDIA GeForce RTX 3060 Laptop GPU on Platform: NVIDIA CUDA (1 refs)>"
      ]
     },
     "execution_count": 100,
     "metadata": {},
     "output_type": "execute_result"
    }
   ],
   "execution_count": 100
  },
  {
   "metadata": {
    "ExecuteTime": {
     "end_time": "2024-09-07T18:32:50.376157Z",
     "start_time": "2024-09-07T18:32:50.066007Z"
    }
   },
   "cell_type": "code",
   "source": [
    "@magicgui(auto_call=True)\n",
    "def process_image(img: ImageData, \n",
    "                  h: float = 1, \n",
    "                  patch_size: int = 7, \n",
    "                  window_size: int = 21, \n",
    "                  lower_thresh: int = 0, \n",
    "                  upper_thresh: int = 70) -> LabelsData:\n",
    "    pipe = ImageProcessingPipe()\n",
    "    pipe.create([(\"downscale_2x\", {}),\n",
    "                 # (\"gaussian_blur\", {\"ksize\": (blur_size, blur_size), \"sigmaX\": sigma}),\n",
    "                 (\"to_8bit\", {}),\n",
    "                 (\"nlm_blur\", {\"h\": h, \"templateWindowSize\": patch_size, \"searchWindowSize\": window_size}),\n",
    "                 (\"threshold_between\", {\"lower\": lower_thresh, \"upper\": upper_thresh}),\n",
    "                 (\"upscale_2x\", {}),\n",
    "                 # (\"dilate\", {\"ksize\": (ksize, ksize)}),\n",
    "\n",
    "                 ])\n",
    "    pipe.run(img)\n",
    "    img = pipe.results[6].image\n",
    "    # img = cle.connected_components_labeling_box(img)\n",
    "    return img\n",
    "\n",
    "# process_image(image)"
   ],
   "id": "a96f439edbb9490",
   "outputs": [],
   "execution_count": 107
  },
  {
   "metadata": {
    "ExecuteTime": {
     "end_time": "2024-09-07T18:28:39.916460Z",
     "start_time": "2024-09-07T18:28:39.618861Z"
    }
   },
   "cell_type": "code",
   "source": [
    "from processingPipe import *\n",
    "@magicgui(auto_call=True)\n",
    "def process_image(img: ImageData,\n",
    "                  h: float = 1,\n",
    "                  patch_size: int = 7,\n",
    "                  window_size: int = 21,\n",
    "                  lower_thresh: int = 0,\n",
    "                  upper_thresh: int = 70) -> LabelsData:\n",
    "    img = downscale_2x(img)\n",
    "    img = to_8bit(img)\n",
    "    img = nlm_blur(img, {\"h\": h, \"templateWindowSize\": patch_size, \"searchWindowSize\": window_size})\n",
    "    thresholded = threshold_between(img, {\"lower\": lower_thresh, \"upper\": upper_thresh})\n",
    "    img = upscale_2x(thresholded)\n",
    "    # img = cle.connected_components_labeling_box(img)\n",
    "    return img"
   ],
   "id": "dc54acb75ffb778",
   "outputs": [],
   "execution_count": 105
  },
  {
   "metadata": {
    "ExecuteTime": {
     "end_time": "2024-09-07T18:32:55.042175Z",
     "start_time": "2024-09-07T18:32:52.475067Z"
    }
   },
   "cell_type": "code",
   "source": [
    "# start up napari\n",
    "# @magicgui(auto_call=True)\n",
    "# def process_image(image_input: ImageData, sigma: float = 2) -> LabelsData:\n",
    "#     if input is not None:\n",
    "#         # process the image\n",
    "#         blurred = cle.gaussian_blur(image_input, sigma_x=sigma, sigma_y=sigma)\n",
    "#         binary = cle.threshold_otsu(blurred)\n",
    "#         labels = cle.connected_components_labeling_box(binary)\n",
    "\n",
    "        # return labels\n",
    "viewer = napari.Viewer()\n",
    "viewer.add_image(image, name='blobs')\n",
    "\n",
    "# generate a Graphical User Interface from the function above magically\n",
    "viewer.window.add_dock_widget(process_image)"
   ],
   "id": "4683aebd3d676759",
   "outputs": [
    {
     "data": {
      "text/plain": [
       "<napari._qt.widgets.qt_viewer_dock_widget.QtViewerDockWidget at 0x13cde02e5f0>"
      ]
     },
     "execution_count": 108,
     "metadata": {},
     "output_type": "execute_result"
    }
   ],
   "execution_count": 108
  }
 ],
 "metadata": {
  "kernelspec": {
   "display_name": "Python 3",
   "language": "python",
   "name": "python3"
  },
  "language_info": {
   "codemirror_mode": {
    "name": "ipython",
    "version": 2
   },
   "file_extension": ".py",
   "mimetype": "text/x-python",
   "name": "python",
   "nbconvert_exporter": "python",
   "pygments_lexer": "ipython2",
   "version": "2.7.6"
  }
 },
 "nbformat": 4,
 "nbformat_minor": 5
}
