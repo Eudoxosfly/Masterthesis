{
 "cells": [
  {
   "metadata": {
    "ExecuteTime": {
     "end_time": "2024-08-13T11:55:43.303228Z",
     "start_time": "2024-08-13T11:55:42.775191Z"
    }
   },
   "cell_type": "code",
   "source": [
    "import numpy as np\n",
    "import pandas as pd\n",
    "from sklearn.linear_model import LinearRegression\n",
    "import matplotlib.pyplot as plt\n",
    "import numpy as np"
   ],
   "id": "9a420f42fe677f77",
   "outputs": [],
   "execution_count": 1
  },
  {
   "metadata": {},
   "cell_type": "markdown",
   "source": "# Laser settings",
   "id": "852bb93d87175dc6"
  },
  {
   "metadata": {},
   "cell_type": "markdown",
   "source": [
    "Pattern, where the laser is permanently on and writes rows with a high level of overlap.\n",
    "\n",
    "$$s=v*t \\Leftrightarrow t = \\frac{s}{v}$$ \n",
    "$$ s= a*t^2 \\Leftrightarrow t = \\sqrt{\\frac{s}{a}}$$ where $s=a*t$, therefore $a = \\frac{v^2}{s}$\n",
    "\n"
   ],
   "id": "2c8b5638d9312b2e"
  },
  {
   "metadata": {},
   "cell_type": "markdown",
   "source": "",
   "id": "f98acc8f30e90e10"
  },
  {
   "metadata": {
    "ExecuteTime": {
     "end_time": "2024-08-13T11:55:43.311254Z",
     "start_time": "2024-08-13T11:55:43.304236Z"
    }
   },
   "cell_type": "code",
   "source": [
    "SPEED = 30 # mm/s\n",
    "INTERVAL = 0.05 # mm\n",
    "SPOT_SIZE = 2 # mm\n",
    "sample_width = 10 # mm\n",
    "\n",
    "time_on = SPOT_SIZE/SPEED\n",
    "time_off_average = sample_width/SPEED\n",
    "\n",
    "passes = SPOT_SIZE/INTERVAL\n",
    "# speed_up_time_pass = np.sqrt()\n",
    "# time_multi_pass = passes * time_single_pass\n",
    "\n",
    "\n",
    "\n",
    "print(\"Time for a single pass: \", time_on, \"s\")\n",
    "print(\"Time off average: \", time_off_average, \"s\")\n",
    "# print(\"Time for a multi pass: \", time_multi_pass, \"s\")\n",
    "print(passes)"
   ],
   "id": "58e37d12acd454d",
   "outputs": [
    {
     "name": "stdout",
     "output_type": "stream",
     "text": [
      "Time for a single pass:  0.06666666666666667 s\n",
      "Time off average:  0.3333333333333333 s\n",
      "40.0\n"
     ]
    }
   ],
   "execution_count": 2
  },
  {
   "metadata": {},
   "cell_type": "markdown",
   "source": "Way too many passes with very long cooling time. Basically, every pass had to start anew melting the PMMA. This resulted in barely embedded particles at speeds where the laser was fast enough to not just instantly evaporate the PMMA.",
   "id": "2796d08245a943a7"
  },
  {
   "metadata": {},
   "cell_type": "markdown",
   "source": "## Pulsed laser",
   "id": "15c766a0bca35db3"
  },
  {
   "metadata": {},
   "cell_type": "markdown",
   "source": "This pattern consists of a dashed line, where the laser is on for the length of the line and off for the length of the gap between the lines. Because the g0 speed cannot be directly controlled, the amount of time the laser is off, cannot be regulated. Furthermore, as the laser moves faster over the areas where there is no line, the cooling time is actually shorter than the heating time.",
   "id": "1edf8ef4d453110d"
  },
  {
   "metadata": {
    "ExecuteTime": {
     "end_time": "2024-08-13T11:55:43.319420Z",
     "start_time": "2024-08-13T11:55:43.313264Z"
    }
   },
   "cell_type": "code",
   "source": [
    "# with lightburn pattern\n",
    "g1 = 6 # mm/s\n",
    "g0 = 12 # mm/s\n",
    "on_line = 0.2 # mm\n",
    "off_line = 0.2 # mm\n",
    "spot_length = 2.8 # mm\n",
    "\n",
    "time_on = on_line/g1\n",
    "passes = spot_length/(on_line+off_line)\n",
    "time_off = off_line/g0\n",
    "total_on = time_on * passes\n",
    "\n",
    "print(\"Time on: \", time_on, \"s\")\n",
    "print(\"Time off: \", time_off, \"s\")\n",
    "print(\"Passes: \", passes)\n",
    "print(\"Total on: \", total_on, \"s\")"
   ],
   "id": "1620198a2d8922d6",
   "outputs": [
    {
     "name": "stdout",
     "output_type": "stream",
     "text": [
      "Time on:  0.03333333333333333 s\n",
      "Time off:  0.016666666666666666 s\n",
      "Passes:  6.999999999999999\n",
      "Total on:  0.2333333333333333 s\n"
     ]
    }
   ],
   "execution_count": 3
  },
  {
   "metadata": {},
   "cell_type": "markdown",
   "source": "The extracted on and off times from above were used as the starting point for further experiments with a function generator. The focus distance was changed between the two, so the results are not directly comparable.",
   "id": "d03e44cd1e81d924"
  },
  {
   "metadata": {
    "ExecuteTime": {
     "end_time": "2024-08-13T12:09:42.234503Z",
     "start_time": "2024-08-13T12:09:42.229754Z"
    }
   },
   "cell_type": "code",
   "source": [
    "from utils import get_func_gen_settings\n",
    "on_time = 0.030 # s\n",
    "off_time = 2*on_time # s\n",
    "passes = 5\n",
    "focus_distance = 45 # mm\n",
    "\n",
    "_ = get_func_gen_settings(on_time, off_time, passes, focus_distance, print_settings=True, legacy=False)\n",
    "\n"
   ],
   "id": "9a99ec2261fbbd42",
   "outputs": [
    {
     "name": "stdout",
     "output_type": "stream",
     "text": [
      "Settings:\n",
      "Set on time: 30 ms\n",
      "Set off time: 60 ms\n",
      "Cycles: 5\n",
      "--------------------\n",
      "Speed: 6.1 mm/s\n",
      "Frequency: 11.17 Hz\n",
      "Duty cycle: 33 %\n",
      "Total time over spot: 0.45 s\n",
      "Equivalent energy: 0.84 J/mm^2\n",
      "--------------------\n",
      "Actual on time: 30 ms\n",
      "Total on time: 149 ms\n",
      "Actual off time: 60 ms\n",
      "Total off time: 298 ms\n"
     ]
    }
   ],
   "execution_count": 10
  },
  {
   "metadata": {},
   "cell_type": "markdown",
   "source": [
    "7, 9, 3 passes 30 ms\n",
    "\n",
    "90 ms pulsen 5x\n",
    "90 ms pulsen 3x\n",
    "25 3x, 90 5x\n",
    "\n",
    "\n",
    "    (variation der auszeit\n",
    "    25 ms, 5 passes, 1 s off\n",
    "    on 25 ms, no off)\n",
    "  \n",
    "variation of focus distance\n",
    "\n"
   ],
   "id": "8cd9c73fde24173c"
  },
  {
   "metadata": {
    "ExecuteTime": {
     "end_time": "2024-08-13T11:55:43.927287Z",
     "start_time": "2024-08-13T11:55:43.441772Z"
    }
   },
   "cell_type": "code",
   "source": [
    "distances = [10, 20, 30, 40, 50]\n",
    "x_width = [0.3, 0.61, 1.11, 1.77, 2.21]\n",
    "y_width = [0.39, 0.85, 1.41, 2.2, 3.35]\n",
    "\n",
    "\n",
    "\n",
    "x = np.array(distances).reshape(-1, 1)\n",
    "x_fine = np.linspace(-30, 60, 100).reshape(-1, 1)\n",
    "x_width = np.array(x_width).reshape(-1, 1)\n",
    "y_width = np.array(y_width).reshape(-1, 1)\n",
    "\n",
    "model_x = LinearRegression()\n",
    "model_x.fit(x, x_width)\n",
    "y_pred_x = model_x.predict(x_fine)\n",
    "\n",
    "model_y = LinearRegression()\n",
    "model_y.fit(x, y_width)\n",
    "y_pred_y = model_y.predict(x_fine)\n",
    "\n",
    "model_y2 = LinearRegression()\n",
    "model_y2.fit(x[:-1], y_width[:-1])\n",
    "x_fine_2 = x_fine[x_fine<40].reshape(-1, 1)\n",
    "y_pred_y2 = model_y2.predict(x_fine_2)\n",
    "\n",
    "model_y3 = LinearRegression()\n",
    "model_y3.fit(x[:-2], y_width[:-2])\n",
    "x_fine_3 = x_fine[x_fine<30].reshape(-1, 1)\n",
    "y_pred_y3 = model_y3.predict(x_fine_3)\n",
    "\n",
    "\n",
    "fig, axs = plt.subplots(1, 1, figsize=(6, 6))\n",
    "axs.plot(x, x_width, 'o', color='red')\n",
    "axs.plot(x, y_width, 'o', color='blue')\n",
    "axs.plot(x_fine, y_pred_x, color='red')\n",
    "# axs.plot(x_fine, y_pred_y, color='green')\n",
    "axs.plot(x_fine_2, y_pred_y2, color='blue')\n",
    "# axs.plot(x_fine_3, y_pred_y3, color='purple')\n",
    "axs.set_xlabel(\"focus distance in mm\")\n",
    "axs.set_ylabel(\"width in mm\")\n",
    "axs.legend([\"spot size x\", \"spot size y\"])\n",
    "plt.savefig(\"focus_distance.png\", dpi=300)\n",
    "plt.show()\n"
   ],
   "id": "558a03165fab2bb8",
   "outputs": [
    {
     "data": {
      "text/plain": [
       "<Figure size 600x600 with 1 Axes>"
      ],
      "image/png": "[encoded data removed]"
     },
     "metadata": {},
     "output_type": "display_data"
    }
   ],
   "execution_count": 5
  },
  {
   "metadata": {
    "ExecuteTime": {
     "end_time": "2024-08-13T11:59:57.677358Z",
     "start_time": "2024-08-13T11:59:57.671098Z"
    }
   },
   "cell_type": "code",
   "source": [
    "from utils import get_spot_size\n",
    "\n",
    "get_spot_size(45)"
   ],
   "id": "cec711bdb6b9a4e6",
   "outputs": [
    {
     "data": {
      "text/plain": [
       "(np.float64(1.95), np.float64(2.73))"
      ]
     },
     "execution_count": 8,
     "metadata": {},
     "output_type": "execute_result"
    }
   ],
   "execution_count": 8
  }
 ],
 "metadata": {
  "kernelspec": {
   "display_name": "Python 3",
   "language": "python",
   "name": "python3"
  },
  "language_info": {
   "codemirror_mode": {
    "name": "ipython",
    "version": 2
   },
   "file_extension": ".py",
   "mimetype": "text/x-python",
   "name": "python",
   "nbconvert_exporter": "python",
   "pygments_lexer": "ipython2",
   "version": "2.7.6"
  }
 },
 "nbformat": 4,
 "nbformat_minor": 5
}
