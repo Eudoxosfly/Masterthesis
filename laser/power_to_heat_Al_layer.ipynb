{
 "cells": [
  {
   "metadata": {},
   "cell_type": "markdown",
   "source": [
    "To calculate the power necessary to heat the Al layer, the following is assumed:\n",
    "$$ \\Delta Q = \\frac{m * c * \\Delta T}{\\eta}$$\n",
    "$$ m = \\rho * V = \\rho * l*b*h*\\rho_{filling} $$\n",
    "$$ Q = p * t $$\n",
    "Therefore, the time to reach the melting point of PMMA ($\\Delta T$) is:\n",
    "$$ t = \\frac{m * c * \\Delta T}{p}  = \\frac{l*b*h*\\rho*\\rho_{filling}*c*\\Delta T}{p\\eta}$$\n",
    "where $\\eta$ is the part of the light that reaches the Al layer and $\\rho_{filling}$ is the volume of the plane that is filled with Al.\n",
    "\n"
   ],
   "id": "4995289bbb45a3a6"
  },
  {
   "metadata": {},
   "cell_type": "code",
   "outputs": [
    {
     "name": "stdout",
     "output_type": "stream",
     "text": [
      "Time to reach the melting point of PMMA at a nominal power of 20 W:  2.4609375 s\n"
     ]
    }
   ],
   "execution_count": 98,
   "source": [
    "# Constants\n",
    "delta_T = 160 # deg C, melting point of PMMA\n",
    "p = 20 # W, power of the lamp\n",
    "c = 900 # J/kgK, specific heat of Al\n",
    "rho = 2700 # kg/m^3, density of Al\n",
    "rho_filling = 0.7 # filling factor for the plane is assumed to be 70 %, probably lower in reality\n",
    "l = 25e-3 # m, length of the Al layer\n",
    "b = 12.5e-3 # m, width of the Al layer\n",
    "h = 100e-6 # m, height of the Al layer\n",
    "\n",
    "\n",
    "\n",
    "alpha = 0.6 # percent of light reaching the lab slide\n",
    "beta = 0.6 # percent of light passing the glass slide\n",
    "gamma = 0.6 # percent of light passing the PMMA\n",
    "delta = 0.8 # percent of light being absorbed by the Al layer\n",
    "\n",
    "\n",
    "# Calculations\n",
    "eta = alpha*beta*gamma*delta\n",
    "# eta = 1 # part of the power that reaches the Al (losses at interfaces, focusing, etc.)\n",
    "m = l*b*h*rho*rho_filling\n",
    "t = m*c*delta_T/p/eta\n",
    "print(\"Time to reach the melting point of PMMA at a nominal power of {} W: \".format(p), t, \"s\")"
   ],
   "id": "724ddb30dbcb9abe"
  }
 ],
 "metadata": {
  "kernelspec": {
   "display_name": "Python 3",
   "language": "python",
   "name": "python3"
  },
  "language_info": {
   "codemirror_mode": {
    "name": "ipython",
    "version": 2
   },
   "file_extension": ".py",
   "mimetype": "text/x-python",
   "name": "python",
   "nbconvert_exporter": "python",
   "pygments_lexer": "ipython2",
   "version": "2.7.6"
  }
 },
 "nbformat": 4,
 "nbformat_minor": 5
}
